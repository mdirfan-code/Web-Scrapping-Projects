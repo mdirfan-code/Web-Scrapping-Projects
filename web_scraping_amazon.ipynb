{
 "cells": [
  {
   "cell_type": "markdown",
   "metadata": {},
   "source": [
    "# Data Engineering Project"
   ]
  },
  {
   "cell_type": "code",
   "execution_count": 2,
   "metadata": {},
   "outputs": [
    {
     "name": "stdout",
     "output_type": "stream",
     "text": [
      "Requirement already satisfied: bs4 in /home/mdirfan-code/.local/lib/python3.8/site-packages (0.0.1)\n",
      "Requirement already satisfied: requests in /home/mdirfan-code/.local/lib/python3.8/site-packages (2.28.1)\n",
      "Requirement already satisfied: pandas in /home/mdirfan-code/.local/lib/python3.8/site-packages (1.3.5)\n",
      "Requirement already satisfied: beautifulsoup4 in /home/mdirfan-code/.local/lib/python3.8/site-packages (from bs4) (4.11.1)\n",
      "Requirement already satisfied: urllib3<1.27,>=1.21.1 in /usr/lib/python3/dist-packages (from requests) (1.25.8)\n",
      "Requirement already satisfied: charset-normalizer<3,>=2 in /home/mdirfan-code/.local/lib/python3.8/site-packages (from requests) (2.1.0)\n",
      "Requirement already satisfied: idna<4,>=2.5 in /usr/lib/python3/dist-packages (from requests) (2.8)\n",
      "Requirement already satisfied: certifi>=2017.4.17 in /usr/lib/python3/dist-packages (from requests) (2019.11.28)\n",
      "Requirement already satisfied: python-dateutil>=2.7.3 in /home/mdirfan-code/.local/lib/python3.8/site-packages (from pandas) (2.8.2)\n",
      "Requirement already satisfied: numpy>=1.17.3; platform_machine != \"aarch64\" and platform_machine != \"arm64\" and python_version < \"3.10\" in /home/mdirfan-code/.local/lib/python3.8/site-packages (from pandas) (1.21.4)\n",
      "Requirement already satisfied: pytz>=2017.3 in /home/mdirfan-code/.local/lib/python3.8/site-packages (from pandas) (2021.3)\n",
      "Requirement already satisfied: soupsieve>1.2 in /home/mdirfan-code/.local/lib/python3.8/site-packages (from beautifulsoup4->bs4) (2.3.2.post1)\n",
      "Requirement already satisfied: six>=1.5 in /usr/lib/python3/dist-packages (from python-dateutil>=2.7.3->pandas) (1.14.0)\n"
     ]
    }
   ],
   "source": [
    "!pip install bs4 requests pandas\n"
   ]
  },
  {
   "cell_type": "code",
   "execution_count": 63,
   "metadata": {},
   "outputs": [],
   "source": [
    "from bs4 import BeautifulSoup\n",
    "import requests\n",
    "import pandas as pd\n",
    "import numpy as np"
   ]
  },
  {
   "cell_type": "markdown",
   "metadata": {},
   "source": [
    "### Figuring all the tags and attrigbutes we are going to need for scrapping data"
   ]
  },
  {
   "cell_type": "code",
   "execution_count": 64,
   "metadata": {},
   "outputs": [],
   "source": [
    "URL = \"https://www.amazon.in/s?k=gcp+professional+data+engineering+books&crid=3M8UI1BF4LLQ&sprefix=data+engineering+book%2Caps%2C374&ref=nb_sb_ss_ts-doa-p_1_21\"\n"
   ]
  },
  {
   "cell_type": "code",
   "execution_count": 65,
   "metadata": {},
   "outputs": [],
   "source": [
    "# https://www.whatismybrowser.com\n",
    "\n",
    "Headers = {'User-Agent':'','Accept-Language':'en-US, en;q=0.5'}"
   ]
  },
  {
   "cell_type": "code",
   "execution_count": 67,
   "metadata": {},
   "outputs": [
    {
     "data": {
      "text/plain": [
       "<Response [200]>"
      ]
     },
     "execution_count": 67,
     "metadata": {},
     "output_type": "execute_result"
    }
   ],
   "source": [
    "htmlpage = requests.get(URL,headers=Headers)\n",
    "htmlpage"
   ]
  },
  {
   "cell_type": "code",
   "execution_count": 68,
   "metadata": {},
   "outputs": [],
   "source": [
    "mySoup = BeautifulSoup(htmlpage.content,'html.parser')"
   ]
  },
  {
   "cell_type": "code",
   "execution_count": 70,
   "metadata": {},
   "outputs": [],
   "source": [
    "links = mySoup.findAll('a',attrs={'class':'a-link-normal s-underline-text s-underline-link-text s-link-style a-text-normal'})"
   ]
  },
  {
   "cell_type": "code",
   "execution_count": 71,
   "metadata": {},
   "outputs": [],
   "source": [
    "link = links[0].get('href')"
   ]
  },
  {
   "cell_type": "code",
   "execution_count": 72,
   "metadata": {},
   "outputs": [
    {
     "data": {
      "text/plain": [
       "'https://www.amazon.com/Official-Google-Certified-Professional-Engineer/dp/1119618436/ref=sr_1_1?crid=3M8UI1BF4LLQ&keywords=gcp+professional+data+engineering+books&qid=1689145504&sprefix=data+engineering+book%2Caps%2C374&sr=8-1'"
      ]
     },
     "execution_count": 72,
     "metadata": {},
     "output_type": "execute_result"
    }
   ],
   "source": [
    "product_link = \"https://www.amazon.com\" + link\n",
    "product_link"
   ]
  },
  {
   "cell_type": "code",
   "execution_count": 81,
   "metadata": {},
   "outputs": [],
   "source": [
    "new_webpage = requests.get(product_link,headers=Headers)"
   ]
  },
  {
   "cell_type": "code",
   "execution_count": 115,
   "metadata": {},
   "outputs": [
    {
     "data": {
      "text/plain": [
       "200"
      ]
     },
     "execution_count": 115,
     "metadata": {},
     "output_type": "execute_result"
    }
   ],
   "source": [
    "new_webpage.status_code"
   ]
  },
  {
   "cell_type": "code",
   "execution_count": 173,
   "metadata": {},
   "outputs": [],
   "source": [
    "new_soup = BeautifulSoup(new_webpage.content,'html.parser')"
   ]
  },
  {
   "cell_type": "code",
   "execution_count": 84,
   "metadata": {},
   "outputs": [
    {
     "data": {
      "text/plain": [
       "'Official Google Cloud Certified Professional Data Engineer Study Guide'"
      ]
     },
     "execution_count": 84,
     "metadata": {},
     "output_type": "execute_result"
    }
   ],
   "source": [
    "new_soup.find('span',attrs={'id':'productTitle'}).text.strip()"
   ]
  },
  {
   "cell_type": "code",
   "execution_count": 85,
   "metadata": {},
   "outputs": [
    {
     "data": {
      "text/plain": [
       "'$33.49'"
      ]
     },
     "execution_count": 85,
     "metadata": {},
     "output_type": "execute_result"
    }
   ],
   "source": [
    "new_soup.find('span',attrs={'id':'price'}).text.strip()"
   ]
  },
  {
   "cell_type": "code",
   "execution_count": 100,
   "metadata": {},
   "outputs": [
    {
     "data": {
      "text/plain": [
       "'4.5 out of 5 stars'"
      ]
     },
     "execution_count": 100,
     "metadata": {},
     "output_type": "execute_result"
    }
   ],
   "source": [
    "new_soup.find('span',attrs={'id':'acrPopover'}).find('span',attrs = {'class':'a-icon-alt'}).text"
   ]
  },
  {
   "cell_type": "code",
   "execution_count": 102,
   "metadata": {},
   "outputs": [
    {
     "data": {
      "text/plain": [
       "'208 ratings'"
      ]
     },
     "execution_count": 102,
     "metadata": {},
     "output_type": "execute_result"
    }
   ],
   "source": [
    "new_soup.find('span',attrs={'id':'acrCustomerReviewText'}).text"
   ]
  },
  {
   "cell_type": "code",
   "execution_count": 104,
   "metadata": {},
   "outputs": [
    {
     "data": {
      "text/plain": [
       "'In Stock'"
      ]
     },
     "execution_count": 104,
     "metadata": {},
     "output_type": "execute_result"
    }
   ],
   "source": [
    "new_soup.find('div',attrs={'id':'availability'}).find('span',attrs={'class':'a-size-medium a-color-success'}).text.strip()"
   ]
  },
  {
   "cell_type": "markdown",
   "metadata": {},
   "source": [
    "### Systemetic code \n",
    "--------------------"
   ]
  },
  {
   "cell_type": "markdown",
   "metadata": {},
   "source": [
    "- ##### Utility Functions"
   ]
  },
  {
   "cell_type": "code",
   "execution_count": 105,
   "metadata": {},
   "outputs": [],
   "source": [
    "def get_title(soup):\n",
    "    \"\"\"\n",
    "    This function scrapes the title of the product.\n",
    "    \"\"\"\n",
    "\n",
    "    try:\n",
    "        product_title = soup.find('span',attrs={'id':'productTitle'}).text.strip()\n",
    "    except AttributeError:\n",
    "        product_title = \"\"\n",
    "\n",
    "    return product_title\n",
    "\n",
    "def get_price(soup):\n",
    "    \"\"\"\n",
    "    This function scrapes the price of the product.\n",
    "    \"\"\" \n",
    "\n",
    "    try:\n",
    "        product_price = soup.find('span',attrs={'id':'price'}).text.strip()\n",
    "    except AttributeError:\n",
    "        product_price = \"\"\n",
    "\n",
    "    return product_price\n",
    "\n",
    "def get_rating(soup):\n",
    "    \"\"\"\n",
    "    This function scrapes the rating out of 5 stars.\n",
    "    \"\"\"\n",
    "\n",
    "    try:\n",
    "        product_rating = soup.find('span',attrs={'id':'acrPopover'}).find('span',attrs = {'class':'a-icon-alt'}).text\n",
    "    except AttributeError:\n",
    "        product_rating = \"\"\n",
    "\n",
    "    return product_rating\n",
    "\n",
    "def get_review_count(soup):\n",
    "    \"\"\"\n",
    "    This function scrapes the reviews count.\n",
    "    \"\"\"\n",
    "\n",
    "    try:\n",
    "        product_review_count = soup.find('span',attrs={'id':'acrCustomerReviewText'}).text\n",
    "    except AttributeError:\n",
    "        product_review_count = ''\n",
    "\n",
    "    return product_review_count\n",
    "\n",
    "def get_availability(soup):\n",
    "    \"\"\"\n",
    "    This function  \n",
    "    \"\"\"\n",
    "\n",
    "    try:\n",
    "        product_availability = soup.find('div',attrs={'id':'availability'}).find('span',attrs={'class':'a-size-medium a-color-success'}).text.strip()\n",
    "    except:\n",
    "        product_availability = ''\n",
    "        \n",
    "    return product_availability\n",
    "        "
   ]
  },
  {
   "cell_type": "markdown",
   "metadata": {},
   "source": [
    "- ##### Initializing Attributes"
   ]
  },
  {
   "cell_type": "code",
   "execution_count": 155,
   "metadata": {},
   "outputs": [],
   "source": [
    "import os\n",
    "from dotenv import load_dotenv\n",
    "\n",
    "\n",
    "load_dotenv('/mnt/d/code/data-engineering-projects/Web-Scrapping-Project/.env')\n",
    "\n",
    "# Headers to request\n",
    "HEADERS = ({'User-Agent':os.getenv('USER_AGENT'), 'Accept-Language': 'en-US, en;q=0.5'})\n",
    "\n",
    "# The webpage URL\n",
    "URL = \"https://www.amazon.in/s?k=headphones&page=\""
   ]
  },
  {
   "cell_type": "markdown",
   "metadata": {},
   "source": [
    "- ##### Fetching the HTML Web Pages "
   ]
  },
  {
   "cell_type": "code",
   "execution_count": 167,
   "metadata": {},
   "outputs": [
    {
     "name": "stdout",
     "output_type": "stream",
     "text": [
      "200\n",
      "503\n",
      "503\n",
      "200\n",
      "200\n",
      "503\n",
      "503\n",
      "503\n",
      "503\n",
      "200\n",
      "200\n",
      "503\n",
      "200\n",
      "503\n",
      "503\n",
      "200\n",
      "503\n",
      "503\n",
      "503\n"
     ]
    },
    {
     "data": {
      "text/plain": [
       "[<Response [200]>,\n",
       " <Response [200]>,\n",
       " <Response [200]>,\n",
       " <Response [200]>,\n",
       " <Response [200]>,\n",
       " <Response [200]>,\n",
       " <Response [200]>]"
      ]
     },
     "execution_count": 167,
     "metadata": {},
     "output_type": "execute_result"
    }
   ],
   "source": [
    "webpages = []\n",
    "\n",
    "# HTTP Request\n",
    "for i in range(1,20):\n",
    "    webpage = requests.get(URL+str(i), headers=HEADERS)\n",
    "    if webpage.status_code == 200:\n",
    "        webpages.append(webpage)\n",
    "    print(webpage.status_code)\n",
    "\n",
    "webpages\n"
   ]
  },
  {
   "cell_type": "markdown",
   "metadata": {},
   "source": [
    "- ##### Creating BeautifulSoup object for parsing webpage"
   ]
  },
  {
   "cell_type": "code",
   "execution_count": 168,
   "metadata": {},
   "outputs": [
    {
     "data": {
      "text/plain": [
       "[<a class=\"a-link-normal s-no-outline\" href=\"/Official-Google-Certified-Professional-Engineer/dp/1119618436/ref=sr_1_1?crid=3M8UI1BF4LLQ&amp;keywords=gcp+professional+data+engineering+books&amp;qid=1689155655&amp;sprefix=data+engineering+book%2Caps%2C374&amp;sr=8-1\" target=\"_blank\"><div class=\"a-section aok-relative s-image-fixed-height\"><img alt=\"GOOGLE CLOUD CERTIFIED PROFESSIONAL DATA\" class=\"s-image\" data-image-index=\"1\" data-image-latency=\"s-product-image\" data-image-load=\"\" data-image-source-density=\"1\" src=\"https://m.media-amazon.com/images/I/71rBrgbl9YL._AC_UY218_.jpg\" srcset=\"https://m.media-amazon.com/images/I/71rBrgbl9YL._AC_UY218_.jpg 1x, https://m.media-amazon.com/images/I/71rBrgbl9YL._AC_UY327_QL65_.jpg 1.5x, https://m.media-amazon.com/images/I/71rBrgbl9YL._AC_UY436_QL65_.jpg 2x, https://m.media-amazon.com/images/I/71rBrgbl9YL._AC_UY545_QL65_.jpg 2.5x, https://m.media-amazon.com/images/I/71rBrgbl9YL._AC_UY654_QL65_.jpg 3x\"/></div></a>,\n",
       " <a class=\"a-link-normal s-no-outline\" href=\"/Google-Cloud-Platform-Data-Engineering-ebook/dp/B07ZGB4F7T/ref=sr_1_2?crid=3M8UI1BF4LLQ&amp;keywords=gcp+professional+data+engineering+books&amp;qid=1689155655&amp;sprefix=data+engineering+book%2Caps%2C374&amp;sr=8-2\" target=\"_blank\"><div class=\"a-section aok-relative s-image-fixed-height\"><img alt=\"Google Cloud Platform for Data Engineering: Learn fundamental to advanced data engineering concepts and techniques using 3...\" class=\"s-image\" data-image-index=\"2\" data-image-latency=\"s-product-image\" data-image-load=\"\" data-image-source-density=\"1\" src=\"https://m.media-amazon.com/images/I/81-VWRmyLpL._AC_UY218_.jpg\" srcset=\"https://m.media-amazon.com/images/I/81-VWRmyLpL._AC_UY218_.jpg 1x, https://m.media-amazon.com/images/I/81-VWRmyLpL._AC_UY327_QL65_.jpg 1.5x, https://m.media-amazon.com/images/I/81-VWRmyLpL._AC_UY436_QL65_.jpg 2x, https://m.media-amazon.com/images/I/81-VWRmyLpL._AC_UY545_QL65_.jpg 2.5x, https://m.media-amazon.com/images/I/81-VWRmyLpL._AC_UY654_QL65_.jpg 3x\"/></div></a>,\n",
       " <a class=\"a-link-normal s-no-outline\" href=\"/Data-Engineering-Google-Cloud-Platform/dp/1800561326/ref=sr_1_3?crid=3M8UI1BF4LLQ&amp;keywords=gcp+professional+data+engineering+books&amp;qid=1689155655&amp;sprefix=data+engineering+book%2Caps%2C374&amp;sr=8-3\" target=\"_blank\"><div class=\"a-section aok-relative s-image-fixed-height\"><img alt=\"Data Engineering with Google Cloud Platform: A practical guide to operationalizing scalable data analytics systems on GCP\" class=\"s-image\" data-image-index=\"3\" data-image-latency=\"s-product-image\" data-image-load=\"\" data-image-source-density=\"1\" src=\"https://m.media-amazon.com/images/I/6154jQ0IUSL._AC_UY218_.jpg\" srcset=\"https://m.media-amazon.com/images/I/6154jQ0IUSL._AC_UY218_.jpg 1x, https://m.media-amazon.com/images/I/6154jQ0IUSL._AC_UY327_QL65_.jpg 1.5x, https://m.media-amazon.com/images/I/6154jQ0IUSL._AC_UY436_QL65_.jpg 2x, https://m.media-amazon.com/images/I/6154jQ0IUSL._AC_UY545_QL65_.jpg 2.5x, https://m.media-amazon.com/images/I/6154jQ0IUSL._AC_UY654_QL65_.jpg 3x\"/></div></a>,\n",
       " <a class=\"a-link-normal s-no-outline\" href=\"/Google-Professional-Engineer-Certification-Incredibly-ebook/dp/B0B4XW1Q9R/ref=sr_1_4?crid=3M8UI1BF4LLQ&amp;keywords=gcp+professional+data+engineering+books&amp;qid=1689155655&amp;sprefix=data+engineering+book%2Caps%2C374&amp;sr=8-4\" target=\"_blank\"><div class=\"a-section aok-relative s-image-fixed-height\"><img alt=\"Pass Google Cloud Professional Data Engineer Certification- An Incredibly Easy Method: Questions and Answers With Detailed...\" class=\"s-image\" data-image-index=\"4\" data-image-latency=\"s-product-image\" data-image-load=\"\" data-image-source-density=\"1\" src=\"https://m.media-amazon.com/images/I/61QeD+wYS-L._AC_UY218_.jpg\" srcset=\"https://m.media-amazon.com/images/I/61QeD+wYS-L._AC_UY218_.jpg 1x, https://m.media-amazon.com/images/I/61QeD+wYS-L._AC_UY327_QL65_.jpg 1.5x, https://m.media-amazon.com/images/I/61QeD+wYS-L._AC_UY436_QL65_.jpg 2x, https://m.media-amazon.com/images/I/61QeD+wYS-L._AC_UY545_QL65_.jpg 2.5x, https://m.media-amazon.com/images/I/61QeD+wYS-L._AC_UY654_QL65_.jpg 3x\"/></div></a>,\n",
       " <a class=\"a-link-normal s-no-outline\" href=\"/professional-engineer-mondaishu-mogimondaisyu-Japanese-ebook/dp/B09RHX4NQ4/ref=sr_1_5?crid=3M8UI1BF4LLQ&amp;keywords=gcp+professional+data+engineering+books&amp;qid=1689155655&amp;sprefix=data+engineering+book%2Caps%2C374&amp;sr=8-5\" target=\"_blank\"><div class=\"a-section aok-relative s-image-fixed-height\"><img alt=\"google cloud professional data engineer mogi mondaishu cloud nintei mogimondaisyu series (Japanese Edition)\" class=\"s-image\" data-image-index=\"5\" data-image-latency=\"s-product-image\" data-image-load=\"\" data-image-source-density=\"1\" src=\"https://m.media-amazon.com/images/I/61vue-HLxRL._AC_UY218_.jpg\" srcset=\"https://m.media-amazon.com/images/I/61vue-HLxRL._AC_UY218_.jpg 1x, https://m.media-amazon.com/images/I/61vue-HLxRL._AC_UY327_QL65_.jpg 1.5x, https://m.media-amazon.com/images/I/61vue-HLxRL._AC_UY436_QL65_.jpg 2x, https://m.media-amazon.com/images/I/61vue-HLxRL._AC_UY545_QL65_.jpg 2.5x, https://m.media-amazon.com/images/I/61vue-HLxRL._AC_UY654_QL65_.jpg 3x\"/></div></a>,\n",
       " <a class=\"a-link-normal s-no-outline\" href=\"/GOOGLE-PROFESSIONAL-DATA-ENGINEER-developing-ebook/dp/B08KPXSXH8/ref=sr_1_6?crid=3M8UI1BF4LLQ&amp;keywords=gcp+professional+data+engineering+books&amp;qid=1689155655&amp;sprefix=data+engineering+book%2Caps%2C374&amp;sr=8-6\" target=\"_blank\"><div class=\"a-section aok-relative s-image-fixed-height\"><img alt=\"GOOGLE PROFESSIONAL DATA ENGINEER: A handy guide to designing, developing, and managing engineer data solutions\" class=\"s-image\" data-image-index=\"6\" data-image-latency=\"s-product-image\" data-image-load=\"\" data-image-source-density=\"1\" src=\"https://m.media-amazon.com/images/I/71Ot+pfhG-L._AC_UY218_.jpg\" srcset=\"https://m.media-amazon.com/images/I/71Ot+pfhG-L._AC_UY218_.jpg 1x, https://m.media-amazon.com/images/I/71Ot+pfhG-L._AC_UY327_QL65_.jpg 1.5x, https://m.media-amazon.com/images/I/71Ot+pfhG-L._AC_UY436_QL65_.jpg 2x, https://m.media-amazon.com/images/I/71Ot+pfhG-L._AC_UY545_QL65_.jpg 2.5x, https://m.media-amazon.com/images/I/71Ot+pfhG-L._AC_UY654_QL65_.jpg 3x\"/></div></a>,\n",
       " <a class=\"a-link-normal s-no-outline\" href=\"/Professional-Cloud-Architect-Certification-enterprise-grade/dp/1838555277/ref=sr_1_7?crid=3M8UI1BF4LLQ&amp;keywords=gcp+professional+data+engineering+books&amp;qid=1689155655&amp;sprefix=data+engineering+book%2Caps%2C374&amp;sr=8-7\" target=\"_blank\"><div class=\"a-section aok-relative s-image-fixed-height\"><img alt=\"Professional Cloud Architect – Google Cloud Certification Guide: A handy guide to designing, developing, and managing ente...\" class=\"s-image\" data-image-index=\"7\" data-image-latency=\"s-product-image\" data-image-load=\"\" data-image-source-density=\"1\" src=\"https://m.media-amazon.com/images/I/710qkafpKGL._AC_UY218_.jpg\" srcset=\"https://m.media-amazon.com/images/I/710qkafpKGL._AC_UY218_.jpg 1x, https://m.media-amazon.com/images/I/710qkafpKGL._AC_UY327_QL65_.jpg 1.5x, https://m.media-amazon.com/images/I/710qkafpKGL._AC_UY436_QL65_.jpg 2x, https://m.media-amazon.com/images/I/710qkafpKGL._AC_UY545_QL65_.jpg 2.5x, https://m.media-amazon.com/images/I/710qkafpKGL._AC_UY654_QL65_.jpg 3x\"/></div></a>,\n",
       " <a class=\"a-link-normal s-no-outline\" href=\"/Succeed-Google-Professional-Engineer-Certification-ebook/dp/B0B4YGDHG8/ref=sr_1_8?crid=3M8UI1BF4LLQ&amp;keywords=gcp+professional+data+engineering+books&amp;qid=1689155655&amp;sprefix=data+engineering+book%2Caps%2C374&amp;sr=8-8\" target=\"_blank\"><div class=\"a-section aok-relative s-image-fixed-height\"><img alt=\"Succeed With Google Cloud Professional Data Engineer Certification Guide That Works For All: Questions and Answers With De...\" class=\"s-image\" data-image-index=\"8\" data-image-latency=\"s-product-image\" data-image-load=\"\" data-image-source-density=\"1\" src=\"https://m.media-amazon.com/images/I/61hZPH2DK8L._AC_UY218_.jpg\" srcset=\"https://m.media-amazon.com/images/I/61hZPH2DK8L._AC_UY218_.jpg 1x, https://m.media-amazon.com/images/I/61hZPH2DK8L._AC_UY327_QL65_.jpg 1.5x, https://m.media-amazon.com/images/I/61hZPH2DK8L._AC_UY436_QL65_.jpg 2x, https://m.media-amazon.com/images/I/61hZPH2DK8L._AC_UY545_QL65_.jpg 2.5x, https://m.media-amazon.com/images/I/61hZPH2DK8L._AC_UY654_QL65_.jpg 3x\"/></div></a>,\n",
       " <a class=\"a-link-normal s-no-outline\" href=\"/Google-Certified-Professional-Data-Engineer-ebook/dp/B09XR7CXNS/ref=sr_1_9?crid=3M8UI1BF4LLQ&amp;keywords=gcp+professional+data+engineering+books&amp;qid=1689155655&amp;sprefix=data+engineering+book%2Caps%2C374&amp;sr=8-9\" target=\"_blank\"><div class=\"a-section aok-relative s-image-fixed-height\"><img alt=\"Google Certified Professional Data Engineer: Exam Cram Notes: First Edition - 2022\" class=\"s-image\" data-image-index=\"9\" data-image-latency=\"s-product-image\" data-image-load=\"\" data-image-source-density=\"1\" src=\"https://m.media-amazon.com/images/I/61IJGxs-VrL._AC_UY218_.jpg\" srcset=\"https://m.media-amazon.com/images/I/61IJGxs-VrL._AC_UY218_.jpg 1x, https://m.media-amazon.com/images/I/61IJGxs-VrL._AC_UY327_QL65_.jpg 1.5x, https://m.media-amazon.com/images/I/61IJGxs-VrL._AC_UY436_QL65_.jpg 2x, https://m.media-amazon.com/images/I/61IJGxs-VrL._AC_UY545_QL65_.jpg 2.5x, https://m.media-amazon.com/images/I/61IJGxs-VrL._AC_UY654_QL65_.jpg 3x\"/></div></a>,\n",
       " <a class=\"a-link-normal s-no-outline\" href=\"/GCP-Associate-Cloud-Engineer-Examination-ebook/dp/B09KVDJMYF/ref=sr_1_10?crid=3M8UI1BF4LLQ&amp;keywords=gcp+professional+data+engineering+books&amp;qid=1689155655&amp;sprefix=data+engineering+book%2Caps%2C374&amp;sr=8-10\" target=\"_blank\"><div class=\"a-section aok-relative s-image-fixed-height\"><img alt=\"GCP Associate Cloud Engineer - Question With Answer [All MCQ]: 100% Guarantee You Will Pass The Examination\" class=\"s-image\" data-image-index=\"10\" data-image-latency=\"s-product-image\" data-image-load=\"\" data-image-source-density=\"1\" src=\"https://m.media-amazon.com/images/I/714Qj44vehL._AC_UY218_.jpg\" srcset=\"https://m.media-amazon.com/images/I/714Qj44vehL._AC_UY218_.jpg 1x, https://m.media-amazon.com/images/I/714Qj44vehL._AC_UY327_QL65_.jpg 1.5x, https://m.media-amazon.com/images/I/714Qj44vehL._AC_UY436_QL65_.jpg 2x, https://m.media-amazon.com/images/I/714Qj44vehL._AC_UY545_QL65_.jpg 2.5x, https://m.media-amazon.com/images/I/714Qj44vehL._AC_UY654_QL65_.jpg 3x\"/></div></a>,\n",
       " <a class=\"a-link-normal s-no-outline\" href=\"/Analytics-Subhashini-Chellappan-Seema-Acharya/dp/812657951X/ref=sr_1_11?crid=3M8UI1BF4LLQ&amp;keywords=gcp+professional+data+engineering+books&amp;qid=1689155655&amp;sprefix=data+engineering+book%2Caps%2C374&amp;sr=8-11\" target=\"_blank\"><div class=\"a-section aok-relative s-image-fixed-height\"><img alt=\"Big Data and Analytics, 2ed | IM | BS | e\" class=\"s-image\" data-image-index=\"11\" data-image-latency=\"s-product-image\" data-image-load=\"\" data-image-source-density=\"1\" src=\"https://m.media-amazon.com/images/I/71Kxb8HIqqL._AC_UY218_.jpg\" srcset=\"https://m.media-amazon.com/images/I/71Kxb8HIqqL._AC_UY218_.jpg 1x, https://m.media-amazon.com/images/I/71Kxb8HIqqL._AC_UY327_QL65_.jpg 1.5x, https://m.media-amazon.com/images/I/71Kxb8HIqqL._AC_UY436_QL65_.jpg 2x, https://m.media-amazon.com/images/I/71Kxb8HIqqL._AC_UY545_QL65_.jpg 2.5x, https://m.media-amazon.com/images/I/71Kxb8HIqqL._AC_UY654_QL65_.jpg 3x\"/></div></a>,\n",
       " <a class=\"a-link-normal s-no-outline\" href=\"/BigQuery-Data-Warehousing-Managed-Analysis/dp/1484261852/ref=sr_1_12?crid=3M8UI1BF4LLQ&amp;keywords=gcp+professional+data+engineering+books&amp;qid=1689155655&amp;sprefix=data+engineering+book%2Caps%2C374&amp;sr=8-12\" target=\"_blank\"><div class=\"a-section aok-relative s-image-fixed-height\"><img alt=\"BigQuery for Data Warehousing: Managed Data Analysis in the Google Cloud\" class=\"s-image\" data-image-index=\"12\" data-image-latency=\"s-product-image\" data-image-load=\"\" data-image-source-density=\"1\" src=\"https://m.media-amazon.com/images/I/61YBQaE3TAL._AC_UY218_.jpg\" srcset=\"https://m.media-amazon.com/images/I/61YBQaE3TAL._AC_UY218_.jpg 1x, https://m.media-amazon.com/images/I/61YBQaE3TAL._AC_UY327_QL65_.jpg 1.5x, https://m.media-amazon.com/images/I/61YBQaE3TAL._AC_UY436_QL65_.jpg 2x, https://m.media-amazon.com/images/I/61YBQaE3TAL._AC_UY545_QL65_.jpg 2.5x, https://m.media-amazon.com/images/I/61YBQaE3TAL._AC_UY654_QL65_.jpg 3x\"/></div></a>,\n",
       " <a class=\"a-link-normal s-no-outline\" href=\"/Google-Cloud-Certified-Associate-Engineer/dp/1119871441/ref=sr_1_13?crid=3M8UI1BF4LLQ&amp;keywords=gcp+professional+data+engineering+books&amp;qid=1689155655&amp;sprefix=data+engineering+book%2Caps%2C374&amp;sr=8-13\" target=\"_blank\"><div class=\"a-section aok-relative s-image-fixed-height\"><img alt=\"Google Cloud Certified Associate Cloud Engineer St udy Guide, 2nd edition\" class=\"s-image\" data-image-index=\"13\" data-image-latency=\"s-product-image\" data-image-load=\"\" data-image-source-density=\"1\" src=\"https://m.media-amazon.com/images/I/81SwsFQk7rL._AC_UY218_.jpg\" srcset=\"https://m.media-amazon.com/images/I/81SwsFQk7rL._AC_UY218_.jpg 1x, https://m.media-amazon.com/images/I/81SwsFQk7rL._AC_UY327_QL65_.jpg 1.5x, https://m.media-amazon.com/images/I/81SwsFQk7rL._AC_UY436_QL65_.jpg 2x, https://m.media-amazon.com/images/I/81SwsFQk7rL._AC_UY545_QL65_.jpg 2.5x, https://m.media-amazon.com/images/I/81SwsFQk7rL._AC_UY654_QL65_.jpg 3x\"/></div></a>,\n",
       " <a class=\"a-link-normal s-no-outline\" href=\"/Build-Analytics-Google-Cloud-Platform/dp/9389423635/ref=sr_1_14?crid=3M8UI1BF4LLQ&amp;keywords=gcp+professional+data+engineering+books&amp;qid=1689155655&amp;sprefix=data+engineering+book%2Caps%2C374&amp;sr=8-14\" target=\"_blank\"><div class=\"a-section aok-relative s-image-fixed-height\"><img alt=\"Data Analytics with Google Cloud Platform\" class=\"s-image\" data-image-index=\"14\" data-image-latency=\"s-product-image\" data-image-load=\"\" data-image-source-density=\"1\" src=\"https://m.media-amazon.com/images/I/51UuVx7P5lL._AC_UY218_.jpg\" srcset=\"https://m.media-amazon.com/images/I/51UuVx7P5lL._AC_UY218_.jpg 1x, https://m.media-amazon.com/images/I/51UuVx7P5lL._AC_UY327_QL65_.jpg 1.5x, https://m.media-amazon.com/images/I/51UuVx7P5lL._AC_UY436_QL65_.jpg 2x, https://m.media-amazon.com/images/I/51UuVx7P5lL._AC_UY500_QL65_.jpg 2.2935x\"/></div></a>,\n",
       " <a class=\"a-link-normal s-no-outline\" href=\"/Software-Engineering-Ian-Sommerville/dp/9332582696/ref=sr_1_15?crid=3M8UI1BF4LLQ&amp;keywords=gcp+professional+data+engineering+books&amp;qid=1689155655&amp;sprefix=data+engineering+book%2Caps%2C374&amp;sr=8-15\" target=\"_blank\"><div class=\"a-section aok-relative s-image-fixed-height\"><img alt=\"Software Engineering, 10/e\" class=\"s-image\" data-image-index=\"15\" data-image-latency=\"s-product-image\" data-image-load=\"\" data-image-source-density=\"1\" src=\"https://m.media-amazon.com/images/I/81iXn5LPFiL._AC_UY218_.jpg\" srcset=\"https://m.media-amazon.com/images/I/81iXn5LPFiL._AC_UY218_.jpg 1x, https://m.media-amazon.com/images/I/81iXn5LPFiL._AC_UY327_QL65_.jpg 1.5x, https://m.media-amazon.com/images/I/81iXn5LPFiL._AC_UY436_QL65_.jpg 2x, https://m.media-amazon.com/images/I/81iXn5LPFiL._AC_UY545_QL65_.jpg 2.5x, https://m.media-amazon.com/images/I/81iXn5LPFiL._AC_UY654_QL65_.jpg 3x\"/></div></a>,\n",
       " <a class=\"a-link-normal s-no-outline\" href=\"/Writing-Managing-SOPs-Susanne-Prokscha-ebook/dp/B0116R42LS/ref=sr_1_16?crid=3M8UI1BF4LLQ&amp;keywords=gcp+professional+data+engineering+books&amp;qid=1689155655&amp;sprefix=data+engineering+book%2Caps%2C374&amp;sr=8-16\" target=\"_blank\"><div class=\"a-section aok-relative s-image-fixed-height\"><img alt=\"Writing and Managing SOPs for GCP\" class=\"s-image\" data-image-index=\"16\" data-image-latency=\"s-product-image\" data-image-load=\"\" data-image-source-density=\"1\" src=\"https://m.media-amazon.com/images/I/71MGiA2tZ5L._AC_UY218_.jpg\" srcset=\"https://m.media-amazon.com/images/I/71MGiA2tZ5L._AC_UY218_.jpg 1x, https://m.media-amazon.com/images/I/71MGiA2tZ5L._AC_UY327_QL65_.jpg 1.5x, https://m.media-amazon.com/images/I/71MGiA2tZ5L._AC_UY436_QL65_.jpg 2x, https://m.media-amazon.com/images/I/71MGiA2tZ5L._AC_UY545_QL65_.jpg 2.5x, https://m.media-amazon.com/images/I/71MGiA2tZ5L._AC_UY654_QL65_.jpg 3x\"/></div></a>,\n",
       " <a class=\"a-link-normal s-no-outline\" href=\"/Official-Google-Certified-Professional-Engineer/dp/1119618436/ref=sr_1_1?crid=3M8UI1BF4LLQ&amp;keywords=gcp+professional+data+engineering+books&amp;qid=1689155658&amp;sprefix=data+engineering+book%2Caps%2C374&amp;sr=8-1\" target=\"_blank\"><div class=\"a-section aok-relative s-image-fixed-height\"><img alt=\"GOOGLE CLOUD CERTIFIED PROFESSIONAL DATA\" class=\"s-image\" data-image-index=\"1\" data-image-latency=\"s-product-image\" data-image-load=\"\" data-image-source-density=\"1\" src=\"https://m.media-amazon.com/images/I/71rBrgbl9YL._AC_UY218_.jpg\" srcset=\"https://m.media-amazon.com/images/I/71rBrgbl9YL._AC_UY218_.jpg 1x, https://m.media-amazon.com/images/I/71rBrgbl9YL._AC_UY327_QL65_.jpg 1.5x, https://m.media-amazon.com/images/I/71rBrgbl9YL._AC_UY436_QL65_.jpg 2x, https://m.media-amazon.com/images/I/71rBrgbl9YL._AC_UY545_QL65_.jpg 2.5x, https://m.media-amazon.com/images/I/71rBrgbl9YL._AC_UY654_QL65_.jpg 3x\"/></div></a>,\n",
       " <a class=\"a-link-normal s-no-outline\" href=\"/Google-Cloud-Platform-Data-Engineering-ebook/dp/B07ZGB4F7T/ref=sr_1_2?crid=3M8UI1BF4LLQ&amp;keywords=gcp+professional+data+engineering+books&amp;qid=1689155658&amp;sprefix=data+engineering+book%2Caps%2C374&amp;sr=8-2\" target=\"_blank\"><div class=\"a-section aok-relative s-image-fixed-height\"><img alt=\"Google Cloud Platform for Data Engineering: Learn fundamental to advanced data engineering concepts and techniques using 3...\" class=\"s-image\" data-image-index=\"2\" data-image-latency=\"s-product-image\" data-image-load=\"\" data-image-source-density=\"1\" src=\"https://m.media-amazon.com/images/I/81-VWRmyLpL._AC_UY218_.jpg\" srcset=\"https://m.media-amazon.com/images/I/81-VWRmyLpL._AC_UY218_.jpg 1x, https://m.media-amazon.com/images/I/81-VWRmyLpL._AC_UY327_QL65_.jpg 1.5x, https://m.media-amazon.com/images/I/81-VWRmyLpL._AC_UY436_QL65_.jpg 2x, https://m.media-amazon.com/images/I/81-VWRmyLpL._AC_UY545_QL65_.jpg 2.5x, https://m.media-amazon.com/images/I/81-VWRmyLpL._AC_UY654_QL65_.jpg 3x\"/></div></a>,\n",
       " <a class=\"a-link-normal s-no-outline\" href=\"/Data-Engineering-Google-Cloud-Platform/dp/1800561326/ref=sr_1_3?crid=3M8UI1BF4LLQ&amp;keywords=gcp+professional+data+engineering+books&amp;qid=1689155658&amp;sprefix=data+engineering+book%2Caps%2C374&amp;sr=8-3\" target=\"_blank\"><div class=\"a-section aok-relative s-image-fixed-height\"><img alt=\"Data Engineering with Google Cloud Platform: A practical guide to operationalizing scalable data analytics systems on GCP\" class=\"s-image\" data-image-index=\"3\" data-image-latency=\"s-product-image\" data-image-load=\"\" data-image-source-density=\"1\" src=\"https://m.media-amazon.com/images/I/6154jQ0IUSL._AC_UY218_.jpg\" srcset=\"https://m.media-amazon.com/images/I/6154jQ0IUSL._AC_UY218_.jpg 1x, https://m.media-amazon.com/images/I/6154jQ0IUSL._AC_UY327_QL65_.jpg 1.5x, https://m.media-amazon.com/images/I/6154jQ0IUSL._AC_UY436_QL65_.jpg 2x, https://m.media-amazon.com/images/I/6154jQ0IUSL._AC_UY545_QL65_.jpg 2.5x, https://m.media-amazon.com/images/I/6154jQ0IUSL._AC_UY654_QL65_.jpg 3x\"/></div></a>,\n",
       " <a class=\"a-link-normal s-no-outline\" href=\"/Google-Professional-Engineer-Certification-Incredibly-ebook/dp/B0B4XW1Q9R/ref=sr_1_4?crid=3M8UI1BF4LLQ&amp;keywords=gcp+professional+data+engineering+books&amp;qid=1689155658&amp;sprefix=data+engineering+book%2Caps%2C374&amp;sr=8-4\" target=\"_blank\"><div class=\"a-section aok-relative s-image-fixed-height\"><img alt=\"Pass Google Cloud Professional Data Engineer Certification- An Incredibly Easy Method: Questions and Answers With Detailed...\" class=\"s-image\" data-image-index=\"4\" data-image-latency=\"s-product-image\" data-image-load=\"\" data-image-source-density=\"1\" src=\"https://m.media-amazon.com/images/I/61QeD+wYS-L._AC_UY218_.jpg\" srcset=\"https://m.media-amazon.com/images/I/61QeD+wYS-L._AC_UY218_.jpg 1x, https://m.media-amazon.com/images/I/61QeD+wYS-L._AC_UY327_QL65_.jpg 1.5x, https://m.media-amazon.com/images/I/61QeD+wYS-L._AC_UY436_QL65_.jpg 2x, https://m.media-amazon.com/images/I/61QeD+wYS-L._AC_UY545_QL65_.jpg 2.5x, https://m.media-amazon.com/images/I/61QeD+wYS-L._AC_UY654_QL65_.jpg 3x\"/></div></a>,\n",
       " <a class=\"a-link-normal s-no-outline\" href=\"/professional-engineer-mondaishu-mogimondaisyu-Japanese-ebook/dp/B09RHX4NQ4/ref=sr_1_5?crid=3M8UI1BF4LLQ&amp;keywords=gcp+professional+data+engineering+books&amp;qid=1689155658&amp;sprefix=data+engineering+book%2Caps%2C374&amp;sr=8-5\" target=\"_blank\"><div class=\"a-section aok-relative s-image-fixed-height\"><img alt=\"google cloud professional data engineer mogi mondaishu cloud nintei mogimondaisyu series (Japanese Edition)\" class=\"s-image\" data-image-index=\"5\" data-image-latency=\"s-product-image\" data-image-load=\"\" data-image-source-density=\"1\" src=\"https://m.media-amazon.com/images/I/61vue-HLxRL._AC_UY218_.jpg\" srcset=\"https://m.media-amazon.com/images/I/61vue-HLxRL._AC_UY218_.jpg 1x, https://m.media-amazon.com/images/I/61vue-HLxRL._AC_UY327_QL65_.jpg 1.5x, https://m.media-amazon.com/images/I/61vue-HLxRL._AC_UY436_QL65_.jpg 2x, https://m.media-amazon.com/images/I/61vue-HLxRL._AC_UY545_QL65_.jpg 2.5x, https://m.media-amazon.com/images/I/61vue-HLxRL._AC_UY654_QL65_.jpg 3x\"/></div></a>,\n",
       " <a class=\"a-link-normal s-no-outline\" href=\"/GOOGLE-PROFESSIONAL-DATA-ENGINEER-developing-ebook/dp/B08KPXSXH8/ref=sr_1_6?crid=3M8UI1BF4LLQ&amp;keywords=gcp+professional+data+engineering+books&amp;qid=1689155658&amp;sprefix=data+engineering+book%2Caps%2C374&amp;sr=8-6\" target=\"_blank\"><div class=\"a-section aok-relative s-image-fixed-height\"><img alt=\"GOOGLE PROFESSIONAL DATA ENGINEER: A handy guide to designing, developing, and managing engineer data solutions\" class=\"s-image\" data-image-index=\"6\" data-image-latency=\"s-product-image\" data-image-load=\"\" data-image-source-density=\"1\" src=\"https://m.media-amazon.com/images/I/71Ot+pfhG-L._AC_UY218_.jpg\" srcset=\"https://m.media-amazon.com/images/I/71Ot+pfhG-L._AC_UY218_.jpg 1x, https://m.media-amazon.com/images/I/71Ot+pfhG-L._AC_UY327_QL65_.jpg 1.5x, https://m.media-amazon.com/images/I/71Ot+pfhG-L._AC_UY436_QL65_.jpg 2x, https://m.media-amazon.com/images/I/71Ot+pfhG-L._AC_UY545_QL65_.jpg 2.5x, https://m.media-amazon.com/images/I/71Ot+pfhG-L._AC_UY654_QL65_.jpg 3x\"/></div></a>,\n",
       " <a class=\"a-link-normal s-no-outline\" href=\"/Professional-Cloud-Architect-Certification-enterprise-grade/dp/1838555277/ref=sr_1_7?crid=3M8UI1BF4LLQ&amp;keywords=gcp+professional+data+engineering+books&amp;qid=1689155658&amp;sprefix=data+engineering+book%2Caps%2C374&amp;sr=8-7\" target=\"_blank\"><div class=\"a-section aok-relative s-image-fixed-height\"><img alt=\"Professional Cloud Architect – Google Cloud Certification Guide: A handy guide to designing, developing, and managing ente...\" class=\"s-image\" data-image-index=\"7\" data-image-latency=\"s-product-image\" data-image-load=\"\" data-image-source-density=\"1\" src=\"https://m.media-amazon.com/images/I/710qkafpKGL._AC_UY218_.jpg\" srcset=\"https://m.media-amazon.com/images/I/710qkafpKGL._AC_UY218_.jpg 1x, https://m.media-amazon.com/images/I/710qkafpKGL._AC_UY327_QL65_.jpg 1.5x, https://m.media-amazon.com/images/I/710qkafpKGL._AC_UY436_QL65_.jpg 2x, https://m.media-amazon.com/images/I/710qkafpKGL._AC_UY545_QL65_.jpg 2.5x, https://m.media-amazon.com/images/I/710qkafpKGL._AC_UY654_QL65_.jpg 3x\"/></div></a>,\n",
       " <a class=\"a-link-normal s-no-outline\" href=\"/Succeed-Google-Professional-Engineer-Certification-ebook/dp/B0B4YGDHG8/ref=sr_1_8?crid=3M8UI1BF4LLQ&amp;keywords=gcp+professional+data+engineering+books&amp;qid=1689155658&amp;sprefix=data+engineering+book%2Caps%2C374&amp;sr=8-8\" target=\"_blank\"><div class=\"a-section aok-relative s-image-fixed-height\"><img alt=\"Succeed With Google Cloud Professional Data Engineer Certification Guide That Works For All: Questions and Answers With De...\" class=\"s-image\" data-image-index=\"8\" data-image-latency=\"s-product-image\" data-image-load=\"\" data-image-source-density=\"1\" src=\"https://m.media-amazon.com/images/I/61hZPH2DK8L._AC_UY218_.jpg\" srcset=\"https://m.media-amazon.com/images/I/61hZPH2DK8L._AC_UY218_.jpg 1x, https://m.media-amazon.com/images/I/61hZPH2DK8L._AC_UY327_QL65_.jpg 1.5x, https://m.media-amazon.com/images/I/61hZPH2DK8L._AC_UY436_QL65_.jpg 2x, https://m.media-amazon.com/images/I/61hZPH2DK8L._AC_UY545_QL65_.jpg 2.5x, https://m.media-amazon.com/images/I/61hZPH2DK8L._AC_UY654_QL65_.jpg 3x\"/></div></a>,\n",
       " <a class=\"a-link-normal s-no-outline\" href=\"/Google-Certified-Professional-Data-Engineer-ebook/dp/B09XR7CXNS/ref=sr_1_9?crid=3M8UI1BF4LLQ&amp;keywords=gcp+professional+data+engineering+books&amp;qid=1689155658&amp;sprefix=data+engineering+book%2Caps%2C374&amp;sr=8-9\" target=\"_blank\"><div class=\"a-section aok-relative s-image-fixed-height\"><img alt=\"Google Certified Professional Data Engineer: Exam Cram Notes: First Edition - 2022\" class=\"s-image\" data-image-index=\"9\" data-image-latency=\"s-product-image\" data-image-load=\"\" data-image-source-density=\"1\" src=\"https://m.media-amazon.com/images/I/61IJGxs-VrL._AC_UY218_.jpg\" srcset=\"https://m.media-amazon.com/images/I/61IJGxs-VrL._AC_UY218_.jpg 1x, https://m.media-amazon.com/images/I/61IJGxs-VrL._AC_UY327_QL65_.jpg 1.5x, https://m.media-amazon.com/images/I/61IJGxs-VrL._AC_UY436_QL65_.jpg 2x, https://m.media-amazon.com/images/I/61IJGxs-VrL._AC_UY545_QL65_.jpg 2.5x, https://m.media-amazon.com/images/I/61IJGxs-VrL._AC_UY654_QL65_.jpg 3x\"/></div></a>,\n",
       " <a class=\"a-link-normal s-no-outline\" href=\"/GCP-Associate-Cloud-Engineer-Examination-ebook/dp/B09KVDJMYF/ref=sr_1_10?crid=3M8UI1BF4LLQ&amp;keywords=gcp+professional+data+engineering+books&amp;qid=1689155658&amp;sprefix=data+engineering+book%2Caps%2C374&amp;sr=8-10\" target=\"_blank\"><div class=\"a-section aok-relative s-image-fixed-height\"><img alt=\"GCP Associate Cloud Engineer - Question With Answer [All MCQ]: 100% Guarantee You Will Pass The Examination\" class=\"s-image\" data-image-index=\"10\" data-image-latency=\"s-product-image\" data-image-load=\"\" data-image-source-density=\"1\" src=\"https://m.media-amazon.com/images/I/714Qj44vehL._AC_UY218_.jpg\" srcset=\"https://m.media-amazon.com/images/I/714Qj44vehL._AC_UY218_.jpg 1x, https://m.media-amazon.com/images/I/714Qj44vehL._AC_UY327_QL65_.jpg 1.5x, https://m.media-amazon.com/images/I/714Qj44vehL._AC_UY436_QL65_.jpg 2x, https://m.media-amazon.com/images/I/714Qj44vehL._AC_UY545_QL65_.jpg 2.5x, https://m.media-amazon.com/images/I/714Qj44vehL._AC_UY654_QL65_.jpg 3x\"/></div></a>,\n",
       " <a class=\"a-link-normal s-no-outline\" href=\"/Analytics-Subhashini-Chellappan-Seema-Acharya/dp/812657951X/ref=sr_1_11?crid=3M8UI1BF4LLQ&amp;keywords=gcp+professional+data+engineering+books&amp;qid=1689155658&amp;sprefix=data+engineering+book%2Caps%2C374&amp;sr=8-11\" target=\"_blank\"><div class=\"a-section aok-relative s-image-fixed-height\"><img alt=\"Big Data and Analytics, 2ed | IM | BS | e\" class=\"s-image\" data-image-index=\"11\" data-image-latency=\"s-product-image\" data-image-load=\"\" data-image-source-density=\"1\" src=\"https://m.media-amazon.com/images/I/71Kxb8HIqqL._AC_UY218_.jpg\" srcset=\"https://m.media-amazon.com/images/I/71Kxb8HIqqL._AC_UY218_.jpg 1x, https://m.media-amazon.com/images/I/71Kxb8HIqqL._AC_UY327_QL65_.jpg 1.5x, https://m.media-amazon.com/images/I/71Kxb8HIqqL._AC_UY436_QL65_.jpg 2x, https://m.media-amazon.com/images/I/71Kxb8HIqqL._AC_UY545_QL65_.jpg 2.5x, https://m.media-amazon.com/images/I/71Kxb8HIqqL._AC_UY654_QL65_.jpg 3x\"/></div></a>,\n",
       " <a class=\"a-link-normal s-no-outline\" href=\"/BigQuery-Data-Warehousing-Managed-Analysis/dp/1484261852/ref=sr_1_12?crid=3M8UI1BF4LLQ&amp;keywords=gcp+professional+data+engineering+books&amp;qid=1689155658&amp;sprefix=data+engineering+book%2Caps%2C374&amp;sr=8-12\" target=\"_blank\"><div class=\"a-section aok-relative s-image-fixed-height\"><img alt=\"BigQuery for Data Warehousing: Managed Data Analysis in the Google Cloud\" class=\"s-image\" data-image-index=\"12\" data-image-latency=\"s-product-image\" data-image-load=\"\" data-image-source-density=\"1\" src=\"https://m.media-amazon.com/images/I/61YBQaE3TAL._AC_UY218_.jpg\" srcset=\"https://m.media-amazon.com/images/I/61YBQaE3TAL._AC_UY218_.jpg 1x, https://m.media-amazon.com/images/I/61YBQaE3TAL._AC_UY327_QL65_.jpg 1.5x, https://m.media-amazon.com/images/I/61YBQaE3TAL._AC_UY436_QL65_.jpg 2x, https://m.media-amazon.com/images/I/61YBQaE3TAL._AC_UY545_QL65_.jpg 2.5x, https://m.media-amazon.com/images/I/61YBQaE3TAL._AC_UY654_QL65_.jpg 3x\"/></div></a>,\n",
       " <a class=\"a-link-normal s-no-outline\" href=\"/Google-Cloud-Certified-Associate-Engineer/dp/1119871441/ref=sr_1_13?crid=3M8UI1BF4LLQ&amp;keywords=gcp+professional+data+engineering+books&amp;qid=1689155658&amp;sprefix=data+engineering+book%2Caps%2C374&amp;sr=8-13\" target=\"_blank\"><div class=\"a-section aok-relative s-image-fixed-height\"><img alt=\"Google Cloud Certified Associate Cloud Engineer St udy Guide, 2nd edition\" class=\"s-image\" data-image-index=\"13\" data-image-latency=\"s-product-image\" data-image-load=\"\" data-image-source-density=\"1\" src=\"https://m.media-amazon.com/images/I/81SwsFQk7rL._AC_UY218_.jpg\" srcset=\"https://m.media-amazon.com/images/I/81SwsFQk7rL._AC_UY218_.jpg 1x, https://m.media-amazon.com/images/I/81SwsFQk7rL._AC_UY327_QL65_.jpg 1.5x, https://m.media-amazon.com/images/I/81SwsFQk7rL._AC_UY436_QL65_.jpg 2x, https://m.media-amazon.com/images/I/81SwsFQk7rL._AC_UY545_QL65_.jpg 2.5x, https://m.media-amazon.com/images/I/81SwsFQk7rL._AC_UY654_QL65_.jpg 3x\"/></div></a>,\n",
       " <a class=\"a-link-normal s-no-outline\" href=\"/Build-Analytics-Google-Cloud-Platform/dp/9389423635/ref=sr_1_14?crid=3M8UI1BF4LLQ&amp;keywords=gcp+professional+data+engineering+books&amp;qid=1689155658&amp;sprefix=data+engineering+book%2Caps%2C374&amp;sr=8-14\" target=\"_blank\"><div class=\"a-section aok-relative s-image-fixed-height\"><img alt=\"Data Analytics with Google Cloud Platform\" class=\"s-image\" data-image-index=\"14\" data-image-latency=\"s-product-image\" data-image-load=\"\" data-image-source-density=\"1\" src=\"https://m.media-amazon.com/images/I/51UuVx7P5lL._AC_UY218_.jpg\" srcset=\"https://m.media-amazon.com/images/I/51UuVx7P5lL._AC_UY218_.jpg 1x, https://m.media-amazon.com/images/I/51UuVx7P5lL._AC_UY327_QL65_.jpg 1.5x, https://m.media-amazon.com/images/I/51UuVx7P5lL._AC_UY436_QL65_.jpg 2x, https://m.media-amazon.com/images/I/51UuVx7P5lL._AC_UY500_QL65_.jpg 2.2935x\"/></div></a>,\n",
       " <a class=\"a-link-normal s-no-outline\" href=\"/Software-Engineering-Ian-Sommerville/dp/9332582696/ref=sr_1_15?crid=3M8UI1BF4LLQ&amp;keywords=gcp+professional+data+engineering+books&amp;qid=1689155658&amp;sprefix=data+engineering+book%2Caps%2C374&amp;sr=8-15\" target=\"_blank\"><div class=\"a-section aok-relative s-image-fixed-height\"><img alt=\"Software Engineering, 10/e\" class=\"s-image\" data-image-index=\"15\" data-image-latency=\"s-product-image\" data-image-load=\"\" data-image-source-density=\"1\" src=\"https://m.media-amazon.com/images/I/81iXn5LPFiL._AC_UY218_.jpg\" srcset=\"https://m.media-amazon.com/images/I/81iXn5LPFiL._AC_UY218_.jpg 1x, https://m.media-amazon.com/images/I/81iXn5LPFiL._AC_UY327_QL65_.jpg 1.5x, https://m.media-amazon.com/images/I/81iXn5LPFiL._AC_UY436_QL65_.jpg 2x, https://m.media-amazon.com/images/I/81iXn5LPFiL._AC_UY545_QL65_.jpg 2.5x, https://m.media-amazon.com/images/I/81iXn5LPFiL._AC_UY654_QL65_.jpg 3x\"/></div></a>,\n",
       " <a class=\"a-link-normal s-no-outline\" href=\"/Writing-Managing-SOPs-Susanne-Prokscha-ebook/dp/B0116R42LS/ref=sr_1_16?crid=3M8UI1BF4LLQ&amp;keywords=gcp+professional+data+engineering+books&amp;qid=1689155658&amp;sprefix=data+engineering+book%2Caps%2C374&amp;sr=8-16\" target=\"_blank\"><div class=\"a-section aok-relative s-image-fixed-height\"><img alt=\"Writing and Managing SOPs for GCP\" class=\"s-image\" data-image-index=\"16\" data-image-latency=\"s-product-image\" data-image-load=\"\" data-image-source-density=\"1\" src=\"https://m.media-amazon.com/images/I/71MGiA2tZ5L._AC_UY218_.jpg\" srcset=\"https://m.media-amazon.com/images/I/71MGiA2tZ5L._AC_UY218_.jpg 1x, https://m.media-amazon.com/images/I/71MGiA2tZ5L._AC_UY327_QL65_.jpg 1.5x, https://m.media-amazon.com/images/I/71MGiA2tZ5L._AC_UY436_QL65_.jpg 2x, https://m.media-amazon.com/images/I/71MGiA2tZ5L._AC_UY545_QL65_.jpg 2.5x, https://m.media-amazon.com/images/I/71MGiA2tZ5L._AC_UY654_QL65_.jpg 3x\"/></div></a>,\n",
       " <a class=\"a-link-normal s-no-outline\" href=\"/Official-Google-Certified-Professional-Engineer/dp/1119618436/ref=sr_1_1?crid=3M8UI1BF4LLQ&amp;keywords=gcp+professional+data+engineering+books&amp;qid=1689155660&amp;sprefix=data+engineering+book%2Caps%2C374&amp;sr=8-1\" target=\"_blank\"><div class=\"a-section aok-relative s-image-fixed-height\"><img alt=\"GOOGLE CLOUD CERTIFIED PROFESSIONAL DATA\" class=\"s-image\" data-image-index=\"1\" data-image-latency=\"s-product-image\" data-image-load=\"\" data-image-source-density=\"1\" src=\"https://m.media-amazon.com/images/I/71rBrgbl9YL._AC_UY218_.jpg\" srcset=\"https://m.media-amazon.com/images/I/71rBrgbl9YL._AC_UY218_.jpg 1x, https://m.media-amazon.com/images/I/71rBrgbl9YL._AC_UY327_QL65_.jpg 1.5x, https://m.media-amazon.com/images/I/71rBrgbl9YL._AC_UY436_QL65_.jpg 2x, https://m.media-amazon.com/images/I/71rBrgbl9YL._AC_UY545_QL65_.jpg 2.5x, https://m.media-amazon.com/images/I/71rBrgbl9YL._AC_UY654_QL65_.jpg 3x\"/></div></a>,\n",
       " <a class=\"a-link-normal s-no-outline\" href=\"/Google-Cloud-Platform-Data-Engineering-ebook/dp/B07ZGB4F7T/ref=sr_1_2?crid=3M8UI1BF4LLQ&amp;keywords=gcp+professional+data+engineering+books&amp;qid=1689155660&amp;sprefix=data+engineering+book%2Caps%2C374&amp;sr=8-2\" target=\"_blank\"><div class=\"a-section aok-relative s-image-fixed-height\"><img alt=\"Google Cloud Platform for Data Engineering: Learn fundamental to advanced data engineering concepts and techniques using 3...\" class=\"s-image\" data-image-index=\"2\" data-image-latency=\"s-product-image\" data-image-load=\"\" data-image-source-density=\"1\" src=\"https://m.media-amazon.com/images/I/81-VWRmyLpL._AC_UY218_.jpg\" srcset=\"https://m.media-amazon.com/images/I/81-VWRmyLpL._AC_UY218_.jpg 1x, https://m.media-amazon.com/images/I/81-VWRmyLpL._AC_UY327_QL65_.jpg 1.5x, https://m.media-amazon.com/images/I/81-VWRmyLpL._AC_UY436_QL65_.jpg 2x, https://m.media-amazon.com/images/I/81-VWRmyLpL._AC_UY545_QL65_.jpg 2.5x, https://m.media-amazon.com/images/I/81-VWRmyLpL._AC_UY654_QL65_.jpg 3x\"/></div></a>,\n",
       " <a class=\"a-link-normal s-no-outline\" href=\"/Data-Engineering-Google-Cloud-Platform/dp/1800561326/ref=sr_1_3?crid=3M8UI1BF4LLQ&amp;keywords=gcp+professional+data+engineering+books&amp;qid=1689155660&amp;sprefix=data+engineering+book%2Caps%2C374&amp;sr=8-3\" target=\"_blank\"><div class=\"a-section aok-relative s-image-fixed-height\"><img alt=\"Data Engineering with Google Cloud Platform: A practical guide to operationalizing scalable data analytics systems on GCP\" class=\"s-image\" data-image-index=\"3\" data-image-latency=\"s-product-image\" data-image-load=\"\" data-image-source-density=\"1\" src=\"https://m.media-amazon.com/images/I/6154jQ0IUSL._AC_UY218_.jpg\" srcset=\"https://m.media-amazon.com/images/I/6154jQ0IUSL._AC_UY218_.jpg 1x, https://m.media-amazon.com/images/I/6154jQ0IUSL._AC_UY327_QL65_.jpg 1.5x, https://m.media-amazon.com/images/I/6154jQ0IUSL._AC_UY436_QL65_.jpg 2x, https://m.media-amazon.com/images/I/6154jQ0IUSL._AC_UY545_QL65_.jpg 2.5x, https://m.media-amazon.com/images/I/6154jQ0IUSL._AC_UY654_QL65_.jpg 3x\"/></div></a>,\n",
       " <a class=\"a-link-normal s-no-outline\" href=\"/Google-Professional-Engineer-Certification-Incredibly-ebook/dp/B0B4XW1Q9R/ref=sr_1_4?crid=3M8UI1BF4LLQ&amp;keywords=gcp+professional+data+engineering+books&amp;qid=1689155660&amp;sprefix=data+engineering+book%2Caps%2C374&amp;sr=8-4\" target=\"_blank\"><div class=\"a-section aok-relative s-image-fixed-height\"><img alt=\"Pass Google Cloud Professional Data Engineer Certification- An Incredibly Easy Method: Questions and Answers With Detailed...\" class=\"s-image\" data-image-index=\"4\" data-image-latency=\"s-product-image\" data-image-load=\"\" data-image-source-density=\"1\" src=\"https://m.media-amazon.com/images/I/61QeD+wYS-L._AC_UY218_.jpg\" srcset=\"https://m.media-amazon.com/images/I/61QeD+wYS-L._AC_UY218_.jpg 1x, https://m.media-amazon.com/images/I/61QeD+wYS-L._AC_UY327_QL65_.jpg 1.5x, https://m.media-amazon.com/images/I/61QeD+wYS-L._AC_UY436_QL65_.jpg 2x, https://m.media-amazon.com/images/I/61QeD+wYS-L._AC_UY545_QL65_.jpg 2.5x, https://m.media-amazon.com/images/I/61QeD+wYS-L._AC_UY654_QL65_.jpg 3x\"/></div></a>,\n",
       " <a class=\"a-link-normal s-no-outline\" href=\"/professional-engineer-mondaishu-mogimondaisyu-Japanese-ebook/dp/B09RHX4NQ4/ref=sr_1_5?crid=3M8UI1BF4LLQ&amp;keywords=gcp+professional+data+engineering+books&amp;qid=1689155660&amp;sprefix=data+engineering+book%2Caps%2C374&amp;sr=8-5\" target=\"_blank\"><div class=\"a-section aok-relative s-image-fixed-height\"><img alt=\"google cloud professional data engineer mogi mondaishu cloud nintei mogimondaisyu series (Japanese Edition)\" class=\"s-image\" data-image-index=\"5\" data-image-latency=\"s-product-image\" data-image-load=\"\" data-image-source-density=\"1\" src=\"https://m.media-amazon.com/images/I/61vue-HLxRL._AC_UY218_.jpg\" srcset=\"https://m.media-amazon.com/images/I/61vue-HLxRL._AC_UY218_.jpg 1x, https://m.media-amazon.com/images/I/61vue-HLxRL._AC_UY327_QL65_.jpg 1.5x, https://m.media-amazon.com/images/I/61vue-HLxRL._AC_UY436_QL65_.jpg 2x, https://m.media-amazon.com/images/I/61vue-HLxRL._AC_UY545_QL65_.jpg 2.5x, https://m.media-amazon.com/images/I/61vue-HLxRL._AC_UY654_QL65_.jpg 3x\"/></div></a>,\n",
       " <a class=\"a-link-normal s-no-outline\" href=\"/GOOGLE-PROFESSIONAL-DATA-ENGINEER-developing-ebook/dp/B08KPXSXH8/ref=sr_1_6?crid=3M8UI1BF4LLQ&amp;keywords=gcp+professional+data+engineering+books&amp;qid=1689155660&amp;sprefix=data+engineering+book%2Caps%2C374&amp;sr=8-6\" target=\"_blank\"><div class=\"a-section aok-relative s-image-fixed-height\"><img alt=\"GOOGLE PROFESSIONAL DATA ENGINEER: A handy guide to designing, developing, and managing engineer data solutions\" class=\"s-image\" data-image-index=\"6\" data-image-latency=\"s-product-image\" data-image-load=\"\" data-image-source-density=\"1\" src=\"https://m.media-amazon.com/images/I/71Ot+pfhG-L._AC_UY218_.jpg\" srcset=\"https://m.media-amazon.com/images/I/71Ot+pfhG-L._AC_UY218_.jpg 1x, https://m.media-amazon.com/images/I/71Ot+pfhG-L._AC_UY327_QL65_.jpg 1.5x, https://m.media-amazon.com/images/I/71Ot+pfhG-L._AC_UY436_QL65_.jpg 2x, https://m.media-amazon.com/images/I/71Ot+pfhG-L._AC_UY545_QL65_.jpg 2.5x, https://m.media-amazon.com/images/I/71Ot+pfhG-L._AC_UY654_QL65_.jpg 3x\"/></div></a>,\n",
       " <a class=\"a-link-normal s-no-outline\" href=\"/Professional-Cloud-Architect-Certification-enterprise-grade/dp/1838555277/ref=sr_1_7?crid=3M8UI1BF4LLQ&amp;keywords=gcp+professional+data+engineering+books&amp;qid=1689155660&amp;sprefix=data+engineering+book%2Caps%2C374&amp;sr=8-7\" target=\"_blank\"><div class=\"a-section aok-relative s-image-fixed-height\"><img alt=\"Professional Cloud Architect – Google Cloud Certification Guide: A handy guide to designing, developing, and managing ente...\" class=\"s-image\" data-image-index=\"7\" data-image-latency=\"s-product-image\" data-image-load=\"\" data-image-source-density=\"1\" src=\"https://m.media-amazon.com/images/I/710qkafpKGL._AC_UY218_.jpg\" srcset=\"https://m.media-amazon.com/images/I/710qkafpKGL._AC_UY218_.jpg 1x, https://m.media-amazon.com/images/I/710qkafpKGL._AC_UY327_QL65_.jpg 1.5x, https://m.media-amazon.com/images/I/710qkafpKGL._AC_UY436_QL65_.jpg 2x, https://m.media-amazon.com/images/I/710qkafpKGL._AC_UY545_QL65_.jpg 2.5x, https://m.media-amazon.com/images/I/710qkafpKGL._AC_UY654_QL65_.jpg 3x\"/></div></a>,\n",
       " <a class=\"a-link-normal s-no-outline\" href=\"/Succeed-Google-Professional-Engineer-Certification-ebook/dp/B0B4YGDHG8/ref=sr_1_8?crid=3M8UI1BF4LLQ&amp;keywords=gcp+professional+data+engineering+books&amp;qid=1689155660&amp;sprefix=data+engineering+book%2Caps%2C374&amp;sr=8-8\" target=\"_blank\"><div class=\"a-section aok-relative s-image-fixed-height\"><img alt=\"Succeed With Google Cloud Professional Data Engineer Certification Guide That Works For All: Questions and Answers With De...\" class=\"s-image\" data-image-index=\"8\" data-image-latency=\"s-product-image\" data-image-load=\"\" data-image-source-density=\"1\" src=\"https://m.media-amazon.com/images/I/61hZPH2DK8L._AC_UY218_.jpg\" srcset=\"https://m.media-amazon.com/images/I/61hZPH2DK8L._AC_UY218_.jpg 1x, https://m.media-amazon.com/images/I/61hZPH2DK8L._AC_UY327_QL65_.jpg 1.5x, https://m.media-amazon.com/images/I/61hZPH2DK8L._AC_UY436_QL65_.jpg 2x, https://m.media-amazon.com/images/I/61hZPH2DK8L._AC_UY545_QL65_.jpg 2.5x, https://m.media-amazon.com/images/I/61hZPH2DK8L._AC_UY654_QL65_.jpg 3x\"/></div></a>,\n",
       " <a class=\"a-link-normal s-no-outline\" href=\"/Google-Certified-Professional-Data-Engineer-ebook/dp/B09XR7CXNS/ref=sr_1_9?crid=3M8UI1BF4LLQ&amp;keywords=gcp+professional+data+engineering+books&amp;qid=1689155660&amp;sprefix=data+engineering+book%2Caps%2C374&amp;sr=8-9\" target=\"_blank\"><div class=\"a-section aok-relative s-image-fixed-height\"><img alt=\"Google Certified Professional Data Engineer: Exam Cram Notes: First Edition - 2022\" class=\"s-image\" data-image-index=\"9\" data-image-latency=\"s-product-image\" data-image-load=\"\" data-image-source-density=\"1\" src=\"https://m.media-amazon.com/images/I/61IJGxs-VrL._AC_UY218_.jpg\" srcset=\"https://m.media-amazon.com/images/I/61IJGxs-VrL._AC_UY218_.jpg 1x, https://m.media-amazon.com/images/I/61IJGxs-VrL._AC_UY327_QL65_.jpg 1.5x, https://m.media-amazon.com/images/I/61IJGxs-VrL._AC_UY436_QL65_.jpg 2x, https://m.media-amazon.com/images/I/61IJGxs-VrL._AC_UY545_QL65_.jpg 2.5x, https://m.media-amazon.com/images/I/61IJGxs-VrL._AC_UY654_QL65_.jpg 3x\"/></div></a>,\n",
       " <a class=\"a-link-normal s-no-outline\" href=\"/GCP-Associate-Cloud-Engineer-Examination-ebook/dp/B09KVDJMYF/ref=sr_1_10?crid=3M8UI1BF4LLQ&amp;keywords=gcp+professional+data+engineering+books&amp;qid=1689155660&amp;sprefix=data+engineering+book%2Caps%2C374&amp;sr=8-10\" target=\"_blank\"><div class=\"a-section aok-relative s-image-fixed-height\"><img alt=\"GCP Associate Cloud Engineer - Question With Answer [All MCQ]: 100% Guarantee You Will Pass The Examination\" class=\"s-image\" data-image-index=\"10\" data-image-latency=\"s-product-image\" data-image-load=\"\" data-image-source-density=\"1\" src=\"https://m.media-amazon.com/images/I/714Qj44vehL._AC_UY218_.jpg\" srcset=\"https://m.media-amazon.com/images/I/714Qj44vehL._AC_UY218_.jpg 1x, https://m.media-amazon.com/images/I/714Qj44vehL._AC_UY327_QL65_.jpg 1.5x, https://m.media-amazon.com/images/I/714Qj44vehL._AC_UY436_QL65_.jpg 2x, https://m.media-amazon.com/images/I/714Qj44vehL._AC_UY545_QL65_.jpg 2.5x, https://m.media-amazon.com/images/I/714Qj44vehL._AC_UY654_QL65_.jpg 3x\"/></div></a>,\n",
       " <a class=\"a-link-normal s-no-outline\" href=\"/Analytics-Subhashini-Chellappan-Seema-Acharya/dp/812657951X/ref=sr_1_11?crid=3M8UI1BF4LLQ&amp;keywords=gcp+professional+data+engineering+books&amp;qid=1689155660&amp;sprefix=data+engineering+book%2Caps%2C374&amp;sr=8-11\" target=\"_blank\"><div class=\"a-section aok-relative s-image-fixed-height\"><img alt=\"Big Data and Analytics, 2ed | IM | BS | e\" class=\"s-image\" data-image-index=\"11\" data-image-latency=\"s-product-image\" data-image-load=\"\" data-image-source-density=\"1\" src=\"https://m.media-amazon.com/images/I/71Kxb8HIqqL._AC_UY218_.jpg\" srcset=\"https://m.media-amazon.com/images/I/71Kxb8HIqqL._AC_UY218_.jpg 1x, https://m.media-amazon.com/images/I/71Kxb8HIqqL._AC_UY327_QL65_.jpg 1.5x, https://m.media-amazon.com/images/I/71Kxb8HIqqL._AC_UY436_QL65_.jpg 2x, https://m.media-amazon.com/images/I/71Kxb8HIqqL._AC_UY545_QL65_.jpg 2.5x, https://m.media-amazon.com/images/I/71Kxb8HIqqL._AC_UY654_QL65_.jpg 3x\"/></div></a>,\n",
       " <a class=\"a-link-normal s-no-outline\" href=\"/BigQuery-Data-Warehousing-Managed-Analysis/dp/1484261852/ref=sr_1_12?crid=3M8UI1BF4LLQ&amp;keywords=gcp+professional+data+engineering+books&amp;qid=1689155660&amp;sprefix=data+engineering+book%2Caps%2C374&amp;sr=8-12\" target=\"_blank\"><div class=\"a-section aok-relative s-image-fixed-height\"><img alt=\"BigQuery for Data Warehousing: Managed Data Analysis in the Google Cloud\" class=\"s-image\" data-image-index=\"12\" data-image-latency=\"s-product-image\" data-image-load=\"\" data-image-source-density=\"1\" src=\"https://m.media-amazon.com/images/I/61YBQaE3TAL._AC_UY218_.jpg\" srcset=\"https://m.media-amazon.com/images/I/61YBQaE3TAL._AC_UY218_.jpg 1x, https://m.media-amazon.com/images/I/61YBQaE3TAL._AC_UY327_QL65_.jpg 1.5x, https://m.media-amazon.com/images/I/61YBQaE3TAL._AC_UY436_QL65_.jpg 2x, https://m.media-amazon.com/images/I/61YBQaE3TAL._AC_UY545_QL65_.jpg 2.5x, https://m.media-amazon.com/images/I/61YBQaE3TAL._AC_UY654_QL65_.jpg 3x\"/></div></a>,\n",
       " <a class=\"a-link-normal s-no-outline\" href=\"/Google-Cloud-Certified-Associate-Engineer/dp/1119871441/ref=sr_1_13?crid=3M8UI1BF4LLQ&amp;keywords=gcp+professional+data+engineering+books&amp;qid=1689155660&amp;sprefix=data+engineering+book%2Caps%2C374&amp;sr=8-13\" target=\"_blank\"><div class=\"a-section aok-relative s-image-fixed-height\"><img alt=\"Google Cloud Certified Associate Cloud Engineer St udy Guide, 2nd edition\" class=\"s-image\" data-image-index=\"13\" data-image-latency=\"s-product-image\" data-image-load=\"\" data-image-source-density=\"1\" src=\"https://m.media-amazon.com/images/I/81SwsFQk7rL._AC_UY218_.jpg\" srcset=\"https://m.media-amazon.com/images/I/81SwsFQk7rL._AC_UY218_.jpg 1x, https://m.media-amazon.com/images/I/81SwsFQk7rL._AC_UY327_QL65_.jpg 1.5x, https://m.media-amazon.com/images/I/81SwsFQk7rL._AC_UY436_QL65_.jpg 2x, https://m.media-amazon.com/images/I/81SwsFQk7rL._AC_UY545_QL65_.jpg 2.5x, https://m.media-amazon.com/images/I/81SwsFQk7rL._AC_UY654_QL65_.jpg 3x\"/></div></a>,\n",
       " <a class=\"a-link-normal s-no-outline\" href=\"/Build-Analytics-Google-Cloud-Platform/dp/9389423635/ref=sr_1_14?crid=3M8UI1BF4LLQ&amp;keywords=gcp+professional+data+engineering+books&amp;qid=1689155660&amp;sprefix=data+engineering+book%2Caps%2C374&amp;sr=8-14\" target=\"_blank\"><div class=\"a-section aok-relative s-image-fixed-height\"><img alt=\"Data Analytics with Google Cloud Platform\" class=\"s-image\" data-image-index=\"14\" data-image-latency=\"s-product-image\" data-image-load=\"\" data-image-source-density=\"1\" src=\"https://m.media-amazon.com/images/I/51UuVx7P5lL._AC_UY218_.jpg\" srcset=\"https://m.media-amazon.com/images/I/51UuVx7P5lL._AC_UY218_.jpg 1x, https://m.media-amazon.com/images/I/51UuVx7P5lL._AC_UY327_QL65_.jpg 1.5x, https://m.media-amazon.com/images/I/51UuVx7P5lL._AC_UY436_QL65_.jpg 2x, https://m.media-amazon.com/images/I/51UuVx7P5lL._AC_UY500_QL65_.jpg 2.2935x\"/></div></a>,\n",
       " <a class=\"a-link-normal s-no-outline\" href=\"/Software-Engineering-Ian-Sommerville/dp/9332582696/ref=sr_1_15?crid=3M8UI1BF4LLQ&amp;keywords=gcp+professional+data+engineering+books&amp;qid=1689155660&amp;sprefix=data+engineering+book%2Caps%2C374&amp;sr=8-15\" target=\"_blank\"><div class=\"a-section aok-relative s-image-fixed-height\"><img alt=\"Software Engineering, 10/e\" class=\"s-image\" data-image-index=\"15\" data-image-latency=\"s-product-image\" data-image-load=\"\" data-image-source-density=\"1\" src=\"https://m.media-amazon.com/images/I/81iXn5LPFiL._AC_UY218_.jpg\" srcset=\"https://m.media-amazon.com/images/I/81iXn5LPFiL._AC_UY218_.jpg 1x, https://m.media-amazon.com/images/I/81iXn5LPFiL._AC_UY327_QL65_.jpg 1.5x, https://m.media-amazon.com/images/I/81iXn5LPFiL._AC_UY436_QL65_.jpg 2x, https://m.media-amazon.com/images/I/81iXn5LPFiL._AC_UY545_QL65_.jpg 2.5x, https://m.media-amazon.com/images/I/81iXn5LPFiL._AC_UY654_QL65_.jpg 3x\"/></div></a>,\n",
       " <a class=\"a-link-normal s-no-outline\" href=\"/Writing-Managing-SOPs-Susanne-Prokscha-ebook/dp/B0116R42LS/ref=sr_1_16?crid=3M8UI1BF4LLQ&amp;keywords=gcp+professional+data+engineering+books&amp;qid=1689155660&amp;sprefix=data+engineering+book%2Caps%2C374&amp;sr=8-16\" target=\"_blank\"><div class=\"a-section aok-relative s-image-fixed-height\"><img alt=\"Writing and Managing SOPs for GCP\" class=\"s-image\" data-image-index=\"16\" data-image-latency=\"s-product-image\" data-image-load=\"\" data-image-source-density=\"1\" src=\"https://m.media-amazon.com/images/I/71MGiA2tZ5L._AC_UY218_.jpg\" srcset=\"https://m.media-amazon.com/images/I/71MGiA2tZ5L._AC_UY218_.jpg 1x, https://m.media-amazon.com/images/I/71MGiA2tZ5L._AC_UY327_QL65_.jpg 1.5x, https://m.media-amazon.com/images/I/71MGiA2tZ5L._AC_UY436_QL65_.jpg 2x, https://m.media-amazon.com/images/I/71MGiA2tZ5L._AC_UY545_QL65_.jpg 2.5x, https://m.media-amazon.com/images/I/71MGiA2tZ5L._AC_UY654_QL65_.jpg 3x\"/></div></a>,\n",
       " <a class=\"a-link-normal s-no-outline\" href=\"/Official-Google-Certified-Professional-Engineer/dp/1119618436/ref=sr_1_1?crid=3M8UI1BF4LLQ&amp;keywords=gcp+professional+data+engineering+books&amp;qid=1689155663&amp;sprefix=data+engineering+book%2Caps%2C374&amp;sr=8-1\" target=\"_blank\"><div class=\"a-section aok-relative s-image-fixed-height\"><img alt=\"GOOGLE CLOUD CERTIFIED PROFESSIONAL DATA\" class=\"s-image\" data-image-index=\"1\" data-image-latency=\"s-product-image\" data-image-load=\"\" data-image-source-density=\"1\" src=\"https://m.media-amazon.com/images/I/71rBrgbl9YL._AC_UY218_.jpg\" srcset=\"https://m.media-amazon.com/images/I/71rBrgbl9YL._AC_UY218_.jpg 1x, https://m.media-amazon.com/images/I/71rBrgbl9YL._AC_UY327_QL65_.jpg 1.5x, https://m.media-amazon.com/images/I/71rBrgbl9YL._AC_UY436_QL65_.jpg 2x, https://m.media-amazon.com/images/I/71rBrgbl9YL._AC_UY545_QL65_.jpg 2.5x, https://m.media-amazon.com/images/I/71rBrgbl9YL._AC_UY654_QL65_.jpg 3x\"/></div></a>,\n",
       " <a class=\"a-link-normal s-no-outline\" href=\"/Google-Cloud-Platform-Data-Engineering-ebook/dp/B07ZGB4F7T/ref=sr_1_2?crid=3M8UI1BF4LLQ&amp;keywords=gcp+professional+data+engineering+books&amp;qid=1689155663&amp;sprefix=data+engineering+book%2Caps%2C374&amp;sr=8-2\" target=\"_blank\"><div class=\"a-section aok-relative s-image-fixed-height\"><img alt=\"Google Cloud Platform for Data Engineering: Learn fundamental to advanced data engineering concepts and techniques using 3...\" class=\"s-image\" data-image-index=\"2\" data-image-latency=\"s-product-image\" data-image-load=\"\" data-image-source-density=\"1\" src=\"https://m.media-amazon.com/images/I/81-VWRmyLpL._AC_UY218_.jpg\" srcset=\"https://m.media-amazon.com/images/I/81-VWRmyLpL._AC_UY218_.jpg 1x, https://m.media-amazon.com/images/I/81-VWRmyLpL._AC_UY327_QL65_.jpg 1.5x, https://m.media-amazon.com/images/I/81-VWRmyLpL._AC_UY436_QL65_.jpg 2x, https://m.media-amazon.com/images/I/81-VWRmyLpL._AC_UY545_QL65_.jpg 2.5x, https://m.media-amazon.com/images/I/81-VWRmyLpL._AC_UY654_QL65_.jpg 3x\"/></div></a>,\n",
       " <a class=\"a-link-normal s-no-outline\" href=\"/Data-Engineering-Google-Cloud-Platform/dp/1800561326/ref=sr_1_3?crid=3M8UI1BF4LLQ&amp;keywords=gcp+professional+data+engineering+books&amp;qid=1689155663&amp;sprefix=data+engineering+book%2Caps%2C374&amp;sr=8-3\" target=\"_blank\"><div class=\"a-section aok-relative s-image-fixed-height\"><img alt=\"Data Engineering with Google Cloud Platform: A practical guide to operationalizing scalable data analytics systems on GCP\" class=\"s-image\" data-image-index=\"3\" data-image-latency=\"s-product-image\" data-image-load=\"\" data-image-source-density=\"1\" src=\"https://m.media-amazon.com/images/I/6154jQ0IUSL._AC_UY218_.jpg\" srcset=\"https://m.media-amazon.com/images/I/6154jQ0IUSL._AC_UY218_.jpg 1x, https://m.media-amazon.com/images/I/6154jQ0IUSL._AC_UY327_QL65_.jpg 1.5x, https://m.media-amazon.com/images/I/6154jQ0IUSL._AC_UY436_QL65_.jpg 2x, https://m.media-amazon.com/images/I/6154jQ0IUSL._AC_UY545_QL65_.jpg 2.5x, https://m.media-amazon.com/images/I/6154jQ0IUSL._AC_UY654_QL65_.jpg 3x\"/></div></a>,\n",
       " <a class=\"a-link-normal s-no-outline\" href=\"/Google-Professional-Engineer-Certification-Incredibly-ebook/dp/B0B4XW1Q9R/ref=sr_1_4?crid=3M8UI1BF4LLQ&amp;keywords=gcp+professional+data+engineering+books&amp;qid=1689155663&amp;sprefix=data+engineering+book%2Caps%2C374&amp;sr=8-4\" target=\"_blank\"><div class=\"a-section aok-relative s-image-fixed-height\"><img alt=\"Pass Google Cloud Professional Data Engineer Certification- An Incredibly Easy Method: Questions and Answers With Detailed...\" class=\"s-image\" data-image-index=\"4\" data-image-latency=\"s-product-image\" data-image-load=\"\" data-image-source-density=\"1\" src=\"https://m.media-amazon.com/images/I/61QeD+wYS-L._AC_UY218_.jpg\" srcset=\"https://m.media-amazon.com/images/I/61QeD+wYS-L._AC_UY218_.jpg 1x, https://m.media-amazon.com/images/I/61QeD+wYS-L._AC_UY327_QL65_.jpg 1.5x, https://m.media-amazon.com/images/I/61QeD+wYS-L._AC_UY436_QL65_.jpg 2x, https://m.media-amazon.com/images/I/61QeD+wYS-L._AC_UY545_QL65_.jpg 2.5x, https://m.media-amazon.com/images/I/61QeD+wYS-L._AC_UY654_QL65_.jpg 3x\"/></div></a>,\n",
       " <a class=\"a-link-normal s-no-outline\" href=\"/professional-engineer-mondaishu-mogimondaisyu-Japanese-ebook/dp/B09RHX4NQ4/ref=sr_1_5?crid=3M8UI1BF4LLQ&amp;keywords=gcp+professional+data+engineering+books&amp;qid=1689155663&amp;sprefix=data+engineering+book%2Caps%2C374&amp;sr=8-5\" target=\"_blank\"><div class=\"a-section aok-relative s-image-fixed-height\"><img alt=\"google cloud professional data engineer mogi mondaishu cloud nintei mogimondaisyu series (Japanese Edition)\" class=\"s-image\" data-image-index=\"5\" data-image-latency=\"s-product-image\" data-image-load=\"\" data-image-source-density=\"1\" src=\"https://m.media-amazon.com/images/I/61vue-HLxRL._AC_UY218_.jpg\" srcset=\"https://m.media-amazon.com/images/I/61vue-HLxRL._AC_UY218_.jpg 1x, https://m.media-amazon.com/images/I/61vue-HLxRL._AC_UY327_QL65_.jpg 1.5x, https://m.media-amazon.com/images/I/61vue-HLxRL._AC_UY436_QL65_.jpg 2x, https://m.media-amazon.com/images/I/61vue-HLxRL._AC_UY545_QL65_.jpg 2.5x, https://m.media-amazon.com/images/I/61vue-HLxRL._AC_UY654_QL65_.jpg 3x\"/></div></a>,\n",
       " <a class=\"a-link-normal s-no-outline\" href=\"/GOOGLE-PROFESSIONAL-DATA-ENGINEER-developing-ebook/dp/B08KPXSXH8/ref=sr_1_6?crid=3M8UI1BF4LLQ&amp;keywords=gcp+professional+data+engineering+books&amp;qid=1689155663&amp;sprefix=data+engineering+book%2Caps%2C374&amp;sr=8-6\" target=\"_blank\"><div class=\"a-section aok-relative s-image-fixed-height\"><img alt=\"GOOGLE PROFESSIONAL DATA ENGINEER: A handy guide to designing, developing, and managing engineer data solutions\" class=\"s-image\" data-image-index=\"6\" data-image-latency=\"s-product-image\" data-image-load=\"\" data-image-source-density=\"1\" src=\"https://m.media-amazon.com/images/I/71Ot+pfhG-L._AC_UY218_.jpg\" srcset=\"https://m.media-amazon.com/images/I/71Ot+pfhG-L._AC_UY218_.jpg 1x, https://m.media-amazon.com/images/I/71Ot+pfhG-L._AC_UY327_QL65_.jpg 1.5x, https://m.media-amazon.com/images/I/71Ot+pfhG-L._AC_UY436_QL65_.jpg 2x, https://m.media-amazon.com/images/I/71Ot+pfhG-L._AC_UY545_QL65_.jpg 2.5x, https://m.media-amazon.com/images/I/71Ot+pfhG-L._AC_UY654_QL65_.jpg 3x\"/></div></a>,\n",
       " <a class=\"a-link-normal s-no-outline\" href=\"/Professional-Cloud-Architect-Certification-enterprise-grade/dp/1838555277/ref=sr_1_7?crid=3M8UI1BF4LLQ&amp;keywords=gcp+professional+data+engineering+books&amp;qid=1689155663&amp;sprefix=data+engineering+book%2Caps%2C374&amp;sr=8-7\" target=\"_blank\"><div class=\"a-section aok-relative s-image-fixed-height\"><img alt=\"Professional Cloud Architect – Google Cloud Certification Guide: A handy guide to designing, developing, and managing ente...\" class=\"s-image\" data-image-index=\"7\" data-image-latency=\"s-product-image\" data-image-load=\"\" data-image-source-density=\"1\" src=\"https://m.media-amazon.com/images/I/710qkafpKGL._AC_UY218_.jpg\" srcset=\"https://m.media-amazon.com/images/I/710qkafpKGL._AC_UY218_.jpg 1x, https://m.media-amazon.com/images/I/710qkafpKGL._AC_UY327_QL65_.jpg 1.5x, https://m.media-amazon.com/images/I/710qkafpKGL._AC_UY436_QL65_.jpg 2x, https://m.media-amazon.com/images/I/710qkafpKGL._AC_UY545_QL65_.jpg 2.5x, https://m.media-amazon.com/images/I/710qkafpKGL._AC_UY654_QL65_.jpg 3x\"/></div></a>,\n",
       " <a class=\"a-link-normal s-no-outline\" href=\"/Succeed-Google-Professional-Engineer-Certification-ebook/dp/B0B4YGDHG8/ref=sr_1_8?crid=3M8UI1BF4LLQ&amp;keywords=gcp+professional+data+engineering+books&amp;qid=1689155663&amp;sprefix=data+engineering+book%2Caps%2C374&amp;sr=8-8\" target=\"_blank\"><div class=\"a-section aok-relative s-image-fixed-height\"><img alt=\"Succeed With Google Cloud Professional Data Engineer Certification Guide That Works For All: Questions and Answers With De...\" class=\"s-image\" data-image-index=\"8\" data-image-latency=\"s-product-image\" data-image-load=\"\" data-image-source-density=\"1\" src=\"https://m.media-amazon.com/images/I/61hZPH2DK8L._AC_UY218_.jpg\" srcset=\"https://m.media-amazon.com/images/I/61hZPH2DK8L._AC_UY218_.jpg 1x, https://m.media-amazon.com/images/I/61hZPH2DK8L._AC_UY327_QL65_.jpg 1.5x, https://m.media-amazon.com/images/I/61hZPH2DK8L._AC_UY436_QL65_.jpg 2x, https://m.media-amazon.com/images/I/61hZPH2DK8L._AC_UY545_QL65_.jpg 2.5x, https://m.media-amazon.com/images/I/61hZPH2DK8L._AC_UY654_QL65_.jpg 3x\"/></div></a>,\n",
       " <a class=\"a-link-normal s-no-outline\" href=\"/Google-Certified-Professional-Data-Engineer-ebook/dp/B09XR7CXNS/ref=sr_1_9?crid=3M8UI1BF4LLQ&amp;keywords=gcp+professional+data+engineering+books&amp;qid=1689155663&amp;sprefix=data+engineering+book%2Caps%2C374&amp;sr=8-9\" target=\"_blank\"><div class=\"a-section aok-relative s-image-fixed-height\"><img alt=\"Google Certified Professional Data Engineer: Exam Cram Notes: First Edition - 2022\" class=\"s-image\" data-image-index=\"9\" data-image-latency=\"s-product-image\" data-image-load=\"\" data-image-source-density=\"1\" src=\"https://m.media-amazon.com/images/I/61IJGxs-VrL._AC_UY218_.jpg\" srcset=\"https://m.media-amazon.com/images/I/61IJGxs-VrL._AC_UY218_.jpg 1x, https://m.media-amazon.com/images/I/61IJGxs-VrL._AC_UY327_QL65_.jpg 1.5x, https://m.media-amazon.com/images/I/61IJGxs-VrL._AC_UY436_QL65_.jpg 2x, https://m.media-amazon.com/images/I/61IJGxs-VrL._AC_UY545_QL65_.jpg 2.5x, https://m.media-amazon.com/images/I/61IJGxs-VrL._AC_UY654_QL65_.jpg 3x\"/></div></a>,\n",
       " <a class=\"a-link-normal s-no-outline\" href=\"/GCP-Associate-Cloud-Engineer-Examination-ebook/dp/B09KVDJMYF/ref=sr_1_10?crid=3M8UI1BF4LLQ&amp;keywords=gcp+professional+data+engineering+books&amp;qid=1689155663&amp;sprefix=data+engineering+book%2Caps%2C374&amp;sr=8-10\" target=\"_blank\"><div class=\"a-section aok-relative s-image-fixed-height\"><img alt=\"GCP Associate Cloud Engineer - Question With Answer [All MCQ]: 100% Guarantee You Will Pass The Examination\" class=\"s-image\" data-image-index=\"10\" data-image-latency=\"s-product-image\" data-image-load=\"\" data-image-source-density=\"1\" src=\"https://m.media-amazon.com/images/I/714Qj44vehL._AC_UY218_.jpg\" srcset=\"https://m.media-amazon.com/images/I/714Qj44vehL._AC_UY218_.jpg 1x, https://m.media-amazon.com/images/I/714Qj44vehL._AC_UY327_QL65_.jpg 1.5x, https://m.media-amazon.com/images/I/714Qj44vehL._AC_UY436_QL65_.jpg 2x, https://m.media-amazon.com/images/I/714Qj44vehL._AC_UY545_QL65_.jpg 2.5x, https://m.media-amazon.com/images/I/714Qj44vehL._AC_UY654_QL65_.jpg 3x\"/></div></a>,\n",
       " <a class=\"a-link-normal s-no-outline\" href=\"/Analytics-Subhashini-Chellappan-Seema-Acharya/dp/812657951X/ref=sr_1_11?crid=3M8UI1BF4LLQ&amp;keywords=gcp+professional+data+engineering+books&amp;qid=1689155663&amp;sprefix=data+engineering+book%2Caps%2C374&amp;sr=8-11\" target=\"_blank\"><div class=\"a-section aok-relative s-image-fixed-height\"><img alt=\"Big Data and Analytics, 2ed | IM | BS | e\" class=\"s-image\" data-image-index=\"11\" data-image-latency=\"s-product-image\" data-image-load=\"\" data-image-source-density=\"1\" src=\"https://m.media-amazon.com/images/I/71Kxb8HIqqL._AC_UY218_.jpg\" srcset=\"https://m.media-amazon.com/images/I/71Kxb8HIqqL._AC_UY218_.jpg 1x, https://m.media-amazon.com/images/I/71Kxb8HIqqL._AC_UY327_QL65_.jpg 1.5x, https://m.media-amazon.com/images/I/71Kxb8HIqqL._AC_UY436_QL65_.jpg 2x, https://m.media-amazon.com/images/I/71Kxb8HIqqL._AC_UY545_QL65_.jpg 2.5x, https://m.media-amazon.com/images/I/71Kxb8HIqqL._AC_UY654_QL65_.jpg 3x\"/></div></a>,\n",
       " <a class=\"a-link-normal s-no-outline\" href=\"/BigQuery-Data-Warehousing-Managed-Analysis/dp/1484261852/ref=sr_1_12?crid=3M8UI1BF4LLQ&amp;keywords=gcp+professional+data+engineering+books&amp;qid=1689155663&amp;sprefix=data+engineering+book%2Caps%2C374&amp;sr=8-12\" target=\"_blank\"><div class=\"a-section aok-relative s-image-fixed-height\"><img alt=\"BigQuery for Data Warehousing: Managed Data Analysis in the Google Cloud\" class=\"s-image\" data-image-index=\"12\" data-image-latency=\"s-product-image\" data-image-load=\"\" data-image-source-density=\"1\" src=\"https://m.media-amazon.com/images/I/61YBQaE3TAL._AC_UY218_.jpg\" srcset=\"https://m.media-amazon.com/images/I/61YBQaE3TAL._AC_UY218_.jpg 1x, https://m.media-amazon.com/images/I/61YBQaE3TAL._AC_UY327_QL65_.jpg 1.5x, https://m.media-amazon.com/images/I/61YBQaE3TAL._AC_UY436_QL65_.jpg 2x, https://m.media-amazon.com/images/I/61YBQaE3TAL._AC_UY545_QL65_.jpg 2.5x, https://m.media-amazon.com/images/I/61YBQaE3TAL._AC_UY654_QL65_.jpg 3x\"/></div></a>,\n",
       " <a class=\"a-link-normal s-no-outline\" href=\"/Google-Cloud-Certified-Associate-Engineer/dp/1119871441/ref=sr_1_13?crid=3M8UI1BF4LLQ&amp;keywords=gcp+professional+data+engineering+books&amp;qid=1689155663&amp;sprefix=data+engineering+book%2Caps%2C374&amp;sr=8-13\" target=\"_blank\"><div class=\"a-section aok-relative s-image-fixed-height\"><img alt=\"Google Cloud Certified Associate Cloud Engineer St udy Guide, 2nd edition\" class=\"s-image\" data-image-index=\"13\" data-image-latency=\"s-product-image\" data-image-load=\"\" data-image-source-density=\"1\" src=\"https://m.media-amazon.com/images/I/81SwsFQk7rL._AC_UY218_.jpg\" srcset=\"https://m.media-amazon.com/images/I/81SwsFQk7rL._AC_UY218_.jpg 1x, https://m.media-amazon.com/images/I/81SwsFQk7rL._AC_UY327_QL65_.jpg 1.5x, https://m.media-amazon.com/images/I/81SwsFQk7rL._AC_UY436_QL65_.jpg 2x, https://m.media-amazon.com/images/I/81SwsFQk7rL._AC_UY545_QL65_.jpg 2.5x, https://m.media-amazon.com/images/I/81SwsFQk7rL._AC_UY654_QL65_.jpg 3x\"/></div></a>,\n",
       " <a class=\"a-link-normal s-no-outline\" href=\"/Build-Analytics-Google-Cloud-Platform/dp/9389423635/ref=sr_1_14?crid=3M8UI1BF4LLQ&amp;keywords=gcp+professional+data+engineering+books&amp;qid=1689155663&amp;sprefix=data+engineering+book%2Caps%2C374&amp;sr=8-14\" target=\"_blank\"><div class=\"a-section aok-relative s-image-fixed-height\"><img alt=\"Data Analytics with Google Cloud Platform\" class=\"s-image\" data-image-index=\"14\" data-image-latency=\"s-product-image\" data-image-load=\"\" data-image-source-density=\"1\" src=\"https://m.media-amazon.com/images/I/51UuVx7P5lL._AC_UY218_.jpg\" srcset=\"https://m.media-amazon.com/images/I/51UuVx7P5lL._AC_UY218_.jpg 1x, https://m.media-amazon.com/images/I/51UuVx7P5lL._AC_UY327_QL65_.jpg 1.5x, https://m.media-amazon.com/images/I/51UuVx7P5lL._AC_UY436_QL65_.jpg 2x, https://m.media-amazon.com/images/I/51UuVx7P5lL._AC_UY500_QL65_.jpg 2.2935x\"/></div></a>,\n",
       " <a class=\"a-link-normal s-no-outline\" href=\"/Software-Engineering-Ian-Sommerville/dp/9332582696/ref=sr_1_15?crid=3M8UI1BF4LLQ&amp;keywords=gcp+professional+data+engineering+books&amp;qid=1689155663&amp;sprefix=data+engineering+book%2Caps%2C374&amp;sr=8-15\" target=\"_blank\"><div class=\"a-section aok-relative s-image-fixed-height\"><img alt=\"Software Engineering, 10/e\" class=\"s-image\" data-image-index=\"15\" data-image-latency=\"s-product-image\" data-image-load=\"\" data-image-source-density=\"1\" src=\"https://m.media-amazon.com/images/I/81iXn5LPFiL._AC_UY218_.jpg\" srcset=\"https://m.media-amazon.com/images/I/81iXn5LPFiL._AC_UY218_.jpg 1x, https://m.media-amazon.com/images/I/81iXn5LPFiL._AC_UY327_QL65_.jpg 1.5x, https://m.media-amazon.com/images/I/81iXn5LPFiL._AC_UY436_QL65_.jpg 2x, https://m.media-amazon.com/images/I/81iXn5LPFiL._AC_UY545_QL65_.jpg 2.5x, https://m.media-amazon.com/images/I/81iXn5LPFiL._AC_UY654_QL65_.jpg 3x\"/></div></a>,\n",
       " <a class=\"a-link-normal s-no-outline\" href=\"/Writing-Managing-SOPs-Susanne-Prokscha-ebook/dp/B0116R42LS/ref=sr_1_16?crid=3M8UI1BF4LLQ&amp;keywords=gcp+professional+data+engineering+books&amp;qid=1689155663&amp;sprefix=data+engineering+book%2Caps%2C374&amp;sr=8-16\" target=\"_blank\"><div class=\"a-section aok-relative s-image-fixed-height\"><img alt=\"Writing and Managing SOPs for GCP\" class=\"s-image\" data-image-index=\"16\" data-image-latency=\"s-product-image\" data-image-load=\"\" data-image-source-density=\"1\" src=\"https://m.media-amazon.com/images/I/71MGiA2tZ5L._AC_UY218_.jpg\" srcset=\"https://m.media-amazon.com/images/I/71MGiA2tZ5L._AC_UY218_.jpg 1x, https://m.media-amazon.com/images/I/71MGiA2tZ5L._AC_UY327_QL65_.jpg 1.5x, https://m.media-amazon.com/images/I/71MGiA2tZ5L._AC_UY436_QL65_.jpg 2x, https://m.media-amazon.com/images/I/71MGiA2tZ5L._AC_UY545_QL65_.jpg 2.5x, https://m.media-amazon.com/images/I/71MGiA2tZ5L._AC_UY654_QL65_.jpg 3x\"/></div></a>,\n",
       " <a class=\"a-link-normal s-no-outline\" href=\"/Official-Google-Certified-Professional-Engineer/dp/1119618436/ref=sr_1_1?crid=3M8UI1BF4LLQ&amp;keywords=gcp+professional+data+engineering+books&amp;qid=1689155666&amp;sprefix=data+engineering+book%2Caps%2C374&amp;sr=8-1\" target=\"_blank\"><div class=\"a-section aok-relative s-image-fixed-height\"><img alt=\"GOOGLE CLOUD CERTIFIED PROFESSIONAL DATA\" class=\"s-image\" data-image-index=\"1\" data-image-latency=\"s-product-image\" data-image-load=\"\" data-image-source-density=\"1\" src=\"https://m.media-amazon.com/images/I/71rBrgbl9YL._AC_UY218_.jpg\" srcset=\"https://m.media-amazon.com/images/I/71rBrgbl9YL._AC_UY218_.jpg 1x, https://m.media-amazon.com/images/I/71rBrgbl9YL._AC_UY327_QL65_.jpg 1.5x, https://m.media-amazon.com/images/I/71rBrgbl9YL._AC_UY436_QL65_.jpg 2x, https://m.media-amazon.com/images/I/71rBrgbl9YL._AC_UY545_QL65_.jpg 2.5x, https://m.media-amazon.com/images/I/71rBrgbl9YL._AC_UY654_QL65_.jpg 3x\"/></div></a>,\n",
       " <a class=\"a-link-normal s-no-outline\" href=\"/Google-Cloud-Platform-Data-Engineering-ebook/dp/B07ZGB4F7T/ref=sr_1_2?crid=3M8UI1BF4LLQ&amp;keywords=gcp+professional+data+engineering+books&amp;qid=1689155666&amp;sprefix=data+engineering+book%2Caps%2C374&amp;sr=8-2\" target=\"_blank\"><div class=\"a-section aok-relative s-image-fixed-height\"><img alt=\"Google Cloud Platform for Data Engineering: Learn fundamental to advanced data engineering concepts and techniques using 3...\" class=\"s-image\" data-image-index=\"2\" data-image-latency=\"s-product-image\" data-image-load=\"\" data-image-source-density=\"1\" src=\"https://m.media-amazon.com/images/I/81-VWRmyLpL._AC_UY218_.jpg\" srcset=\"https://m.media-amazon.com/images/I/81-VWRmyLpL._AC_UY218_.jpg 1x, https://m.media-amazon.com/images/I/81-VWRmyLpL._AC_UY327_QL65_.jpg 1.5x, https://m.media-amazon.com/images/I/81-VWRmyLpL._AC_UY436_QL65_.jpg 2x, https://m.media-amazon.com/images/I/81-VWRmyLpL._AC_UY545_QL65_.jpg 2.5x, https://m.media-amazon.com/images/I/81-VWRmyLpL._AC_UY654_QL65_.jpg 3x\"/></div></a>,\n",
       " <a class=\"a-link-normal s-no-outline\" href=\"/Data-Engineering-Google-Cloud-Platform/dp/1800561326/ref=sr_1_3?crid=3M8UI1BF4LLQ&amp;keywords=gcp+professional+data+engineering+books&amp;qid=1689155666&amp;sprefix=data+engineering+book%2Caps%2C374&amp;sr=8-3\" target=\"_blank\"><div class=\"a-section aok-relative s-image-fixed-height\"><img alt=\"Data Engineering with Google Cloud Platform: A practical guide to operationalizing scalable data analytics systems on GCP\" class=\"s-image\" data-image-index=\"3\" data-image-latency=\"s-product-image\" data-image-load=\"\" data-image-source-density=\"1\" src=\"https://m.media-amazon.com/images/I/6154jQ0IUSL._AC_UY218_.jpg\" srcset=\"https://m.media-amazon.com/images/I/6154jQ0IUSL._AC_UY218_.jpg 1x, https://m.media-amazon.com/images/I/6154jQ0IUSL._AC_UY327_QL65_.jpg 1.5x, https://m.media-amazon.com/images/I/6154jQ0IUSL._AC_UY436_QL65_.jpg 2x, https://m.media-amazon.com/images/I/6154jQ0IUSL._AC_UY545_QL65_.jpg 2.5x, https://m.media-amazon.com/images/I/6154jQ0IUSL._AC_UY654_QL65_.jpg 3x\"/></div></a>,\n",
       " <a class=\"a-link-normal s-no-outline\" href=\"/Google-Professional-Engineer-Certification-Incredibly-ebook/dp/B0B4XW1Q9R/ref=sr_1_4?crid=3M8UI1BF4LLQ&amp;keywords=gcp+professional+data+engineering+books&amp;qid=1689155666&amp;sprefix=data+engineering+book%2Caps%2C374&amp;sr=8-4\" target=\"_blank\"><div class=\"a-section aok-relative s-image-fixed-height\"><img alt=\"Pass Google Cloud Professional Data Engineer Certification- An Incredibly Easy Method: Questions and Answers With Detailed...\" class=\"s-image\" data-image-index=\"4\" data-image-latency=\"s-product-image\" data-image-load=\"\" data-image-source-density=\"1\" src=\"https://m.media-amazon.com/images/I/61QeD+wYS-L._AC_UY218_.jpg\" srcset=\"https://m.media-amazon.com/images/I/61QeD+wYS-L._AC_UY218_.jpg 1x, https://m.media-amazon.com/images/I/61QeD+wYS-L._AC_UY327_QL65_.jpg 1.5x, https://m.media-amazon.com/images/I/61QeD+wYS-L._AC_UY436_QL65_.jpg 2x, https://m.media-amazon.com/images/I/61QeD+wYS-L._AC_UY545_QL65_.jpg 2.5x, https://m.media-amazon.com/images/I/61QeD+wYS-L._AC_UY654_QL65_.jpg 3x\"/></div></a>,\n",
       " <a class=\"a-link-normal s-no-outline\" href=\"/professional-engineer-mondaishu-mogimondaisyu-Japanese-ebook/dp/B09RHX4NQ4/ref=sr_1_5?crid=3M8UI1BF4LLQ&amp;keywords=gcp+professional+data+engineering+books&amp;qid=1689155666&amp;sprefix=data+engineering+book%2Caps%2C374&amp;sr=8-5\" target=\"_blank\"><div class=\"a-section aok-relative s-image-fixed-height\"><img alt=\"google cloud professional data engineer mogi mondaishu cloud nintei mogimondaisyu series (Japanese Edition)\" class=\"s-image\" data-image-index=\"5\" data-image-latency=\"s-product-image\" data-image-load=\"\" data-image-source-density=\"1\" src=\"https://m.media-amazon.com/images/I/61vue-HLxRL._AC_UY218_.jpg\" srcset=\"https://m.media-amazon.com/images/I/61vue-HLxRL._AC_UY218_.jpg 1x, https://m.media-amazon.com/images/I/61vue-HLxRL._AC_UY327_QL65_.jpg 1.5x, https://m.media-amazon.com/images/I/61vue-HLxRL._AC_UY436_QL65_.jpg 2x, https://m.media-amazon.com/images/I/61vue-HLxRL._AC_UY545_QL65_.jpg 2.5x, https://m.media-amazon.com/images/I/61vue-HLxRL._AC_UY654_QL65_.jpg 3x\"/></div></a>,\n",
       " <a class=\"a-link-normal s-no-outline\" href=\"/GOOGLE-PROFESSIONAL-DATA-ENGINEER-developing-ebook/dp/B08KPXSXH8/ref=sr_1_6?crid=3M8UI1BF4LLQ&amp;keywords=gcp+professional+data+engineering+books&amp;qid=1689155666&amp;sprefix=data+engineering+book%2Caps%2C374&amp;sr=8-6\" target=\"_blank\"><div class=\"a-section aok-relative s-image-fixed-height\"><img alt=\"GOOGLE PROFESSIONAL DATA ENGINEER: A handy guide to designing, developing, and managing engineer data solutions\" class=\"s-image\" data-image-index=\"6\" data-image-latency=\"s-product-image\" data-image-load=\"\" data-image-source-density=\"1\" src=\"https://m.media-amazon.com/images/I/71Ot+pfhG-L._AC_UY218_.jpg\" srcset=\"https://m.media-amazon.com/images/I/71Ot+pfhG-L._AC_UY218_.jpg 1x, https://m.media-amazon.com/images/I/71Ot+pfhG-L._AC_UY327_QL65_.jpg 1.5x, https://m.media-amazon.com/images/I/71Ot+pfhG-L._AC_UY436_QL65_.jpg 2x, https://m.media-amazon.com/images/I/71Ot+pfhG-L._AC_UY545_QL65_.jpg 2.5x, https://m.media-amazon.com/images/I/71Ot+pfhG-L._AC_UY654_QL65_.jpg 3x\"/></div></a>,\n",
       " <a class=\"a-link-normal s-no-outline\" href=\"/Professional-Cloud-Architect-Certification-enterprise-grade/dp/1838555277/ref=sr_1_7?crid=3M8UI1BF4LLQ&amp;keywords=gcp+professional+data+engineering+books&amp;qid=1689155666&amp;sprefix=data+engineering+book%2Caps%2C374&amp;sr=8-7\" target=\"_blank\"><div class=\"a-section aok-relative s-image-fixed-height\"><img alt=\"Professional Cloud Architect – Google Cloud Certification Guide: A handy guide to designing, developing, and managing ente...\" class=\"s-image\" data-image-index=\"7\" data-image-latency=\"s-product-image\" data-image-load=\"\" data-image-source-density=\"1\" src=\"https://m.media-amazon.com/images/I/710qkafpKGL._AC_UY218_.jpg\" srcset=\"https://m.media-amazon.com/images/I/710qkafpKGL._AC_UY218_.jpg 1x, https://m.media-amazon.com/images/I/710qkafpKGL._AC_UY327_QL65_.jpg 1.5x, https://m.media-amazon.com/images/I/710qkafpKGL._AC_UY436_QL65_.jpg 2x, https://m.media-amazon.com/images/I/710qkafpKGL._AC_UY545_QL65_.jpg 2.5x, https://m.media-amazon.com/images/I/710qkafpKGL._AC_UY654_QL65_.jpg 3x\"/></div></a>,\n",
       " <a class=\"a-link-normal s-no-outline\" href=\"/Succeed-Google-Professional-Engineer-Certification-ebook/dp/B0B4YGDHG8/ref=sr_1_8?crid=3M8UI1BF4LLQ&amp;keywords=gcp+professional+data+engineering+books&amp;qid=1689155666&amp;sprefix=data+engineering+book%2Caps%2C374&amp;sr=8-8\" target=\"_blank\"><div class=\"a-section aok-relative s-image-fixed-height\"><img alt=\"Succeed With Google Cloud Professional Data Engineer Certification Guide That Works For All: Questions and Answers With De...\" class=\"s-image\" data-image-index=\"8\" data-image-latency=\"s-product-image\" data-image-load=\"\" data-image-source-density=\"1\" src=\"https://m.media-amazon.com/images/I/61hZPH2DK8L._AC_UY218_.jpg\" srcset=\"https://m.media-amazon.com/images/I/61hZPH2DK8L._AC_UY218_.jpg 1x, https://m.media-amazon.com/images/I/61hZPH2DK8L._AC_UY327_QL65_.jpg 1.5x, https://m.media-amazon.com/images/I/61hZPH2DK8L._AC_UY436_QL65_.jpg 2x, https://m.media-amazon.com/images/I/61hZPH2DK8L._AC_UY545_QL65_.jpg 2.5x, https://m.media-amazon.com/images/I/61hZPH2DK8L._AC_UY654_QL65_.jpg 3x\"/></div></a>,\n",
       " <a class=\"a-link-normal s-no-outline\" href=\"/Google-Certified-Professional-Data-Engineer-ebook/dp/B09XR7CXNS/ref=sr_1_9?crid=3M8UI1BF4LLQ&amp;keywords=gcp+professional+data+engineering+books&amp;qid=1689155666&amp;sprefix=data+engineering+book%2Caps%2C374&amp;sr=8-9\" target=\"_blank\"><div class=\"a-section aok-relative s-image-fixed-height\"><img alt=\"Google Certified Professional Data Engineer: Exam Cram Notes: First Edition - 2022\" class=\"s-image\" data-image-index=\"9\" data-image-latency=\"s-product-image\" data-image-load=\"\" data-image-source-density=\"1\" src=\"https://m.media-amazon.com/images/I/61IJGxs-VrL._AC_UY218_.jpg\" srcset=\"https://m.media-amazon.com/images/I/61IJGxs-VrL._AC_UY218_.jpg 1x, https://m.media-amazon.com/images/I/61IJGxs-VrL._AC_UY327_QL65_.jpg 1.5x, https://m.media-amazon.com/images/I/61IJGxs-VrL._AC_UY436_QL65_.jpg 2x, https://m.media-amazon.com/images/I/61IJGxs-VrL._AC_UY545_QL65_.jpg 2.5x, https://m.media-amazon.com/images/I/61IJGxs-VrL._AC_UY654_QL65_.jpg 3x\"/></div></a>,\n",
       " <a class=\"a-link-normal s-no-outline\" href=\"/GCP-Associate-Cloud-Engineer-Examination-ebook/dp/B09KVDJMYF/ref=sr_1_10?crid=3M8UI1BF4LLQ&amp;keywords=gcp+professional+data+engineering+books&amp;qid=1689155666&amp;sprefix=data+engineering+book%2Caps%2C374&amp;sr=8-10\" target=\"_blank\"><div class=\"a-section aok-relative s-image-fixed-height\"><img alt=\"GCP Associate Cloud Engineer - Question With Answer [All MCQ]: 100% Guarantee You Will Pass The Examination\" class=\"s-image\" data-image-index=\"10\" data-image-latency=\"s-product-image\" data-image-load=\"\" data-image-source-density=\"1\" src=\"https://m.media-amazon.com/images/I/714Qj44vehL._AC_UY218_.jpg\" srcset=\"https://m.media-amazon.com/images/I/714Qj44vehL._AC_UY218_.jpg 1x, https://m.media-amazon.com/images/I/714Qj44vehL._AC_UY327_QL65_.jpg 1.5x, https://m.media-amazon.com/images/I/714Qj44vehL._AC_UY436_QL65_.jpg 2x, https://m.media-amazon.com/images/I/714Qj44vehL._AC_UY545_QL65_.jpg 2.5x, https://m.media-amazon.com/images/I/714Qj44vehL._AC_UY654_QL65_.jpg 3x\"/></div></a>,\n",
       " <a class=\"a-link-normal s-no-outline\" href=\"/Analytics-Subhashini-Chellappan-Seema-Acharya/dp/812657951X/ref=sr_1_11?crid=3M8UI1BF4LLQ&amp;keywords=gcp+professional+data+engineering+books&amp;qid=1689155666&amp;sprefix=data+engineering+book%2Caps%2C374&amp;sr=8-11\" target=\"_blank\"><div class=\"a-section aok-relative s-image-fixed-height\"><img alt=\"Big Data and Analytics, 2ed | IM | BS | e\" class=\"s-image\" data-image-index=\"11\" data-image-latency=\"s-product-image\" data-image-load=\"\" data-image-source-density=\"1\" src=\"https://m.media-amazon.com/images/I/71Kxb8HIqqL._AC_UY218_.jpg\" srcset=\"https://m.media-amazon.com/images/I/71Kxb8HIqqL._AC_UY218_.jpg 1x, https://m.media-amazon.com/images/I/71Kxb8HIqqL._AC_UY327_QL65_.jpg 1.5x, https://m.media-amazon.com/images/I/71Kxb8HIqqL._AC_UY436_QL65_.jpg 2x, https://m.media-amazon.com/images/I/71Kxb8HIqqL._AC_UY545_QL65_.jpg 2.5x, https://m.media-amazon.com/images/I/71Kxb8HIqqL._AC_UY654_QL65_.jpg 3x\"/></div></a>,\n",
       " <a class=\"a-link-normal s-no-outline\" href=\"/BigQuery-Data-Warehousing-Managed-Analysis/dp/1484261852/ref=sr_1_12?crid=3M8UI1BF4LLQ&amp;keywords=gcp+professional+data+engineering+books&amp;qid=1689155666&amp;sprefix=data+engineering+book%2Caps%2C374&amp;sr=8-12\" target=\"_blank\"><div class=\"a-section aok-relative s-image-fixed-height\"><img alt=\"BigQuery for Data Warehousing: Managed Data Analysis in the Google Cloud\" class=\"s-image\" data-image-index=\"12\" data-image-latency=\"s-product-image\" data-image-load=\"\" data-image-source-density=\"1\" src=\"https://m.media-amazon.com/images/I/61YBQaE3TAL._AC_UY218_.jpg\" srcset=\"https://m.media-amazon.com/images/I/61YBQaE3TAL._AC_UY218_.jpg 1x, https://m.media-amazon.com/images/I/61YBQaE3TAL._AC_UY327_QL65_.jpg 1.5x, https://m.media-amazon.com/images/I/61YBQaE3TAL._AC_UY436_QL65_.jpg 2x, https://m.media-amazon.com/images/I/61YBQaE3TAL._AC_UY545_QL65_.jpg 2.5x, https://m.media-amazon.com/images/I/61YBQaE3TAL._AC_UY654_QL65_.jpg 3x\"/></div></a>,\n",
       " <a class=\"a-link-normal s-no-outline\" href=\"/Google-Cloud-Certified-Associate-Engineer/dp/1119871441/ref=sr_1_13?crid=3M8UI1BF4LLQ&amp;keywords=gcp+professional+data+engineering+books&amp;qid=1689155666&amp;sprefix=data+engineering+book%2Caps%2C374&amp;sr=8-13\" target=\"_blank\"><div class=\"a-section aok-relative s-image-fixed-height\"><img alt=\"Google Cloud Certified Associate Cloud Engineer St udy Guide, 2nd edition\" class=\"s-image\" data-image-index=\"13\" data-image-latency=\"s-product-image\" data-image-load=\"\" data-image-source-density=\"1\" src=\"https://m.media-amazon.com/images/I/81SwsFQk7rL._AC_UY218_.jpg\" srcset=\"https://m.media-amazon.com/images/I/81SwsFQk7rL._AC_UY218_.jpg 1x, https://m.media-amazon.com/images/I/81SwsFQk7rL._AC_UY327_QL65_.jpg 1.5x, https://m.media-amazon.com/images/I/81SwsFQk7rL._AC_UY436_QL65_.jpg 2x, https://m.media-amazon.com/images/I/81SwsFQk7rL._AC_UY545_QL65_.jpg 2.5x, https://m.media-amazon.com/images/I/81SwsFQk7rL._AC_UY654_QL65_.jpg 3x\"/></div></a>,\n",
       " <a class=\"a-link-normal s-no-outline\" href=\"/Build-Analytics-Google-Cloud-Platform/dp/9389423635/ref=sr_1_14?crid=3M8UI1BF4LLQ&amp;keywords=gcp+professional+data+engineering+books&amp;qid=1689155666&amp;sprefix=data+engineering+book%2Caps%2C374&amp;sr=8-14\" target=\"_blank\"><div class=\"a-section aok-relative s-image-fixed-height\"><img alt=\"Data Analytics with Google Cloud Platform\" class=\"s-image\" data-image-index=\"14\" data-image-latency=\"s-product-image\" data-image-load=\"\" data-image-source-density=\"1\" src=\"https://m.media-amazon.com/images/I/51UuVx7P5lL._AC_UY218_.jpg\" srcset=\"https://m.media-amazon.com/images/I/51UuVx7P5lL._AC_UY218_.jpg 1x, https://m.media-amazon.com/images/I/51UuVx7P5lL._AC_UY327_QL65_.jpg 1.5x, https://m.media-amazon.com/images/I/51UuVx7P5lL._AC_UY436_QL65_.jpg 2x, https://m.media-amazon.com/images/I/51UuVx7P5lL._AC_UY500_QL65_.jpg 2.2935x\"/></div></a>,\n",
       " <a class=\"a-link-normal s-no-outline\" href=\"/Software-Engineering-Ian-Sommerville/dp/9332582696/ref=sr_1_15?crid=3M8UI1BF4LLQ&amp;keywords=gcp+professional+data+engineering+books&amp;qid=1689155666&amp;sprefix=data+engineering+book%2Caps%2C374&amp;sr=8-15\" target=\"_blank\"><div class=\"a-section aok-relative s-image-fixed-height\"><img alt=\"Software Engineering, 10/e\" class=\"s-image\" data-image-index=\"15\" data-image-latency=\"s-product-image\" data-image-load=\"\" data-image-source-density=\"1\" src=\"https://m.media-amazon.com/images/I/81iXn5LPFiL._AC_UY218_.jpg\" srcset=\"https://m.media-amazon.com/images/I/81iXn5LPFiL._AC_UY218_.jpg 1x, https://m.media-amazon.com/images/I/81iXn5LPFiL._AC_UY327_QL65_.jpg 1.5x, https://m.media-amazon.com/images/I/81iXn5LPFiL._AC_UY436_QL65_.jpg 2x, https://m.media-amazon.com/images/I/81iXn5LPFiL._AC_UY545_QL65_.jpg 2.5x, https://m.media-amazon.com/images/I/81iXn5LPFiL._AC_UY654_QL65_.jpg 3x\"/></div></a>,\n",
       " <a class=\"a-link-normal s-no-outline\" href=\"/Writing-Managing-SOPs-Susanne-Prokscha-ebook/dp/B0116R42LS/ref=sr_1_16?crid=3M8UI1BF4LLQ&amp;keywords=gcp+professional+data+engineering+books&amp;qid=1689155666&amp;sprefix=data+engineering+book%2Caps%2C374&amp;sr=8-16\" target=\"_blank\"><div class=\"a-section aok-relative s-image-fixed-height\"><img alt=\"Writing and Managing SOPs for GCP\" class=\"s-image\" data-image-index=\"16\" data-image-latency=\"s-product-image\" data-image-load=\"\" data-image-source-density=\"1\" src=\"https://m.media-amazon.com/images/I/71MGiA2tZ5L._AC_UY218_.jpg\" srcset=\"https://m.media-amazon.com/images/I/71MGiA2tZ5L._AC_UY218_.jpg 1x, https://m.media-amazon.com/images/I/71MGiA2tZ5L._AC_UY327_QL65_.jpg 1.5x, https://m.media-amazon.com/images/I/71MGiA2tZ5L._AC_UY436_QL65_.jpg 2x, https://m.media-amazon.com/images/I/71MGiA2tZ5L._AC_UY545_QL65_.jpg 2.5x, https://m.media-amazon.com/images/I/71MGiA2tZ5L._AC_UY654_QL65_.jpg 3x\"/></div></a>,\n",
       " <a class=\"a-link-normal s-no-outline\" href=\"/Official-Google-Certified-Professional-Engineer/dp/1119618436/ref=sr_1_1?crid=3M8UI1BF4LLQ&amp;keywords=gcp+professional+data+engineering+books&amp;qid=1689155669&amp;sprefix=data+engineering+book%2Caps%2C374&amp;sr=8-1\" target=\"_blank\"><div class=\"a-section aok-relative s-image-fixed-height\"><img alt=\"GOOGLE CLOUD CERTIFIED PROFESSIONAL DATA\" class=\"s-image\" data-image-index=\"1\" data-image-latency=\"s-product-image\" data-image-load=\"\" data-image-source-density=\"1\" src=\"https://m.media-amazon.com/images/I/71rBrgbl9YL._AC_UY218_.jpg\" srcset=\"https://m.media-amazon.com/images/I/71rBrgbl9YL._AC_UY218_.jpg 1x, https://m.media-amazon.com/images/I/71rBrgbl9YL._AC_UY327_QL65_.jpg 1.5x, https://m.media-amazon.com/images/I/71rBrgbl9YL._AC_UY436_QL65_.jpg 2x, https://m.media-amazon.com/images/I/71rBrgbl9YL._AC_UY545_QL65_.jpg 2.5x, https://m.media-amazon.com/images/I/71rBrgbl9YL._AC_UY654_QL65_.jpg 3x\"/></div></a>,\n",
       " <a class=\"a-link-normal s-no-outline\" href=\"/Google-Cloud-Platform-Data-Engineering-ebook/dp/B07ZGB4F7T/ref=sr_1_2?crid=3M8UI1BF4LLQ&amp;keywords=gcp+professional+data+engineering+books&amp;qid=1689155669&amp;sprefix=data+engineering+book%2Caps%2C374&amp;sr=8-2\" target=\"_blank\"><div class=\"a-section aok-relative s-image-fixed-height\"><img alt=\"Google Cloud Platform for Data Engineering: Learn fundamental to advanced data engineering concepts and techniques using 3...\" class=\"s-image\" data-image-index=\"2\" data-image-latency=\"s-product-image\" data-image-load=\"\" data-image-source-density=\"1\" src=\"https://m.media-amazon.com/images/I/81-VWRmyLpL._AC_UY218_.jpg\" srcset=\"https://m.media-amazon.com/images/I/81-VWRmyLpL._AC_UY218_.jpg 1x, https://m.media-amazon.com/images/I/81-VWRmyLpL._AC_UY327_QL65_.jpg 1.5x, https://m.media-amazon.com/images/I/81-VWRmyLpL._AC_UY436_QL65_.jpg 2x, https://m.media-amazon.com/images/I/81-VWRmyLpL._AC_UY545_QL65_.jpg 2.5x, https://m.media-amazon.com/images/I/81-VWRmyLpL._AC_UY654_QL65_.jpg 3x\"/></div></a>,\n",
       " <a class=\"a-link-normal s-no-outline\" href=\"/Data-Engineering-Google-Cloud-Platform/dp/1800561326/ref=sr_1_3?crid=3M8UI1BF4LLQ&amp;keywords=gcp+professional+data+engineering+books&amp;qid=1689155669&amp;sprefix=data+engineering+book%2Caps%2C374&amp;sr=8-3\" target=\"_blank\"><div class=\"a-section aok-relative s-image-fixed-height\"><img alt=\"Data Engineering with Google Cloud Platform: A practical guide to operationalizing scalable data analytics systems on GCP\" class=\"s-image\" data-image-index=\"3\" data-image-latency=\"s-product-image\" data-image-load=\"\" data-image-source-density=\"1\" src=\"https://m.media-amazon.com/images/I/6154jQ0IUSL._AC_UY218_.jpg\" srcset=\"https://m.media-amazon.com/images/I/6154jQ0IUSL._AC_UY218_.jpg 1x, https://m.media-amazon.com/images/I/6154jQ0IUSL._AC_UY327_QL65_.jpg 1.5x, https://m.media-amazon.com/images/I/6154jQ0IUSL._AC_UY436_QL65_.jpg 2x, https://m.media-amazon.com/images/I/6154jQ0IUSL._AC_UY545_QL65_.jpg 2.5x, https://m.media-amazon.com/images/I/6154jQ0IUSL._AC_UY654_QL65_.jpg 3x\"/></div></a>,\n",
       " <a class=\"a-link-normal s-no-outline\" href=\"/Google-Professional-Engineer-Certification-Incredibly-ebook/dp/B0B4XW1Q9R/ref=sr_1_4?crid=3M8UI1BF4LLQ&amp;keywords=gcp+professional+data+engineering+books&amp;qid=1689155669&amp;sprefix=data+engineering+book%2Caps%2C374&amp;sr=8-4\" target=\"_blank\"><div class=\"a-section aok-relative s-image-fixed-height\"><img alt=\"Pass Google Cloud Professional Data Engineer Certification- An Incredibly Easy Method: Questions and Answers With Detailed...\" class=\"s-image\" data-image-index=\"4\" data-image-latency=\"s-product-image\" data-image-load=\"\" data-image-source-density=\"1\" src=\"https://m.media-amazon.com/images/I/61QeD+wYS-L._AC_UY218_.jpg\" srcset=\"https://m.media-amazon.com/images/I/61QeD+wYS-L._AC_UY218_.jpg 1x, https://m.media-amazon.com/images/I/61QeD+wYS-L._AC_UY327_QL65_.jpg 1.5x, https://m.media-amazon.com/images/I/61QeD+wYS-L._AC_UY436_QL65_.jpg 2x, https://m.media-amazon.com/images/I/61QeD+wYS-L._AC_UY545_QL65_.jpg 2.5x, https://m.media-amazon.com/images/I/61QeD+wYS-L._AC_UY654_QL65_.jpg 3x\"/></div></a>,\n",
       " <a class=\"a-link-normal s-no-outline\" href=\"/professional-engineer-mondaishu-mogimondaisyu-Japanese-ebook/dp/B09RHX4NQ4/ref=sr_1_5?crid=3M8UI1BF4LLQ&amp;keywords=gcp+professional+data+engineering+books&amp;qid=1689155669&amp;sprefix=data+engineering+book%2Caps%2C374&amp;sr=8-5\" target=\"_blank\"><div class=\"a-section aok-relative s-image-fixed-height\"><img alt=\"google cloud professional data engineer mogi mondaishu cloud nintei mogimondaisyu series (Japanese Edition)\" class=\"s-image\" data-image-index=\"5\" data-image-latency=\"s-product-image\" data-image-load=\"\" data-image-source-density=\"1\" src=\"https://m.media-amazon.com/images/I/61vue-HLxRL._AC_UY218_.jpg\" srcset=\"https://m.media-amazon.com/images/I/61vue-HLxRL._AC_UY218_.jpg 1x, https://m.media-amazon.com/images/I/61vue-HLxRL._AC_UY327_QL65_.jpg 1.5x, https://m.media-amazon.com/images/I/61vue-HLxRL._AC_UY436_QL65_.jpg 2x, https://m.media-amazon.com/images/I/61vue-HLxRL._AC_UY545_QL65_.jpg 2.5x, https://m.media-amazon.com/images/I/61vue-HLxRL._AC_UY654_QL65_.jpg 3x\"/></div></a>,\n",
       " <a class=\"a-link-normal s-no-outline\" href=\"/GOOGLE-PROFESSIONAL-DATA-ENGINEER-developing-ebook/dp/B08KPXSXH8/ref=sr_1_6?crid=3M8UI1BF4LLQ&amp;keywords=gcp+professional+data+engineering+books&amp;qid=1689155669&amp;sprefix=data+engineering+book%2Caps%2C374&amp;sr=8-6\" target=\"_blank\"><div class=\"a-section aok-relative s-image-fixed-height\"><img alt=\"GOOGLE PROFESSIONAL DATA ENGINEER: A handy guide to designing, developing, and managing engineer data solutions\" class=\"s-image\" data-image-index=\"6\" data-image-latency=\"s-product-image\" data-image-load=\"\" data-image-source-density=\"1\" src=\"https://m.media-amazon.com/images/I/71Ot+pfhG-L._AC_UY218_.jpg\" srcset=\"https://m.media-amazon.com/images/I/71Ot+pfhG-L._AC_UY218_.jpg 1x, https://m.media-amazon.com/images/I/71Ot+pfhG-L._AC_UY327_QL65_.jpg 1.5x, https://m.media-amazon.com/images/I/71Ot+pfhG-L._AC_UY436_QL65_.jpg 2x, https://m.media-amazon.com/images/I/71Ot+pfhG-L._AC_UY545_QL65_.jpg 2.5x, https://m.media-amazon.com/images/I/71Ot+pfhG-L._AC_UY654_QL65_.jpg 3x\"/></div></a>,\n",
       " <a class=\"a-link-normal s-no-outline\" href=\"/Professional-Cloud-Architect-Certification-enterprise-grade/dp/1838555277/ref=sr_1_7?crid=3M8UI1BF4LLQ&amp;keywords=gcp+professional+data+engineering+books&amp;qid=1689155669&amp;sprefix=data+engineering+book%2Caps%2C374&amp;sr=8-7\" target=\"_blank\"><div class=\"a-section aok-relative s-image-fixed-height\"><img alt=\"Professional Cloud Architect – Google Cloud Certification Guide: A handy guide to designing, developing, and managing ente...\" class=\"s-image\" data-image-index=\"7\" data-image-latency=\"s-product-image\" data-image-load=\"\" data-image-source-density=\"1\" src=\"https://m.media-amazon.com/images/I/710qkafpKGL._AC_UY218_.jpg\" srcset=\"https://m.media-amazon.com/images/I/710qkafpKGL._AC_UY218_.jpg 1x, https://m.media-amazon.com/images/I/710qkafpKGL._AC_UY327_QL65_.jpg 1.5x, https://m.media-amazon.com/images/I/710qkafpKGL._AC_UY436_QL65_.jpg 2x, https://m.media-amazon.com/images/I/710qkafpKGL._AC_UY545_QL65_.jpg 2.5x, https://m.media-amazon.com/images/I/710qkafpKGL._AC_UY654_QL65_.jpg 3x\"/></div></a>,\n",
       " <a class=\"a-link-normal s-no-outline\" href=\"/Succeed-Google-Professional-Engineer-Certification-ebook/dp/B0B4YGDHG8/ref=sr_1_8?crid=3M8UI1BF4LLQ&amp;keywords=gcp+professional+data+engineering+books&amp;qid=1689155669&amp;sprefix=data+engineering+book%2Caps%2C374&amp;sr=8-8\" target=\"_blank\"><div class=\"a-section aok-relative s-image-fixed-height\"><img alt=\"Succeed With Google Cloud Professional Data Engineer Certification Guide That Works For All: Questions and Answers With De...\" class=\"s-image\" data-image-index=\"8\" data-image-latency=\"s-product-image\" data-image-load=\"\" data-image-source-density=\"1\" src=\"https://m.media-amazon.com/images/I/61hZPH2DK8L._AC_UY218_.jpg\" srcset=\"https://m.media-amazon.com/images/I/61hZPH2DK8L._AC_UY218_.jpg 1x, https://m.media-amazon.com/images/I/61hZPH2DK8L._AC_UY327_QL65_.jpg 1.5x, https://m.media-amazon.com/images/I/61hZPH2DK8L._AC_UY436_QL65_.jpg 2x, https://m.media-amazon.com/images/I/61hZPH2DK8L._AC_UY545_QL65_.jpg 2.5x, https://m.media-amazon.com/images/I/61hZPH2DK8L._AC_UY654_QL65_.jpg 3x\"/></div></a>,\n",
       " <a class=\"a-link-normal s-no-outline\" href=\"/Google-Certified-Professional-Data-Engineer-ebook/dp/B09XR7CXNS/ref=sr_1_9?crid=3M8UI1BF4LLQ&amp;keywords=gcp+professional+data+engineering+books&amp;qid=1689155669&amp;sprefix=data+engineering+book%2Caps%2C374&amp;sr=8-9\" target=\"_blank\"><div class=\"a-section aok-relative s-image-fixed-height\"><img alt=\"Google Certified Professional Data Engineer: Exam Cram Notes: First Edition - 2022\" class=\"s-image\" data-image-index=\"9\" data-image-latency=\"s-product-image\" data-image-load=\"\" data-image-source-density=\"1\" src=\"https://m.media-amazon.com/images/I/61IJGxs-VrL._AC_UY218_.jpg\" srcset=\"https://m.media-amazon.com/images/I/61IJGxs-VrL._AC_UY218_.jpg 1x, https://m.media-amazon.com/images/I/61IJGxs-VrL._AC_UY327_QL65_.jpg 1.5x, https://m.media-amazon.com/images/I/61IJGxs-VrL._AC_UY436_QL65_.jpg 2x, https://m.media-amazon.com/images/I/61IJGxs-VrL._AC_UY545_QL65_.jpg 2.5x, https://m.media-amazon.com/images/I/61IJGxs-VrL._AC_UY654_QL65_.jpg 3x\"/></div></a>,\n",
       " <a class=\"a-link-normal s-no-outline\" href=\"/GCP-Associate-Cloud-Engineer-Examination-ebook/dp/B09KVDJMYF/ref=sr_1_10?crid=3M8UI1BF4LLQ&amp;keywords=gcp+professional+data+engineering+books&amp;qid=1689155669&amp;sprefix=data+engineering+book%2Caps%2C374&amp;sr=8-10\" target=\"_blank\"><div class=\"a-section aok-relative s-image-fixed-height\"><img alt=\"GCP Associate Cloud Engineer - Question With Answer [All MCQ]: 100% Guarantee You Will Pass The Examination\" class=\"s-image\" data-image-index=\"10\" data-image-latency=\"s-product-image\" data-image-load=\"\" data-image-source-density=\"1\" src=\"https://m.media-amazon.com/images/I/714Qj44vehL._AC_UY218_.jpg\" srcset=\"https://m.media-amazon.com/images/I/714Qj44vehL._AC_UY218_.jpg 1x, https://m.media-amazon.com/images/I/714Qj44vehL._AC_UY327_QL65_.jpg 1.5x, https://m.media-amazon.com/images/I/714Qj44vehL._AC_UY436_QL65_.jpg 2x, https://m.media-amazon.com/images/I/714Qj44vehL._AC_UY545_QL65_.jpg 2.5x, https://m.media-amazon.com/images/I/714Qj44vehL._AC_UY654_QL65_.jpg 3x\"/></div></a>,\n",
       " <a class=\"a-link-normal s-no-outline\" href=\"/Analytics-Subhashini-Chellappan-Seema-Acharya/dp/812657951X/ref=sr_1_11?crid=3M8UI1BF4LLQ&amp;keywords=gcp+professional+data+engineering+books&amp;qid=1689155669&amp;sprefix=data+engineering+book%2Caps%2C374&amp;sr=8-11\" target=\"_blank\"><div class=\"a-section aok-relative s-image-fixed-height\"><img alt=\"Big Data and Analytics, 2ed | IM | BS | e\" class=\"s-image\" data-image-index=\"11\" data-image-latency=\"s-product-image\" data-image-load=\"\" data-image-source-density=\"1\" src=\"https://m.media-amazon.com/images/I/71Kxb8HIqqL._AC_UY218_.jpg\" srcset=\"https://m.media-amazon.com/images/I/71Kxb8HIqqL._AC_UY218_.jpg 1x, https://m.media-amazon.com/images/I/71Kxb8HIqqL._AC_UY327_QL65_.jpg 1.5x, https://m.media-amazon.com/images/I/71Kxb8HIqqL._AC_UY436_QL65_.jpg 2x, https://m.media-amazon.com/images/I/71Kxb8HIqqL._AC_UY545_QL65_.jpg 2.5x, https://m.media-amazon.com/images/I/71Kxb8HIqqL._AC_UY654_QL65_.jpg 3x\"/></div></a>,\n",
       " <a class=\"a-link-normal s-no-outline\" href=\"/BigQuery-Data-Warehousing-Managed-Analysis/dp/1484261852/ref=sr_1_12?crid=3M8UI1BF4LLQ&amp;keywords=gcp+professional+data+engineering+books&amp;qid=1689155669&amp;sprefix=data+engineering+book%2Caps%2C374&amp;sr=8-12\" target=\"_blank\"><div class=\"a-section aok-relative s-image-fixed-height\"><img alt=\"BigQuery for Data Warehousing: Managed Data Analysis in the Google Cloud\" class=\"s-image\" data-image-index=\"12\" data-image-latency=\"s-product-image\" data-image-load=\"\" data-image-source-density=\"1\" src=\"https://m.media-amazon.com/images/I/61YBQaE3TAL._AC_UY218_.jpg\" srcset=\"https://m.media-amazon.com/images/I/61YBQaE3TAL._AC_UY218_.jpg 1x, https://m.media-amazon.com/images/I/61YBQaE3TAL._AC_UY327_QL65_.jpg 1.5x, https://m.media-amazon.com/images/I/61YBQaE3TAL._AC_UY436_QL65_.jpg 2x, https://m.media-amazon.com/images/I/61YBQaE3TAL._AC_UY545_QL65_.jpg 2.5x, https://m.media-amazon.com/images/I/61YBQaE3TAL._AC_UY654_QL65_.jpg 3x\"/></div></a>,\n",
       " <a class=\"a-link-normal s-no-outline\" href=\"/Google-Cloud-Certified-Associate-Engineer/dp/1119871441/ref=sr_1_13?crid=3M8UI1BF4LLQ&amp;keywords=gcp+professional+data+engineering+books&amp;qid=1689155669&amp;sprefix=data+engineering+book%2Caps%2C374&amp;sr=8-13\" target=\"_blank\"><div class=\"a-section aok-relative s-image-fixed-height\"><img alt=\"Google Cloud Certified Associate Cloud Engineer St udy Guide, 2nd edition\" class=\"s-image\" data-image-index=\"13\" data-image-latency=\"s-product-image\" data-image-load=\"\" data-image-source-density=\"1\" src=\"https://m.media-amazon.com/images/I/81SwsFQk7rL._AC_UY218_.jpg\" srcset=\"https://m.media-amazon.com/images/I/81SwsFQk7rL._AC_UY218_.jpg 1x, https://m.media-amazon.com/images/I/81SwsFQk7rL._AC_UY327_QL65_.jpg 1.5x, https://m.media-amazon.com/images/I/81SwsFQk7rL._AC_UY436_QL65_.jpg 2x, https://m.media-amazon.com/images/I/81SwsFQk7rL._AC_UY545_QL65_.jpg 2.5x, https://m.media-amazon.com/images/I/81SwsFQk7rL._AC_UY654_QL65_.jpg 3x\"/></div></a>,\n",
       " <a class=\"a-link-normal s-no-outline\" href=\"/Build-Analytics-Google-Cloud-Platform/dp/9389423635/ref=sr_1_14?crid=3M8UI1BF4LLQ&amp;keywords=gcp+professional+data+engineering+books&amp;qid=1689155669&amp;sprefix=data+engineering+book%2Caps%2C374&amp;sr=8-14\" target=\"_blank\"><div class=\"a-section aok-relative s-image-fixed-height\"><img alt=\"Data Analytics with Google Cloud Platform\" class=\"s-image\" data-image-index=\"14\" data-image-latency=\"s-product-image\" data-image-load=\"\" data-image-source-density=\"1\" src=\"https://m.media-amazon.com/images/I/51UuVx7P5lL._AC_UY218_.jpg\" srcset=\"https://m.media-amazon.com/images/I/51UuVx7P5lL._AC_UY218_.jpg 1x, https://m.media-amazon.com/images/I/51UuVx7P5lL._AC_UY327_QL65_.jpg 1.5x, https://m.media-amazon.com/images/I/51UuVx7P5lL._AC_UY436_QL65_.jpg 2x, https://m.media-amazon.com/images/I/51UuVx7P5lL._AC_UY500_QL65_.jpg 2.2935x\"/></div></a>,\n",
       " <a class=\"a-link-normal s-no-outline\" href=\"/Software-Engineering-Ian-Sommerville/dp/9332582696/ref=sr_1_15?crid=3M8UI1BF4LLQ&amp;keywords=gcp+professional+data+engineering+books&amp;qid=1689155669&amp;sprefix=data+engineering+book%2Caps%2C374&amp;sr=8-15\" target=\"_blank\"><div class=\"a-section aok-relative s-image-fixed-height\"><img alt=\"Software Engineering, 10/e\" class=\"s-image\" data-image-index=\"15\" data-image-latency=\"s-product-image\" data-image-load=\"\" data-image-source-density=\"1\" src=\"https://m.media-amazon.com/images/I/81iXn5LPFiL._AC_UY218_.jpg\" srcset=\"https://m.media-amazon.com/images/I/81iXn5LPFiL._AC_UY218_.jpg 1x, https://m.media-amazon.com/images/I/81iXn5LPFiL._AC_UY327_QL65_.jpg 1.5x, https://m.media-amazon.com/images/I/81iXn5LPFiL._AC_UY436_QL65_.jpg 2x, https://m.media-amazon.com/images/I/81iXn5LPFiL._AC_UY545_QL65_.jpg 2.5x, https://m.media-amazon.com/images/I/81iXn5LPFiL._AC_UY654_QL65_.jpg 3x\"/></div></a>,\n",
       " <a class=\"a-link-normal s-no-outline\" href=\"/Writing-Managing-SOPs-Susanne-Prokscha-ebook/dp/B0116R42LS/ref=sr_1_16?crid=3M8UI1BF4LLQ&amp;keywords=gcp+professional+data+engineering+books&amp;qid=1689155669&amp;sprefix=data+engineering+book%2Caps%2C374&amp;sr=8-16\" target=\"_blank\"><div class=\"a-section aok-relative s-image-fixed-height\"><img alt=\"Writing and Managing SOPs for GCP\" class=\"s-image\" data-image-index=\"16\" data-image-latency=\"s-product-image\" data-image-load=\"\" data-image-source-density=\"1\" src=\"https://m.media-amazon.com/images/I/71MGiA2tZ5L._AC_UY218_.jpg\" srcset=\"https://m.media-amazon.com/images/I/71MGiA2tZ5L._AC_UY218_.jpg 1x, https://m.media-amazon.com/images/I/71MGiA2tZ5L._AC_UY327_QL65_.jpg 1.5x, https://m.media-amazon.com/images/I/71MGiA2tZ5L._AC_UY436_QL65_.jpg 2x, https://m.media-amazon.com/images/I/71MGiA2tZ5L._AC_UY545_QL65_.jpg 2.5x, https://m.media-amazon.com/images/I/71MGiA2tZ5L._AC_UY654_QL65_.jpg 3x\"/></div></a>,\n",
       " <a class=\"a-link-normal s-no-outline\" href=\"/Official-Google-Certified-Professional-Engineer/dp/1119618436/ref=sr_1_1?crid=3M8UI1BF4LLQ&amp;keywords=gcp+professional+data+engineering+books&amp;qid=1689155671&amp;sprefix=data+engineering+book%2Caps%2C374&amp;sr=8-1\" target=\"_blank\"><div class=\"a-section aok-relative s-image-fixed-height\"><img alt=\"GOOGLE CLOUD CERTIFIED PROFESSIONAL DATA\" class=\"s-image\" data-image-index=\"1\" data-image-latency=\"s-product-image\" data-image-load=\"\" data-image-source-density=\"1\" src=\"https://m.media-amazon.com/images/I/71rBrgbl9YL._AC_UY218_.jpg\" srcset=\"https://m.media-amazon.com/images/I/71rBrgbl9YL._AC_UY218_.jpg 1x, https://m.media-amazon.com/images/I/71rBrgbl9YL._AC_UY327_QL65_.jpg 1.5x, https://m.media-amazon.com/images/I/71rBrgbl9YL._AC_UY436_QL65_.jpg 2x, https://m.media-amazon.com/images/I/71rBrgbl9YL._AC_UY545_QL65_.jpg 2.5x, https://m.media-amazon.com/images/I/71rBrgbl9YL._AC_UY654_QL65_.jpg 3x\"/></div></a>,\n",
       " <a class=\"a-link-normal s-no-outline\" href=\"/Google-Cloud-Platform-Data-Engineering-ebook/dp/B07ZGB4F7T/ref=sr_1_2?crid=3M8UI1BF4LLQ&amp;keywords=gcp+professional+data+engineering+books&amp;qid=1689155671&amp;sprefix=data+engineering+book%2Caps%2C374&amp;sr=8-2\" target=\"_blank\"><div class=\"a-section aok-relative s-image-fixed-height\"><img alt=\"Google Cloud Platform for Data Engineering: Learn fundamental to advanced data engineering concepts and techniques using 3...\" class=\"s-image\" data-image-index=\"2\" data-image-latency=\"s-product-image\" data-image-load=\"\" data-image-source-density=\"1\" src=\"https://m.media-amazon.com/images/I/81-VWRmyLpL._AC_UY218_.jpg\" srcset=\"https://m.media-amazon.com/images/I/81-VWRmyLpL._AC_UY218_.jpg 1x, https://m.media-amazon.com/images/I/81-VWRmyLpL._AC_UY327_QL65_.jpg 1.5x, https://m.media-amazon.com/images/I/81-VWRmyLpL._AC_UY436_QL65_.jpg 2x, https://m.media-amazon.com/images/I/81-VWRmyLpL._AC_UY545_QL65_.jpg 2.5x, https://m.media-amazon.com/images/I/81-VWRmyLpL._AC_UY654_QL65_.jpg 3x\"/></div></a>,\n",
       " <a class=\"a-link-normal s-no-outline\" href=\"/Data-Engineering-Google-Cloud-Platform/dp/1800561326/ref=sr_1_3?crid=3M8UI1BF4LLQ&amp;keywords=gcp+professional+data+engineering+books&amp;qid=1689155671&amp;sprefix=data+engineering+book%2Caps%2C374&amp;sr=8-3\" target=\"_blank\"><div class=\"a-section aok-relative s-image-fixed-height\"><img alt=\"Data Engineering with Google Cloud Platform: A practical guide to operationalizing scalable data analytics systems on GCP\" class=\"s-image\" data-image-index=\"3\" data-image-latency=\"s-product-image\" data-image-load=\"\" data-image-source-density=\"1\" src=\"https://m.media-amazon.com/images/I/6154jQ0IUSL._AC_UY218_.jpg\" srcset=\"https://m.media-amazon.com/images/I/6154jQ0IUSL._AC_UY218_.jpg 1x, https://m.media-amazon.com/images/I/6154jQ0IUSL._AC_UY327_QL65_.jpg 1.5x, https://m.media-amazon.com/images/I/6154jQ0IUSL._AC_UY436_QL65_.jpg 2x, https://m.media-amazon.com/images/I/6154jQ0IUSL._AC_UY545_QL65_.jpg 2.5x, https://m.media-amazon.com/images/I/6154jQ0IUSL._AC_UY654_QL65_.jpg 3x\"/></div></a>,\n",
       " <a class=\"a-link-normal s-no-outline\" href=\"/Google-Professional-Engineer-Certification-Incredibly-ebook/dp/B0B4XW1Q9R/ref=sr_1_4?crid=3M8UI1BF4LLQ&amp;keywords=gcp+professional+data+engineering+books&amp;qid=1689155671&amp;sprefix=data+engineering+book%2Caps%2C374&amp;sr=8-4\" target=\"_blank\"><div class=\"a-section aok-relative s-image-fixed-height\"><img alt=\"Pass Google Cloud Professional Data Engineer Certification- An Incredibly Easy Method: Questions and Answers With Detailed...\" class=\"s-image\" data-image-index=\"4\" data-image-latency=\"s-product-image\" data-image-load=\"\" data-image-source-density=\"1\" src=\"https://m.media-amazon.com/images/I/61QeD+wYS-L._AC_UY218_.jpg\" srcset=\"https://m.media-amazon.com/images/I/61QeD+wYS-L._AC_UY218_.jpg 1x, https://m.media-amazon.com/images/I/61QeD+wYS-L._AC_UY327_QL65_.jpg 1.5x, https://m.media-amazon.com/images/I/61QeD+wYS-L._AC_UY436_QL65_.jpg 2x, https://m.media-amazon.com/images/I/61QeD+wYS-L._AC_UY545_QL65_.jpg 2.5x, https://m.media-amazon.com/images/I/61QeD+wYS-L._AC_UY654_QL65_.jpg 3x\"/></div></a>,\n",
       " <a class=\"a-link-normal s-no-outline\" href=\"/professional-engineer-mondaishu-mogimondaisyu-Japanese-ebook/dp/B09RHX4NQ4/ref=sr_1_5?crid=3M8UI1BF4LLQ&amp;keywords=gcp+professional+data+engineering+books&amp;qid=1689155671&amp;sprefix=data+engineering+book%2Caps%2C374&amp;sr=8-5\" target=\"_blank\"><div class=\"a-section aok-relative s-image-fixed-height\"><img alt=\"google cloud professional data engineer mogi mondaishu cloud nintei mogimondaisyu series (Japanese Edition)\" class=\"s-image\" data-image-index=\"5\" data-image-latency=\"s-product-image\" data-image-load=\"\" data-image-source-density=\"1\" src=\"https://m.media-amazon.com/images/I/61vue-HLxRL._AC_UY218_.jpg\" srcset=\"https://m.media-amazon.com/images/I/61vue-HLxRL._AC_UY218_.jpg 1x, https://m.media-amazon.com/images/I/61vue-HLxRL._AC_UY327_QL65_.jpg 1.5x, https://m.media-amazon.com/images/I/61vue-HLxRL._AC_UY436_QL65_.jpg 2x, https://m.media-amazon.com/images/I/61vue-HLxRL._AC_UY545_QL65_.jpg 2.5x, https://m.media-amazon.com/images/I/61vue-HLxRL._AC_UY654_QL65_.jpg 3x\"/></div></a>,\n",
       " <a class=\"a-link-normal s-no-outline\" href=\"/GOOGLE-PROFESSIONAL-DATA-ENGINEER-developing-ebook/dp/B08KPXSXH8/ref=sr_1_6?crid=3M8UI1BF4LLQ&amp;keywords=gcp+professional+data+engineering+books&amp;qid=1689155671&amp;sprefix=data+engineering+book%2Caps%2C374&amp;sr=8-6\" target=\"_blank\"><div class=\"a-section aok-relative s-image-fixed-height\"><img alt=\"GOOGLE PROFESSIONAL DATA ENGINEER: A handy guide to designing, developing, and managing engineer data solutions\" class=\"s-image\" data-image-index=\"6\" data-image-latency=\"s-product-image\" data-image-load=\"\" data-image-source-density=\"1\" src=\"https://m.media-amazon.com/images/I/71Ot+pfhG-L._AC_UY218_.jpg\" srcset=\"https://m.media-amazon.com/images/I/71Ot+pfhG-L._AC_UY218_.jpg 1x, https://m.media-amazon.com/images/I/71Ot+pfhG-L._AC_UY327_QL65_.jpg 1.5x, https://m.media-amazon.com/images/I/71Ot+pfhG-L._AC_UY436_QL65_.jpg 2x, https://m.media-amazon.com/images/I/71Ot+pfhG-L._AC_UY545_QL65_.jpg 2.5x, https://m.media-amazon.com/images/I/71Ot+pfhG-L._AC_UY654_QL65_.jpg 3x\"/></div></a>,\n",
       " <a class=\"a-link-normal s-no-outline\" href=\"/Professional-Cloud-Architect-Certification-enterprise-grade/dp/1838555277/ref=sr_1_7?crid=3M8UI1BF4LLQ&amp;keywords=gcp+professional+data+engineering+books&amp;qid=1689155671&amp;sprefix=data+engineering+book%2Caps%2C374&amp;sr=8-7\" target=\"_blank\"><div class=\"a-section aok-relative s-image-fixed-height\"><img alt=\"Professional Cloud Architect – Google Cloud Certification Guide: A handy guide to designing, developing, and managing ente...\" class=\"s-image\" data-image-index=\"7\" data-image-latency=\"s-product-image\" data-image-load=\"\" data-image-source-density=\"1\" src=\"https://m.media-amazon.com/images/I/710qkafpKGL._AC_UY218_.jpg\" srcset=\"https://m.media-amazon.com/images/I/710qkafpKGL._AC_UY218_.jpg 1x, https://m.media-amazon.com/images/I/710qkafpKGL._AC_UY327_QL65_.jpg 1.5x, https://m.media-amazon.com/images/I/710qkafpKGL._AC_UY436_QL65_.jpg 2x, https://m.media-amazon.com/images/I/710qkafpKGL._AC_UY545_QL65_.jpg 2.5x, https://m.media-amazon.com/images/I/710qkafpKGL._AC_UY654_QL65_.jpg 3x\"/></div></a>,\n",
       " <a class=\"a-link-normal s-no-outline\" href=\"/Succeed-Google-Professional-Engineer-Certification-ebook/dp/B0B4YGDHG8/ref=sr_1_8?crid=3M8UI1BF4LLQ&amp;keywords=gcp+professional+data+engineering+books&amp;qid=1689155671&amp;sprefix=data+engineering+book%2Caps%2C374&amp;sr=8-8\" target=\"_blank\"><div class=\"a-section aok-relative s-image-fixed-height\"><img alt=\"Succeed With Google Cloud Professional Data Engineer Certification Guide That Works For All: Questions and Answers With De...\" class=\"s-image\" data-image-index=\"8\" data-image-latency=\"s-product-image\" data-image-load=\"\" data-image-source-density=\"1\" src=\"https://m.media-amazon.com/images/I/61hZPH2DK8L._AC_UY218_.jpg\" srcset=\"https://m.media-amazon.com/images/I/61hZPH2DK8L._AC_UY218_.jpg 1x, https://m.media-amazon.com/images/I/61hZPH2DK8L._AC_UY327_QL65_.jpg 1.5x, https://m.media-amazon.com/images/I/61hZPH2DK8L._AC_UY436_QL65_.jpg 2x, https://m.media-amazon.com/images/I/61hZPH2DK8L._AC_UY545_QL65_.jpg 2.5x, https://m.media-amazon.com/images/I/61hZPH2DK8L._AC_UY654_QL65_.jpg 3x\"/></div></a>,\n",
       " <a class=\"a-link-normal s-no-outline\" href=\"/Google-Certified-Professional-Data-Engineer-ebook/dp/B09XR7CXNS/ref=sr_1_9?crid=3M8UI1BF4LLQ&amp;keywords=gcp+professional+data+engineering+books&amp;qid=1689155671&amp;sprefix=data+engineering+book%2Caps%2C374&amp;sr=8-9\" target=\"_blank\"><div class=\"a-section aok-relative s-image-fixed-height\"><img alt=\"Google Certified Professional Data Engineer: Exam Cram Notes: First Edition - 2022\" class=\"s-image\" data-image-index=\"9\" data-image-latency=\"s-product-image\" data-image-load=\"\" data-image-source-density=\"1\" src=\"https://m.media-amazon.com/images/I/61IJGxs-VrL._AC_UY218_.jpg\" srcset=\"https://m.media-amazon.com/images/I/61IJGxs-VrL._AC_UY218_.jpg 1x, https://m.media-amazon.com/images/I/61IJGxs-VrL._AC_UY327_QL65_.jpg 1.5x, https://m.media-amazon.com/images/I/61IJGxs-VrL._AC_UY436_QL65_.jpg 2x, https://m.media-amazon.com/images/I/61IJGxs-VrL._AC_UY545_QL65_.jpg 2.5x, https://m.media-amazon.com/images/I/61IJGxs-VrL._AC_UY654_QL65_.jpg 3x\"/></div></a>,\n",
       " <a class=\"a-link-normal s-no-outline\" href=\"/GCP-Associate-Cloud-Engineer-Examination-ebook/dp/B09KVDJMYF/ref=sr_1_10?crid=3M8UI1BF4LLQ&amp;keywords=gcp+professional+data+engineering+books&amp;qid=1689155671&amp;sprefix=data+engineering+book%2Caps%2C374&amp;sr=8-10\" target=\"_blank\"><div class=\"a-section aok-relative s-image-fixed-height\"><img alt=\"GCP Associate Cloud Engineer - Question With Answer [All MCQ]: 100% Guarantee You Will Pass The Examination\" class=\"s-image\" data-image-index=\"10\" data-image-latency=\"s-product-image\" data-image-load=\"\" data-image-source-density=\"1\" src=\"https://m.media-amazon.com/images/I/714Qj44vehL._AC_UY218_.jpg\" srcset=\"https://m.media-amazon.com/images/I/714Qj44vehL._AC_UY218_.jpg 1x, https://m.media-amazon.com/images/I/714Qj44vehL._AC_UY327_QL65_.jpg 1.5x, https://m.media-amazon.com/images/I/714Qj44vehL._AC_UY436_QL65_.jpg 2x, https://m.media-amazon.com/images/I/714Qj44vehL._AC_UY545_QL65_.jpg 2.5x, https://m.media-amazon.com/images/I/714Qj44vehL._AC_UY654_QL65_.jpg 3x\"/></div></a>,\n",
       " <a class=\"a-link-normal s-no-outline\" href=\"/Analytics-Subhashini-Chellappan-Seema-Acharya/dp/812657951X/ref=sr_1_11?crid=3M8UI1BF4LLQ&amp;keywords=gcp+professional+data+engineering+books&amp;qid=1689155671&amp;sprefix=data+engineering+book%2Caps%2C374&amp;sr=8-11\" target=\"_blank\"><div class=\"a-section aok-relative s-image-fixed-height\"><img alt=\"Big Data and Analytics, 2ed | IM | BS | e\" class=\"s-image\" data-image-index=\"11\" data-image-latency=\"s-product-image\" data-image-load=\"\" data-image-source-density=\"1\" src=\"https://m.media-amazon.com/images/I/71Kxb8HIqqL._AC_UY218_.jpg\" srcset=\"https://m.media-amazon.com/images/I/71Kxb8HIqqL._AC_UY218_.jpg 1x, https://m.media-amazon.com/images/I/71Kxb8HIqqL._AC_UY327_QL65_.jpg 1.5x, https://m.media-amazon.com/images/I/71Kxb8HIqqL._AC_UY436_QL65_.jpg 2x, https://m.media-amazon.com/images/I/71Kxb8HIqqL._AC_UY545_QL65_.jpg 2.5x, https://m.media-amazon.com/images/I/71Kxb8HIqqL._AC_UY654_QL65_.jpg 3x\"/></div></a>,\n",
       " <a class=\"a-link-normal s-no-outline\" href=\"/BigQuery-Data-Warehousing-Managed-Analysis/dp/1484261852/ref=sr_1_12?crid=3M8UI1BF4LLQ&amp;keywords=gcp+professional+data+engineering+books&amp;qid=1689155671&amp;sprefix=data+engineering+book%2Caps%2C374&amp;sr=8-12\" target=\"_blank\"><div class=\"a-section aok-relative s-image-fixed-height\"><img alt=\"BigQuery for Data Warehousing: Managed Data Analysis in the Google Cloud\" class=\"s-image\" data-image-index=\"12\" data-image-latency=\"s-product-image\" data-image-load=\"\" data-image-source-density=\"1\" src=\"https://m.media-amazon.com/images/I/61YBQaE3TAL._AC_UY218_.jpg\" srcset=\"https://m.media-amazon.com/images/I/61YBQaE3TAL._AC_UY218_.jpg 1x, https://m.media-amazon.com/images/I/61YBQaE3TAL._AC_UY327_QL65_.jpg 1.5x, https://m.media-amazon.com/images/I/61YBQaE3TAL._AC_UY436_QL65_.jpg 2x, https://m.media-amazon.com/images/I/61YBQaE3TAL._AC_UY545_QL65_.jpg 2.5x, https://m.media-amazon.com/images/I/61YBQaE3TAL._AC_UY654_QL65_.jpg 3x\"/></div></a>,\n",
       " <a class=\"a-link-normal s-no-outline\" href=\"/Google-Cloud-Certified-Associate-Engineer/dp/1119871441/ref=sr_1_13?crid=3M8UI1BF4LLQ&amp;keywords=gcp+professional+data+engineering+books&amp;qid=1689155671&amp;sprefix=data+engineering+book%2Caps%2C374&amp;sr=8-13\" target=\"_blank\"><div class=\"a-section aok-relative s-image-fixed-height\"><img alt=\"Google Cloud Certified Associate Cloud Engineer St udy Guide, 2nd edition\" class=\"s-image\" data-image-index=\"13\" data-image-latency=\"s-product-image\" data-image-load=\"\" data-image-source-density=\"1\" src=\"https://m.media-amazon.com/images/I/81SwsFQk7rL._AC_UY218_.jpg\" srcset=\"https://m.media-amazon.com/images/I/81SwsFQk7rL._AC_UY218_.jpg 1x, https://m.media-amazon.com/images/I/81SwsFQk7rL._AC_UY327_QL65_.jpg 1.5x, https://m.media-amazon.com/images/I/81SwsFQk7rL._AC_UY436_QL65_.jpg 2x, https://m.media-amazon.com/images/I/81SwsFQk7rL._AC_UY545_QL65_.jpg 2.5x, https://m.media-amazon.com/images/I/81SwsFQk7rL._AC_UY654_QL65_.jpg 3x\"/></div></a>,\n",
       " <a class=\"a-link-normal s-no-outline\" href=\"/Build-Analytics-Google-Cloud-Platform/dp/9389423635/ref=sr_1_14?crid=3M8UI1BF4LLQ&amp;keywords=gcp+professional+data+engineering+books&amp;qid=1689155671&amp;sprefix=data+engineering+book%2Caps%2C374&amp;sr=8-14\" target=\"_blank\"><div class=\"a-section aok-relative s-image-fixed-height\"><img alt=\"Data Analytics with Google Cloud Platform\" class=\"s-image\" data-image-index=\"14\" data-image-latency=\"s-product-image\" data-image-load=\"\" data-image-source-density=\"1\" src=\"https://m.media-amazon.com/images/I/51UuVx7P5lL._AC_UY218_.jpg\" srcset=\"https://m.media-amazon.com/images/I/51UuVx7P5lL._AC_UY218_.jpg 1x, https://m.media-amazon.com/images/I/51UuVx7P5lL._AC_UY327_QL65_.jpg 1.5x, https://m.media-amazon.com/images/I/51UuVx7P5lL._AC_UY436_QL65_.jpg 2x, https://m.media-amazon.com/images/I/51UuVx7P5lL._AC_UY500_QL65_.jpg 2.2935x\"/></div></a>,\n",
       " <a class=\"a-link-normal s-no-outline\" href=\"/Software-Engineering-Ian-Sommerville/dp/9332582696/ref=sr_1_15?crid=3M8UI1BF4LLQ&amp;keywords=gcp+professional+data+engineering+books&amp;qid=1689155671&amp;sprefix=data+engineering+book%2Caps%2C374&amp;sr=8-15\" target=\"_blank\"><div class=\"a-section aok-relative s-image-fixed-height\"><img alt=\"Software Engineering, 10/e\" class=\"s-image\" data-image-index=\"15\" data-image-latency=\"s-product-image\" data-image-load=\"\" data-image-source-density=\"1\" src=\"https://m.media-amazon.com/images/I/81iXn5LPFiL._AC_UY218_.jpg\" srcset=\"https://m.media-amazon.com/images/I/81iXn5LPFiL._AC_UY218_.jpg 1x, https://m.media-amazon.com/images/I/81iXn5LPFiL._AC_UY327_QL65_.jpg 1.5x, https://m.media-amazon.com/images/I/81iXn5LPFiL._AC_UY436_QL65_.jpg 2x, https://m.media-amazon.com/images/I/81iXn5LPFiL._AC_UY545_QL65_.jpg 2.5x, https://m.media-amazon.com/images/I/81iXn5LPFiL._AC_UY654_QL65_.jpg 3x\"/></div></a>,\n",
       " <a class=\"a-link-normal s-no-outline\" href=\"/Writing-Managing-SOPs-Susanne-Prokscha-ebook/dp/B0116R42LS/ref=sr_1_16?crid=3M8UI1BF4LLQ&amp;keywords=gcp+professional+data+engineering+books&amp;qid=1689155671&amp;sprefix=data+engineering+book%2Caps%2C374&amp;sr=8-16\" target=\"_blank\"><div class=\"a-section aok-relative s-image-fixed-height\"><img alt=\"Writing and Managing SOPs for GCP\" class=\"s-image\" data-image-index=\"16\" data-image-latency=\"s-product-image\" data-image-load=\"\" data-image-source-density=\"1\" src=\"https://m.media-amazon.com/images/I/71MGiA2tZ5L._AC_UY218_.jpg\" srcset=\"https://m.media-amazon.com/images/I/71MGiA2tZ5L._AC_UY218_.jpg 1x, https://m.media-amazon.com/images/I/71MGiA2tZ5L._AC_UY327_QL65_.jpg 1.5x, https://m.media-amazon.com/images/I/71MGiA2tZ5L._AC_UY436_QL65_.jpg 2x, https://m.media-amazon.com/images/I/71MGiA2tZ5L._AC_UY545_QL65_.jpg 2.5x, https://m.media-amazon.com/images/I/71MGiA2tZ5L._AC_UY654_QL65_.jpg 3x\"/></div></a>]"
      ]
     },
     "execution_count": 168,
     "metadata": {},
     "output_type": "execute_result"
    }
   ],
   "source": [
    "links = []\n",
    "\n",
    "for webpage in webpages:\n",
    "    # Soup Object containing all data\n",
    "    soup = BeautifulSoup(webpage.content, \"html.parser\")\n",
    "\n",
    "    # Fetch links as List of Tag Objects\n",
    "    links += soup.find_all(\"a\", attrs={'class':'a-link-normal s-no-outline'})\n",
    "\n",
    "links"
   ]
  },
  {
   "cell_type": "markdown",
   "metadata": {},
   "source": [
    "- ##### Filtering all the product links present in webpage"
   ]
  },
  {
   "cell_type": "code",
   "execution_count": 169,
   "metadata": {},
   "outputs": [
    {
     "data": {
      "text/plain": [
       "['/Official-Google-Certified-Professional-Engineer/dp/1119618436/ref=sr_1_1?crid=3M8UI1BF4LLQ&keywords=gcp+professional+data+engineering+books&qid=1689155655&sprefix=data+engineering+book%2Caps%2C374&sr=8-1',\n",
       " '/Google-Cloud-Platform-Data-Engineering-ebook/dp/B07ZGB4F7T/ref=sr_1_2?crid=3M8UI1BF4LLQ&keywords=gcp+professional+data+engineering+books&qid=1689155655&sprefix=data+engineering+book%2Caps%2C374&sr=8-2',\n",
       " '/Data-Engineering-Google-Cloud-Platform/dp/1800561326/ref=sr_1_3?crid=3M8UI1BF4LLQ&keywords=gcp+professional+data+engineering+books&qid=1689155655&sprefix=data+engineering+book%2Caps%2C374&sr=8-3',\n",
       " '/Google-Professional-Engineer-Certification-Incredibly-ebook/dp/B0B4XW1Q9R/ref=sr_1_4?crid=3M8UI1BF4LLQ&keywords=gcp+professional+data+engineering+books&qid=1689155655&sprefix=data+engineering+book%2Caps%2C374&sr=8-4',\n",
       " '/professional-engineer-mondaishu-mogimondaisyu-Japanese-ebook/dp/B09RHX4NQ4/ref=sr_1_5?crid=3M8UI1BF4LLQ&keywords=gcp+professional+data+engineering+books&qid=1689155655&sprefix=data+engineering+book%2Caps%2C374&sr=8-5',\n",
       " '/GOOGLE-PROFESSIONAL-DATA-ENGINEER-developing-ebook/dp/B08KPXSXH8/ref=sr_1_6?crid=3M8UI1BF4LLQ&keywords=gcp+professional+data+engineering+books&qid=1689155655&sprefix=data+engineering+book%2Caps%2C374&sr=8-6',\n",
       " '/Professional-Cloud-Architect-Certification-enterprise-grade/dp/1838555277/ref=sr_1_7?crid=3M8UI1BF4LLQ&keywords=gcp+professional+data+engineering+books&qid=1689155655&sprefix=data+engineering+book%2Caps%2C374&sr=8-7',\n",
       " '/Succeed-Google-Professional-Engineer-Certification-ebook/dp/B0B4YGDHG8/ref=sr_1_8?crid=3M8UI1BF4LLQ&keywords=gcp+professional+data+engineering+books&qid=1689155655&sprefix=data+engineering+book%2Caps%2C374&sr=8-8',\n",
       " '/Google-Certified-Professional-Data-Engineer-ebook/dp/B09XR7CXNS/ref=sr_1_9?crid=3M8UI1BF4LLQ&keywords=gcp+professional+data+engineering+books&qid=1689155655&sprefix=data+engineering+book%2Caps%2C374&sr=8-9',\n",
       " '/GCP-Associate-Cloud-Engineer-Examination-ebook/dp/B09KVDJMYF/ref=sr_1_10?crid=3M8UI1BF4LLQ&keywords=gcp+professional+data+engineering+books&qid=1689155655&sprefix=data+engineering+book%2Caps%2C374&sr=8-10',\n",
       " '/Analytics-Subhashini-Chellappan-Seema-Acharya/dp/812657951X/ref=sr_1_11?crid=3M8UI1BF4LLQ&keywords=gcp+professional+data+engineering+books&qid=1689155655&sprefix=data+engineering+book%2Caps%2C374&sr=8-11',\n",
       " '/BigQuery-Data-Warehousing-Managed-Analysis/dp/1484261852/ref=sr_1_12?crid=3M8UI1BF4LLQ&keywords=gcp+professional+data+engineering+books&qid=1689155655&sprefix=data+engineering+book%2Caps%2C374&sr=8-12',\n",
       " '/Google-Cloud-Certified-Associate-Engineer/dp/1119871441/ref=sr_1_13?crid=3M8UI1BF4LLQ&keywords=gcp+professional+data+engineering+books&qid=1689155655&sprefix=data+engineering+book%2Caps%2C374&sr=8-13',\n",
       " '/Build-Analytics-Google-Cloud-Platform/dp/9389423635/ref=sr_1_14?crid=3M8UI1BF4LLQ&keywords=gcp+professional+data+engineering+books&qid=1689155655&sprefix=data+engineering+book%2Caps%2C374&sr=8-14',\n",
       " '/Software-Engineering-Ian-Sommerville/dp/9332582696/ref=sr_1_15?crid=3M8UI1BF4LLQ&keywords=gcp+professional+data+engineering+books&qid=1689155655&sprefix=data+engineering+book%2Caps%2C374&sr=8-15',\n",
       " '/Writing-Managing-SOPs-Susanne-Prokscha-ebook/dp/B0116R42LS/ref=sr_1_16?crid=3M8UI1BF4LLQ&keywords=gcp+professional+data+engineering+books&qid=1689155655&sprefix=data+engineering+book%2Caps%2C374&sr=8-16',\n",
       " '/Official-Google-Certified-Professional-Engineer/dp/1119618436/ref=sr_1_1?crid=3M8UI1BF4LLQ&keywords=gcp+professional+data+engineering+books&qid=1689155658&sprefix=data+engineering+book%2Caps%2C374&sr=8-1',\n",
       " '/Google-Cloud-Platform-Data-Engineering-ebook/dp/B07ZGB4F7T/ref=sr_1_2?crid=3M8UI1BF4LLQ&keywords=gcp+professional+data+engineering+books&qid=1689155658&sprefix=data+engineering+book%2Caps%2C374&sr=8-2',\n",
       " '/Data-Engineering-Google-Cloud-Platform/dp/1800561326/ref=sr_1_3?crid=3M8UI1BF4LLQ&keywords=gcp+professional+data+engineering+books&qid=1689155658&sprefix=data+engineering+book%2Caps%2C374&sr=8-3',\n",
       " '/Google-Professional-Engineer-Certification-Incredibly-ebook/dp/B0B4XW1Q9R/ref=sr_1_4?crid=3M8UI1BF4LLQ&keywords=gcp+professional+data+engineering+books&qid=1689155658&sprefix=data+engineering+book%2Caps%2C374&sr=8-4',\n",
       " '/professional-engineer-mondaishu-mogimondaisyu-Japanese-ebook/dp/B09RHX4NQ4/ref=sr_1_5?crid=3M8UI1BF4LLQ&keywords=gcp+professional+data+engineering+books&qid=1689155658&sprefix=data+engineering+book%2Caps%2C374&sr=8-5',\n",
       " '/GOOGLE-PROFESSIONAL-DATA-ENGINEER-developing-ebook/dp/B08KPXSXH8/ref=sr_1_6?crid=3M8UI1BF4LLQ&keywords=gcp+professional+data+engineering+books&qid=1689155658&sprefix=data+engineering+book%2Caps%2C374&sr=8-6',\n",
       " '/Professional-Cloud-Architect-Certification-enterprise-grade/dp/1838555277/ref=sr_1_7?crid=3M8UI1BF4LLQ&keywords=gcp+professional+data+engineering+books&qid=1689155658&sprefix=data+engineering+book%2Caps%2C374&sr=8-7',\n",
       " '/Succeed-Google-Professional-Engineer-Certification-ebook/dp/B0B4YGDHG8/ref=sr_1_8?crid=3M8UI1BF4LLQ&keywords=gcp+professional+data+engineering+books&qid=1689155658&sprefix=data+engineering+book%2Caps%2C374&sr=8-8',\n",
       " '/Google-Certified-Professional-Data-Engineer-ebook/dp/B09XR7CXNS/ref=sr_1_9?crid=3M8UI1BF4LLQ&keywords=gcp+professional+data+engineering+books&qid=1689155658&sprefix=data+engineering+book%2Caps%2C374&sr=8-9',\n",
       " '/GCP-Associate-Cloud-Engineer-Examination-ebook/dp/B09KVDJMYF/ref=sr_1_10?crid=3M8UI1BF4LLQ&keywords=gcp+professional+data+engineering+books&qid=1689155658&sprefix=data+engineering+book%2Caps%2C374&sr=8-10',\n",
       " '/Analytics-Subhashini-Chellappan-Seema-Acharya/dp/812657951X/ref=sr_1_11?crid=3M8UI1BF4LLQ&keywords=gcp+professional+data+engineering+books&qid=1689155658&sprefix=data+engineering+book%2Caps%2C374&sr=8-11',\n",
       " '/BigQuery-Data-Warehousing-Managed-Analysis/dp/1484261852/ref=sr_1_12?crid=3M8UI1BF4LLQ&keywords=gcp+professional+data+engineering+books&qid=1689155658&sprefix=data+engineering+book%2Caps%2C374&sr=8-12',\n",
       " '/Google-Cloud-Certified-Associate-Engineer/dp/1119871441/ref=sr_1_13?crid=3M8UI1BF4LLQ&keywords=gcp+professional+data+engineering+books&qid=1689155658&sprefix=data+engineering+book%2Caps%2C374&sr=8-13',\n",
       " '/Build-Analytics-Google-Cloud-Platform/dp/9389423635/ref=sr_1_14?crid=3M8UI1BF4LLQ&keywords=gcp+professional+data+engineering+books&qid=1689155658&sprefix=data+engineering+book%2Caps%2C374&sr=8-14',\n",
       " '/Software-Engineering-Ian-Sommerville/dp/9332582696/ref=sr_1_15?crid=3M8UI1BF4LLQ&keywords=gcp+professional+data+engineering+books&qid=1689155658&sprefix=data+engineering+book%2Caps%2C374&sr=8-15',\n",
       " '/Writing-Managing-SOPs-Susanne-Prokscha-ebook/dp/B0116R42LS/ref=sr_1_16?crid=3M8UI1BF4LLQ&keywords=gcp+professional+data+engineering+books&qid=1689155658&sprefix=data+engineering+book%2Caps%2C374&sr=8-16',\n",
       " '/Official-Google-Certified-Professional-Engineer/dp/1119618436/ref=sr_1_1?crid=3M8UI1BF4LLQ&keywords=gcp+professional+data+engineering+books&qid=1689155660&sprefix=data+engineering+book%2Caps%2C374&sr=8-1',\n",
       " '/Google-Cloud-Platform-Data-Engineering-ebook/dp/B07ZGB4F7T/ref=sr_1_2?crid=3M8UI1BF4LLQ&keywords=gcp+professional+data+engineering+books&qid=1689155660&sprefix=data+engineering+book%2Caps%2C374&sr=8-2',\n",
       " '/Data-Engineering-Google-Cloud-Platform/dp/1800561326/ref=sr_1_3?crid=3M8UI1BF4LLQ&keywords=gcp+professional+data+engineering+books&qid=1689155660&sprefix=data+engineering+book%2Caps%2C374&sr=8-3',\n",
       " '/Google-Professional-Engineer-Certification-Incredibly-ebook/dp/B0B4XW1Q9R/ref=sr_1_4?crid=3M8UI1BF4LLQ&keywords=gcp+professional+data+engineering+books&qid=1689155660&sprefix=data+engineering+book%2Caps%2C374&sr=8-4',\n",
       " '/professional-engineer-mondaishu-mogimondaisyu-Japanese-ebook/dp/B09RHX4NQ4/ref=sr_1_5?crid=3M8UI1BF4LLQ&keywords=gcp+professional+data+engineering+books&qid=1689155660&sprefix=data+engineering+book%2Caps%2C374&sr=8-5',\n",
       " '/GOOGLE-PROFESSIONAL-DATA-ENGINEER-developing-ebook/dp/B08KPXSXH8/ref=sr_1_6?crid=3M8UI1BF4LLQ&keywords=gcp+professional+data+engineering+books&qid=1689155660&sprefix=data+engineering+book%2Caps%2C374&sr=8-6',\n",
       " '/Professional-Cloud-Architect-Certification-enterprise-grade/dp/1838555277/ref=sr_1_7?crid=3M8UI1BF4LLQ&keywords=gcp+professional+data+engineering+books&qid=1689155660&sprefix=data+engineering+book%2Caps%2C374&sr=8-7',\n",
       " '/Succeed-Google-Professional-Engineer-Certification-ebook/dp/B0B4YGDHG8/ref=sr_1_8?crid=3M8UI1BF4LLQ&keywords=gcp+professional+data+engineering+books&qid=1689155660&sprefix=data+engineering+book%2Caps%2C374&sr=8-8',\n",
       " '/Google-Certified-Professional-Data-Engineer-ebook/dp/B09XR7CXNS/ref=sr_1_9?crid=3M8UI1BF4LLQ&keywords=gcp+professional+data+engineering+books&qid=1689155660&sprefix=data+engineering+book%2Caps%2C374&sr=8-9',\n",
       " '/GCP-Associate-Cloud-Engineer-Examination-ebook/dp/B09KVDJMYF/ref=sr_1_10?crid=3M8UI1BF4LLQ&keywords=gcp+professional+data+engineering+books&qid=1689155660&sprefix=data+engineering+book%2Caps%2C374&sr=8-10',\n",
       " '/Analytics-Subhashini-Chellappan-Seema-Acharya/dp/812657951X/ref=sr_1_11?crid=3M8UI1BF4LLQ&keywords=gcp+professional+data+engineering+books&qid=1689155660&sprefix=data+engineering+book%2Caps%2C374&sr=8-11',\n",
       " '/BigQuery-Data-Warehousing-Managed-Analysis/dp/1484261852/ref=sr_1_12?crid=3M8UI1BF4LLQ&keywords=gcp+professional+data+engineering+books&qid=1689155660&sprefix=data+engineering+book%2Caps%2C374&sr=8-12',\n",
       " '/Google-Cloud-Certified-Associate-Engineer/dp/1119871441/ref=sr_1_13?crid=3M8UI1BF4LLQ&keywords=gcp+professional+data+engineering+books&qid=1689155660&sprefix=data+engineering+book%2Caps%2C374&sr=8-13',\n",
       " '/Build-Analytics-Google-Cloud-Platform/dp/9389423635/ref=sr_1_14?crid=3M8UI1BF4LLQ&keywords=gcp+professional+data+engineering+books&qid=1689155660&sprefix=data+engineering+book%2Caps%2C374&sr=8-14',\n",
       " '/Software-Engineering-Ian-Sommerville/dp/9332582696/ref=sr_1_15?crid=3M8UI1BF4LLQ&keywords=gcp+professional+data+engineering+books&qid=1689155660&sprefix=data+engineering+book%2Caps%2C374&sr=8-15',\n",
       " '/Writing-Managing-SOPs-Susanne-Prokscha-ebook/dp/B0116R42LS/ref=sr_1_16?crid=3M8UI1BF4LLQ&keywords=gcp+professional+data+engineering+books&qid=1689155660&sprefix=data+engineering+book%2Caps%2C374&sr=8-16',\n",
       " '/Official-Google-Certified-Professional-Engineer/dp/1119618436/ref=sr_1_1?crid=3M8UI1BF4LLQ&keywords=gcp+professional+data+engineering+books&qid=1689155663&sprefix=data+engineering+book%2Caps%2C374&sr=8-1',\n",
       " '/Google-Cloud-Platform-Data-Engineering-ebook/dp/B07ZGB4F7T/ref=sr_1_2?crid=3M8UI1BF4LLQ&keywords=gcp+professional+data+engineering+books&qid=1689155663&sprefix=data+engineering+book%2Caps%2C374&sr=8-2',\n",
       " '/Data-Engineering-Google-Cloud-Platform/dp/1800561326/ref=sr_1_3?crid=3M8UI1BF4LLQ&keywords=gcp+professional+data+engineering+books&qid=1689155663&sprefix=data+engineering+book%2Caps%2C374&sr=8-3',\n",
       " '/Google-Professional-Engineer-Certification-Incredibly-ebook/dp/B0B4XW1Q9R/ref=sr_1_4?crid=3M8UI1BF4LLQ&keywords=gcp+professional+data+engineering+books&qid=1689155663&sprefix=data+engineering+book%2Caps%2C374&sr=8-4',\n",
       " '/professional-engineer-mondaishu-mogimondaisyu-Japanese-ebook/dp/B09RHX4NQ4/ref=sr_1_5?crid=3M8UI1BF4LLQ&keywords=gcp+professional+data+engineering+books&qid=1689155663&sprefix=data+engineering+book%2Caps%2C374&sr=8-5',\n",
       " '/GOOGLE-PROFESSIONAL-DATA-ENGINEER-developing-ebook/dp/B08KPXSXH8/ref=sr_1_6?crid=3M8UI1BF4LLQ&keywords=gcp+professional+data+engineering+books&qid=1689155663&sprefix=data+engineering+book%2Caps%2C374&sr=8-6',\n",
       " '/Professional-Cloud-Architect-Certification-enterprise-grade/dp/1838555277/ref=sr_1_7?crid=3M8UI1BF4LLQ&keywords=gcp+professional+data+engineering+books&qid=1689155663&sprefix=data+engineering+book%2Caps%2C374&sr=8-7',\n",
       " '/Succeed-Google-Professional-Engineer-Certification-ebook/dp/B0B4YGDHG8/ref=sr_1_8?crid=3M8UI1BF4LLQ&keywords=gcp+professional+data+engineering+books&qid=1689155663&sprefix=data+engineering+book%2Caps%2C374&sr=8-8',\n",
       " '/Google-Certified-Professional-Data-Engineer-ebook/dp/B09XR7CXNS/ref=sr_1_9?crid=3M8UI1BF4LLQ&keywords=gcp+professional+data+engineering+books&qid=1689155663&sprefix=data+engineering+book%2Caps%2C374&sr=8-9',\n",
       " '/GCP-Associate-Cloud-Engineer-Examination-ebook/dp/B09KVDJMYF/ref=sr_1_10?crid=3M8UI1BF4LLQ&keywords=gcp+professional+data+engineering+books&qid=1689155663&sprefix=data+engineering+book%2Caps%2C374&sr=8-10',\n",
       " '/Analytics-Subhashini-Chellappan-Seema-Acharya/dp/812657951X/ref=sr_1_11?crid=3M8UI1BF4LLQ&keywords=gcp+professional+data+engineering+books&qid=1689155663&sprefix=data+engineering+book%2Caps%2C374&sr=8-11',\n",
       " '/BigQuery-Data-Warehousing-Managed-Analysis/dp/1484261852/ref=sr_1_12?crid=3M8UI1BF4LLQ&keywords=gcp+professional+data+engineering+books&qid=1689155663&sprefix=data+engineering+book%2Caps%2C374&sr=8-12',\n",
       " '/Google-Cloud-Certified-Associate-Engineer/dp/1119871441/ref=sr_1_13?crid=3M8UI1BF4LLQ&keywords=gcp+professional+data+engineering+books&qid=1689155663&sprefix=data+engineering+book%2Caps%2C374&sr=8-13',\n",
       " '/Build-Analytics-Google-Cloud-Platform/dp/9389423635/ref=sr_1_14?crid=3M8UI1BF4LLQ&keywords=gcp+professional+data+engineering+books&qid=1689155663&sprefix=data+engineering+book%2Caps%2C374&sr=8-14',\n",
       " '/Software-Engineering-Ian-Sommerville/dp/9332582696/ref=sr_1_15?crid=3M8UI1BF4LLQ&keywords=gcp+professional+data+engineering+books&qid=1689155663&sprefix=data+engineering+book%2Caps%2C374&sr=8-15',\n",
       " '/Writing-Managing-SOPs-Susanne-Prokscha-ebook/dp/B0116R42LS/ref=sr_1_16?crid=3M8UI1BF4LLQ&keywords=gcp+professional+data+engineering+books&qid=1689155663&sprefix=data+engineering+book%2Caps%2C374&sr=8-16',\n",
       " '/Official-Google-Certified-Professional-Engineer/dp/1119618436/ref=sr_1_1?crid=3M8UI1BF4LLQ&keywords=gcp+professional+data+engineering+books&qid=1689155666&sprefix=data+engineering+book%2Caps%2C374&sr=8-1',\n",
       " '/Google-Cloud-Platform-Data-Engineering-ebook/dp/B07ZGB4F7T/ref=sr_1_2?crid=3M8UI1BF4LLQ&keywords=gcp+professional+data+engineering+books&qid=1689155666&sprefix=data+engineering+book%2Caps%2C374&sr=8-2',\n",
       " '/Data-Engineering-Google-Cloud-Platform/dp/1800561326/ref=sr_1_3?crid=3M8UI1BF4LLQ&keywords=gcp+professional+data+engineering+books&qid=1689155666&sprefix=data+engineering+book%2Caps%2C374&sr=8-3',\n",
       " '/Google-Professional-Engineer-Certification-Incredibly-ebook/dp/B0B4XW1Q9R/ref=sr_1_4?crid=3M8UI1BF4LLQ&keywords=gcp+professional+data+engineering+books&qid=1689155666&sprefix=data+engineering+book%2Caps%2C374&sr=8-4',\n",
       " '/professional-engineer-mondaishu-mogimondaisyu-Japanese-ebook/dp/B09RHX4NQ4/ref=sr_1_5?crid=3M8UI1BF4LLQ&keywords=gcp+professional+data+engineering+books&qid=1689155666&sprefix=data+engineering+book%2Caps%2C374&sr=8-5',\n",
       " '/GOOGLE-PROFESSIONAL-DATA-ENGINEER-developing-ebook/dp/B08KPXSXH8/ref=sr_1_6?crid=3M8UI1BF4LLQ&keywords=gcp+professional+data+engineering+books&qid=1689155666&sprefix=data+engineering+book%2Caps%2C374&sr=8-6',\n",
       " '/Professional-Cloud-Architect-Certification-enterprise-grade/dp/1838555277/ref=sr_1_7?crid=3M8UI1BF4LLQ&keywords=gcp+professional+data+engineering+books&qid=1689155666&sprefix=data+engineering+book%2Caps%2C374&sr=8-7',\n",
       " '/Succeed-Google-Professional-Engineer-Certification-ebook/dp/B0B4YGDHG8/ref=sr_1_8?crid=3M8UI1BF4LLQ&keywords=gcp+professional+data+engineering+books&qid=1689155666&sprefix=data+engineering+book%2Caps%2C374&sr=8-8',\n",
       " '/Google-Certified-Professional-Data-Engineer-ebook/dp/B09XR7CXNS/ref=sr_1_9?crid=3M8UI1BF4LLQ&keywords=gcp+professional+data+engineering+books&qid=1689155666&sprefix=data+engineering+book%2Caps%2C374&sr=8-9',\n",
       " '/GCP-Associate-Cloud-Engineer-Examination-ebook/dp/B09KVDJMYF/ref=sr_1_10?crid=3M8UI1BF4LLQ&keywords=gcp+professional+data+engineering+books&qid=1689155666&sprefix=data+engineering+book%2Caps%2C374&sr=8-10',\n",
       " '/Analytics-Subhashini-Chellappan-Seema-Acharya/dp/812657951X/ref=sr_1_11?crid=3M8UI1BF4LLQ&keywords=gcp+professional+data+engineering+books&qid=1689155666&sprefix=data+engineering+book%2Caps%2C374&sr=8-11',\n",
       " '/BigQuery-Data-Warehousing-Managed-Analysis/dp/1484261852/ref=sr_1_12?crid=3M8UI1BF4LLQ&keywords=gcp+professional+data+engineering+books&qid=1689155666&sprefix=data+engineering+book%2Caps%2C374&sr=8-12',\n",
       " '/Google-Cloud-Certified-Associate-Engineer/dp/1119871441/ref=sr_1_13?crid=3M8UI1BF4LLQ&keywords=gcp+professional+data+engineering+books&qid=1689155666&sprefix=data+engineering+book%2Caps%2C374&sr=8-13',\n",
       " '/Build-Analytics-Google-Cloud-Platform/dp/9389423635/ref=sr_1_14?crid=3M8UI1BF4LLQ&keywords=gcp+professional+data+engineering+books&qid=1689155666&sprefix=data+engineering+book%2Caps%2C374&sr=8-14',\n",
       " '/Software-Engineering-Ian-Sommerville/dp/9332582696/ref=sr_1_15?crid=3M8UI1BF4LLQ&keywords=gcp+professional+data+engineering+books&qid=1689155666&sprefix=data+engineering+book%2Caps%2C374&sr=8-15',\n",
       " '/Writing-Managing-SOPs-Susanne-Prokscha-ebook/dp/B0116R42LS/ref=sr_1_16?crid=3M8UI1BF4LLQ&keywords=gcp+professional+data+engineering+books&qid=1689155666&sprefix=data+engineering+book%2Caps%2C374&sr=8-16',\n",
       " '/Official-Google-Certified-Professional-Engineer/dp/1119618436/ref=sr_1_1?crid=3M8UI1BF4LLQ&keywords=gcp+professional+data+engineering+books&qid=1689155669&sprefix=data+engineering+book%2Caps%2C374&sr=8-1',\n",
       " '/Google-Cloud-Platform-Data-Engineering-ebook/dp/B07ZGB4F7T/ref=sr_1_2?crid=3M8UI1BF4LLQ&keywords=gcp+professional+data+engineering+books&qid=1689155669&sprefix=data+engineering+book%2Caps%2C374&sr=8-2',\n",
       " '/Data-Engineering-Google-Cloud-Platform/dp/1800561326/ref=sr_1_3?crid=3M8UI1BF4LLQ&keywords=gcp+professional+data+engineering+books&qid=1689155669&sprefix=data+engineering+book%2Caps%2C374&sr=8-3',\n",
       " '/Google-Professional-Engineer-Certification-Incredibly-ebook/dp/B0B4XW1Q9R/ref=sr_1_4?crid=3M8UI1BF4LLQ&keywords=gcp+professional+data+engineering+books&qid=1689155669&sprefix=data+engineering+book%2Caps%2C374&sr=8-4',\n",
       " '/professional-engineer-mondaishu-mogimondaisyu-Japanese-ebook/dp/B09RHX4NQ4/ref=sr_1_5?crid=3M8UI1BF4LLQ&keywords=gcp+professional+data+engineering+books&qid=1689155669&sprefix=data+engineering+book%2Caps%2C374&sr=8-5',\n",
       " '/GOOGLE-PROFESSIONAL-DATA-ENGINEER-developing-ebook/dp/B08KPXSXH8/ref=sr_1_6?crid=3M8UI1BF4LLQ&keywords=gcp+professional+data+engineering+books&qid=1689155669&sprefix=data+engineering+book%2Caps%2C374&sr=8-6',\n",
       " '/Professional-Cloud-Architect-Certification-enterprise-grade/dp/1838555277/ref=sr_1_7?crid=3M8UI1BF4LLQ&keywords=gcp+professional+data+engineering+books&qid=1689155669&sprefix=data+engineering+book%2Caps%2C374&sr=8-7',\n",
       " '/Succeed-Google-Professional-Engineer-Certification-ebook/dp/B0B4YGDHG8/ref=sr_1_8?crid=3M8UI1BF4LLQ&keywords=gcp+professional+data+engineering+books&qid=1689155669&sprefix=data+engineering+book%2Caps%2C374&sr=8-8',\n",
       " '/Google-Certified-Professional-Data-Engineer-ebook/dp/B09XR7CXNS/ref=sr_1_9?crid=3M8UI1BF4LLQ&keywords=gcp+professional+data+engineering+books&qid=1689155669&sprefix=data+engineering+book%2Caps%2C374&sr=8-9',\n",
       " '/GCP-Associate-Cloud-Engineer-Examination-ebook/dp/B09KVDJMYF/ref=sr_1_10?crid=3M8UI1BF4LLQ&keywords=gcp+professional+data+engineering+books&qid=1689155669&sprefix=data+engineering+book%2Caps%2C374&sr=8-10',\n",
       " '/Analytics-Subhashini-Chellappan-Seema-Acharya/dp/812657951X/ref=sr_1_11?crid=3M8UI1BF4LLQ&keywords=gcp+professional+data+engineering+books&qid=1689155669&sprefix=data+engineering+book%2Caps%2C374&sr=8-11',\n",
       " '/BigQuery-Data-Warehousing-Managed-Analysis/dp/1484261852/ref=sr_1_12?crid=3M8UI1BF4LLQ&keywords=gcp+professional+data+engineering+books&qid=1689155669&sprefix=data+engineering+book%2Caps%2C374&sr=8-12',\n",
       " '/Google-Cloud-Certified-Associate-Engineer/dp/1119871441/ref=sr_1_13?crid=3M8UI1BF4LLQ&keywords=gcp+professional+data+engineering+books&qid=1689155669&sprefix=data+engineering+book%2Caps%2C374&sr=8-13',\n",
       " '/Build-Analytics-Google-Cloud-Platform/dp/9389423635/ref=sr_1_14?crid=3M8UI1BF4LLQ&keywords=gcp+professional+data+engineering+books&qid=1689155669&sprefix=data+engineering+book%2Caps%2C374&sr=8-14',\n",
       " '/Software-Engineering-Ian-Sommerville/dp/9332582696/ref=sr_1_15?crid=3M8UI1BF4LLQ&keywords=gcp+professional+data+engineering+books&qid=1689155669&sprefix=data+engineering+book%2Caps%2C374&sr=8-15',\n",
       " '/Writing-Managing-SOPs-Susanne-Prokscha-ebook/dp/B0116R42LS/ref=sr_1_16?crid=3M8UI1BF4LLQ&keywords=gcp+professional+data+engineering+books&qid=1689155669&sprefix=data+engineering+book%2Caps%2C374&sr=8-16',\n",
       " '/Official-Google-Certified-Professional-Engineer/dp/1119618436/ref=sr_1_1?crid=3M8UI1BF4LLQ&keywords=gcp+professional+data+engineering+books&qid=1689155671&sprefix=data+engineering+book%2Caps%2C374&sr=8-1',\n",
       " '/Google-Cloud-Platform-Data-Engineering-ebook/dp/B07ZGB4F7T/ref=sr_1_2?crid=3M8UI1BF4LLQ&keywords=gcp+professional+data+engineering+books&qid=1689155671&sprefix=data+engineering+book%2Caps%2C374&sr=8-2',\n",
       " '/Data-Engineering-Google-Cloud-Platform/dp/1800561326/ref=sr_1_3?crid=3M8UI1BF4LLQ&keywords=gcp+professional+data+engineering+books&qid=1689155671&sprefix=data+engineering+book%2Caps%2C374&sr=8-3',\n",
       " '/Google-Professional-Engineer-Certification-Incredibly-ebook/dp/B0B4XW1Q9R/ref=sr_1_4?crid=3M8UI1BF4LLQ&keywords=gcp+professional+data+engineering+books&qid=1689155671&sprefix=data+engineering+book%2Caps%2C374&sr=8-4',\n",
       " '/professional-engineer-mondaishu-mogimondaisyu-Japanese-ebook/dp/B09RHX4NQ4/ref=sr_1_5?crid=3M8UI1BF4LLQ&keywords=gcp+professional+data+engineering+books&qid=1689155671&sprefix=data+engineering+book%2Caps%2C374&sr=8-5',\n",
       " '/GOOGLE-PROFESSIONAL-DATA-ENGINEER-developing-ebook/dp/B08KPXSXH8/ref=sr_1_6?crid=3M8UI1BF4LLQ&keywords=gcp+professional+data+engineering+books&qid=1689155671&sprefix=data+engineering+book%2Caps%2C374&sr=8-6',\n",
       " '/Professional-Cloud-Architect-Certification-enterprise-grade/dp/1838555277/ref=sr_1_7?crid=3M8UI1BF4LLQ&keywords=gcp+professional+data+engineering+books&qid=1689155671&sprefix=data+engineering+book%2Caps%2C374&sr=8-7',\n",
       " '/Succeed-Google-Professional-Engineer-Certification-ebook/dp/B0B4YGDHG8/ref=sr_1_8?crid=3M8UI1BF4LLQ&keywords=gcp+professional+data+engineering+books&qid=1689155671&sprefix=data+engineering+book%2Caps%2C374&sr=8-8',\n",
       " '/Google-Certified-Professional-Data-Engineer-ebook/dp/B09XR7CXNS/ref=sr_1_9?crid=3M8UI1BF4LLQ&keywords=gcp+professional+data+engineering+books&qid=1689155671&sprefix=data+engineering+book%2Caps%2C374&sr=8-9',\n",
       " '/GCP-Associate-Cloud-Engineer-Examination-ebook/dp/B09KVDJMYF/ref=sr_1_10?crid=3M8UI1BF4LLQ&keywords=gcp+professional+data+engineering+books&qid=1689155671&sprefix=data+engineering+book%2Caps%2C374&sr=8-10',\n",
       " '/Analytics-Subhashini-Chellappan-Seema-Acharya/dp/812657951X/ref=sr_1_11?crid=3M8UI1BF4LLQ&keywords=gcp+professional+data+engineering+books&qid=1689155671&sprefix=data+engineering+book%2Caps%2C374&sr=8-11',\n",
       " '/BigQuery-Data-Warehousing-Managed-Analysis/dp/1484261852/ref=sr_1_12?crid=3M8UI1BF4LLQ&keywords=gcp+professional+data+engineering+books&qid=1689155671&sprefix=data+engineering+book%2Caps%2C374&sr=8-12',\n",
       " '/Google-Cloud-Certified-Associate-Engineer/dp/1119871441/ref=sr_1_13?crid=3M8UI1BF4LLQ&keywords=gcp+professional+data+engineering+books&qid=1689155671&sprefix=data+engineering+book%2Caps%2C374&sr=8-13',\n",
       " '/Build-Analytics-Google-Cloud-Platform/dp/9389423635/ref=sr_1_14?crid=3M8UI1BF4LLQ&keywords=gcp+professional+data+engineering+books&qid=1689155671&sprefix=data+engineering+book%2Caps%2C374&sr=8-14',\n",
       " '/Software-Engineering-Ian-Sommerville/dp/9332582696/ref=sr_1_15?crid=3M8UI1BF4LLQ&keywords=gcp+professional+data+engineering+books&qid=1689155671&sprefix=data+engineering+book%2Caps%2C374&sr=8-15',\n",
       " '/Writing-Managing-SOPs-Susanne-Prokscha-ebook/dp/B0116R42LS/ref=sr_1_16?crid=3M8UI1BF4LLQ&keywords=gcp+professional+data+engineering+books&qid=1689155671&sprefix=data+engineering+book%2Caps%2C374&sr=8-16']"
      ]
     },
     "execution_count": 169,
     "metadata": {},
     "output_type": "execute_result"
    }
   ],
   "source": [
    "# Store the links\n",
    "links_list = []\n",
    "\n",
    "# Loop for extracting links from Tag Objects\n",
    "for link in links:\n",
    "        links_list.append(link.get('href'))\n",
    "links_list"
   ]
  },
  {
   "cell_type": "markdown",
   "metadata": {},
   "source": [
    "- ##### Now fetching all required data for every product"
   ]
  },
  {
   "cell_type": "code",
   "execution_count": 170,
   "metadata": {},
   "outputs": [],
   "source": [
    "d = {\"title\":[], \"price\":[], \"rating\":[], \"reviews\":[],\"availability\":[]}\n",
    "\n",
    "# Loop for extracting product details from each link \n",
    "for link in links_list:\n",
    "    new_webpage = requests.get(\"https://www.amazon.in\" + link, headers=HEADERS)\n",
    "\n",
    "    retry_count = 10\n",
    "    while(retry_count and new_webpage.status_code != 200):\n",
    "        new_webpage = requests.get(\"https://www.amazon.in\" + link, headers=HEADERS)\n",
    "    retry_count-=1\n",
    "    if retry_count == 0:\n",
    "        print('Unable to fetch data for {}, try after sometime!!'.format(link))\n",
    "        continue\n",
    "\n",
    "    new_soup = BeautifulSoup(new_webpage.content, \"html.parser\")\n",
    "\n",
    "\n",
    "\n",
    "    # Function calls to display all necessary product information\n",
    "    d['title'].append(get_title(new_soup))\n",
    "    d['price'].append(get_price(new_soup))\n",
    "    d['rating'].append(get_rating(new_soup))\n",
    "    d['reviews'].append(get_review_count(new_soup))\n",
    "    d['availability'].append(get_availability(new_soup))\n"
   ]
  },
  {
   "cell_type": "markdown",
   "metadata": {},
   "source": [
    "- ##### Creating Pandas Data Frame "
   ]
  },
  {
   "cell_type": "code",
   "execution_count": 171,
   "metadata": {},
   "outputs": [],
   "source": [
    "amazon_df = pd.DataFrame.from_dict(d)\n",
    "amazon_df['title'].replace('', np.nan, inplace=True)\n",
    "amazon_df = amazon_df.dropna(subset=['title'])\n",
    "amazon_df.to_csv(\"amazon_data.csv\", header=True, index=False)"
   ]
  },
  {
   "cell_type": "markdown",
   "metadata": {},
   "source": [
    "### Final Result"
   ]
  },
  {
   "cell_type": "code",
   "execution_count": 172,
   "metadata": {},
   "outputs": [
    {
     "data": {
      "text/html": [
       "<div>\n",
       "<style scoped>\n",
       "    .dataframe tbody tr th:only-of-type {\n",
       "        vertical-align: middle;\n",
       "    }\n",
       "\n",
       "    .dataframe tbody tr th {\n",
       "        vertical-align: top;\n",
       "    }\n",
       "\n",
       "    .dataframe thead th {\n",
       "        text-align: right;\n",
       "    }\n",
       "</style>\n",
       "<table border=\"1\" class=\"dataframe\">\n",
       "  <thead>\n",
       "    <tr style=\"text-align: right;\">\n",
       "      <th></th>\n",
       "      <th>title</th>\n",
       "      <th>price</th>\n",
       "      <th>rating</th>\n",
       "      <th>reviews</th>\n",
       "      <th>availability</th>\n",
       "    </tr>\n",
       "  </thead>\n",
       "  <tbody>\n",
       "    <tr>\n",
       "      <th>0</th>\n",
       "      <td>GOOGLE CLOUD CERTIFIED PROFESSIONAL DATA</td>\n",
       "      <td>₹3,136.00</td>\n",
       "      <td>4.5 out of 5 stars</td>\n",
       "      <td>204 ratings</td>\n",
       "      <td>In stock</td>\n",
       "    </tr>\n",
       "    <tr>\n",
       "      <th>1</th>\n",
       "      <td>Google Cloud Platform for Data Engineering: Le...</td>\n",
       "      <td></td>\n",
       "      <td>3.3 out of 5 stars</td>\n",
       "      <td>3 ratings</td>\n",
       "      <td></td>\n",
       "    </tr>\n",
       "    <tr>\n",
       "      <th>2</th>\n",
       "      <td>Data Engineering with Google Cloud Platform: A...</td>\n",
       "      <td>₹3,228.00</td>\n",
       "      <td>4.7 out of 5 stars</td>\n",
       "      <td>13 ratings</td>\n",
       "      <td>In stock</td>\n",
       "    </tr>\n",
       "    <tr>\n",
       "      <th>4</th>\n",
       "      <td>google cloud professional data engineer mogi m...</td>\n",
       "      <td></td>\n",
       "      <td>3.7 out of 5 stars</td>\n",
       "      <td>9 ratings</td>\n",
       "      <td></td>\n",
       "    </tr>\n",
       "    <tr>\n",
       "      <th>6</th>\n",
       "      <td>Professional Cloud Architect – Google Cloud Ce...</td>\n",
       "      <td>₹2,601.00</td>\n",
       "      <td>4.3 out of 5 stars</td>\n",
       "      <td>55 ratings</td>\n",
       "      <td>In stock</td>\n",
       "    </tr>\n",
       "    <tr>\n",
       "      <th>...</th>\n",
       "      <td>...</td>\n",
       "      <td>...</td>\n",
       "      <td>...</td>\n",
       "      <td>...</td>\n",
       "      <td>...</td>\n",
       "    </tr>\n",
       "    <tr>\n",
       "      <th>106</th>\n",
       "      <td>Big Data and Analytics, 2ed | IM | BS | e</td>\n",
       "      <td>₹568.00</td>\n",
       "      <td>4.4 out of 5 stars</td>\n",
       "      <td>96 ratings</td>\n",
       "      <td>In stock</td>\n",
       "    </tr>\n",
       "    <tr>\n",
       "      <th>107</th>\n",
       "      <td>BigQuery for Data Warehousing: Managed Data An...</td>\n",
       "      <td>₹4,521.00</td>\n",
       "      <td>3.2 out of 5 stars</td>\n",
       "      <td>5 ratings</td>\n",
       "      <td>In stock</td>\n",
       "    </tr>\n",
       "    <tr>\n",
       "      <th>109</th>\n",
       "      <td>Data Analytics with Google Cloud Platform</td>\n",
       "      <td>₹719.00</td>\n",
       "      <td>3.7 out of 5 stars</td>\n",
       "      <td>32 ratings</td>\n",
       "      <td>In stock</td>\n",
       "    </tr>\n",
       "    <tr>\n",
       "      <th>110</th>\n",
       "      <td>Software Engineering, 10/e</td>\n",
       "      <td>₹689.00</td>\n",
       "      <td>4.2 out of 5 stars</td>\n",
       "      <td>169 ratings</td>\n",
       "      <td></td>\n",
       "    </tr>\n",
       "    <tr>\n",
       "      <th>111</th>\n",
       "      <td>Writing and Managing SOPs for GCP</td>\n",
       "      <td></td>\n",
       "      <td>3.9 out of 5 stars</td>\n",
       "      <td>3 ratings</td>\n",
       "      <td></td>\n",
       "    </tr>\n",
       "  </tbody>\n",
       "</table>\n",
       "<p>62 rows × 5 columns</p>\n",
       "</div>"
      ],
      "text/plain": [
       "                                                 title      price  \\\n",
       "0             GOOGLE CLOUD CERTIFIED PROFESSIONAL DATA  ₹3,136.00   \n",
       "1    Google Cloud Platform for Data Engineering: Le...              \n",
       "2    Data Engineering with Google Cloud Platform: A...  ₹3,228.00   \n",
       "4    google cloud professional data engineer mogi m...              \n",
       "6    Professional Cloud Architect – Google Cloud Ce...  ₹2,601.00   \n",
       "..                                                 ...        ...   \n",
       "106          Big Data and Analytics, 2ed | IM | BS | e    ₹568.00   \n",
       "107  BigQuery for Data Warehousing: Managed Data An...  ₹4,521.00   \n",
       "109          Data Analytics with Google Cloud Platform    ₹719.00   \n",
       "110                         Software Engineering, 10/e    ₹689.00   \n",
       "111                  Writing and Managing SOPs for GCP              \n",
       "\n",
       "                 rating      reviews availability  \n",
       "0    4.5 out of 5 stars  204 ratings     In stock  \n",
       "1    3.3 out of 5 stars    3 ratings               \n",
       "2    4.7 out of 5 stars   13 ratings     In stock  \n",
       "4    3.7 out of 5 stars    9 ratings               \n",
       "6    4.3 out of 5 stars   55 ratings     In stock  \n",
       "..                  ...          ...          ...  \n",
       "106  4.4 out of 5 stars   96 ratings     In stock  \n",
       "107  3.2 out of 5 stars    5 ratings     In stock  \n",
       "109  3.7 out of 5 stars   32 ratings     In stock  \n",
       "110  4.2 out of 5 stars  169 ratings               \n",
       "111  3.9 out of 5 stars    3 ratings               \n",
       "\n",
       "[62 rows x 5 columns]"
      ]
     },
     "execution_count": 172,
     "metadata": {},
     "output_type": "execute_result"
    }
   ],
   "source": [
    "amazon_df"
   ]
  },
  {
   "cell_type": "code",
   "execution_count": null,
   "metadata": {},
   "outputs": [],
   "source": []
  }
 ],
 "metadata": {
  "kernelspec": {
   "display_name": "Python 3",
   "language": "python",
   "name": "python3"
  },
  "language_info": {
   "codemirror_mode": {
    "name": "ipython",
    "version": 3
   },
   "file_extension": ".py",
   "mimetype": "text/x-python",
   "name": "python",
   "nbconvert_exporter": "python",
   "pygments_lexer": "ipython3",
   "version": "3.8.10"
  },
  "orig_nbformat": 4
 },
 "nbformat": 4,
 "nbformat_minor": 2
}
